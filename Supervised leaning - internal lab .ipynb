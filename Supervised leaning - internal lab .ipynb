{
 "cells": [
  {
   "cell_type": "markdown",
   "metadata": {},
   "source": [
    "# Internal Lab \n",
    "\n"
   ]
  },
  {
   "cell_type": "markdown",
   "metadata": {},
   "source": [
    "# Multiple Linear Regression\n",
    "\n",
    "## Problem Statement\n",
    "\n",
    "Use Multiple Linear Regression to **predict the consumption of petrol** given relevant variables are the petrol tax, the per capita, income, the number of miles of paved highway, and the proportion of the population with driver's licenses.\n",
    "\n",
    "## Dataset\n",
    "\n",
    "There are 48 rows of data.  The data include:\n",
    "\n",
    "      I,  the index;\n",
    "      A1, the petrol tax;\n",
    "      A2, the per capita income;\n",
    "      A3, the number of miles of paved highway;\n",
    "      A4, the proportion of drivers;\n",
    "      B,  the consumption of petrol.\n",
    "\n",
    "### Reference \n",
    "\n",
    "    Helmut Spaeth,\n",
    "    Mathematical Algorithms for Linear Regression,\n",
    "    Academic Press, 1991,\n",
    "    ISBN 0-12-656460-4.\n",
    "\n",
    "    S Weisberg,\n",
    "    Applied Linear Regression,\n",
    "    New York, 1980, pages 32-33.\n",
    "\n",
    "## Question 1 - Exploratory Data Analysis\n",
    "\n",
    "*Read the dataset given in file named **'petrol.csv'**. Check the statistical details of the dataset.*\n",
    "\n",
    "**Hint:** You can use **df.describe()**"
   ]
  },
  {
   "cell_type": "code",
   "execution_count": 396,
   "metadata": {},
   "outputs": [
    {
     "data": {
      "text/html": [
       "<div>\n",
       "<style scoped>\n",
       "    .dataframe tbody tr th:only-of-type {\n",
       "        vertical-align: middle;\n",
       "    }\n",
       "\n",
       "    .dataframe tbody tr th {\n",
       "        vertical-align: top;\n",
       "    }\n",
       "\n",
       "    .dataframe thead th {\n",
       "        text-align: right;\n",
       "    }\n",
       "</style>\n",
       "<table border=\"1\" class=\"dataframe\">\n",
       "  <thead>\n",
       "    <tr style=\"text-align: right;\">\n",
       "      <th></th>\n",
       "      <th>count</th>\n",
       "      <th>mean</th>\n",
       "      <th>std</th>\n",
       "      <th>min</th>\n",
       "      <th>25%</th>\n",
       "      <th>50%</th>\n",
       "      <th>75%</th>\n",
       "      <th>max</th>\n",
       "    </tr>\n",
       "  </thead>\n",
       "  <tbody>\n",
       "    <tr>\n",
       "      <th>tax</th>\n",
       "      <td>48.0</td>\n",
       "      <td>7.668333</td>\n",
       "      <td>0.950770</td>\n",
       "      <td>5.000</td>\n",
       "      <td>7.00000</td>\n",
       "      <td>7.5000</td>\n",
       "      <td>8.12500</td>\n",
       "      <td>10.000</td>\n",
       "    </tr>\n",
       "    <tr>\n",
       "      <th>income</th>\n",
       "      <td>48.0</td>\n",
       "      <td>4241.833333</td>\n",
       "      <td>573.623768</td>\n",
       "      <td>3063.000</td>\n",
       "      <td>3739.00000</td>\n",
       "      <td>4298.0000</td>\n",
       "      <td>4578.75000</td>\n",
       "      <td>5342.000</td>\n",
       "    </tr>\n",
       "    <tr>\n",
       "      <th>highway</th>\n",
       "      <td>48.0</td>\n",
       "      <td>5565.416667</td>\n",
       "      <td>3491.507166</td>\n",
       "      <td>431.000</td>\n",
       "      <td>3110.25000</td>\n",
       "      <td>4735.5000</td>\n",
       "      <td>7156.00000</td>\n",
       "      <td>17782.000</td>\n",
       "    </tr>\n",
       "    <tr>\n",
       "      <th>dl</th>\n",
       "      <td>48.0</td>\n",
       "      <td>0.570333</td>\n",
       "      <td>0.055470</td>\n",
       "      <td>0.451</td>\n",
       "      <td>0.52975</td>\n",
       "      <td>0.5645</td>\n",
       "      <td>0.59525</td>\n",
       "      <td>0.724</td>\n",
       "    </tr>\n",
       "    <tr>\n",
       "      <th>consumption</th>\n",
       "      <td>48.0</td>\n",
       "      <td>576.770833</td>\n",
       "      <td>111.885816</td>\n",
       "      <td>344.000</td>\n",
       "      <td>509.50000</td>\n",
       "      <td>568.5000</td>\n",
       "      <td>632.75000</td>\n",
       "      <td>968.000</td>\n",
       "    </tr>\n",
       "  </tbody>\n",
       "</table>\n",
       "</div>"
      ],
      "text/plain": [
       "             count         mean          std       min         25%        50%  \\\n",
       "tax           48.0     7.668333     0.950770     5.000     7.00000     7.5000   \n",
       "income        48.0  4241.833333   573.623768  3063.000  3739.00000  4298.0000   \n",
       "highway       48.0  5565.416667  3491.507166   431.000  3110.25000  4735.5000   \n",
       "dl            48.0     0.570333     0.055470     0.451     0.52975     0.5645   \n",
       "consumption   48.0   576.770833   111.885816   344.000   509.50000   568.5000   \n",
       "\n",
       "                    75%        max  \n",
       "tax             8.12500     10.000  \n",
       "income       4578.75000   5342.000  \n",
       "highway      7156.00000  17782.000  \n",
       "dl              0.59525      0.724  \n",
       "consumption   632.75000    968.000  "
      ]
     },
     "execution_count": 396,
     "metadata": {},
     "output_type": "execute_result"
    }
   ],
   "source": [
    "import pandas as pd\n",
    "import numpy as np\n",
    "petrol_df = pd.read_csv('petrol.csv',skipinitialspace= True)\n",
    "petrol_df.describe().transpose()"
   ]
  },
  {
   "cell_type": "markdown",
   "metadata": {},
   "source": [
    "# Question 2 - Cap outliers \n",
    "\n",
    "Find the outliers and cap them. (Use (Q1 - 1.5 * IQR) as the minimum cap and (Q3 + 1.5 * IQR) as the max cap. The decision criteria is you should consider the datapoints which only falls within this range. The data points which fall outside this range are outliers and the entire row needs to be removed"
   ]
  },
  {
   "cell_type": "code",
   "execution_count": 397,
   "metadata": {},
   "outputs": [
    {
     "name": "stdout",
     "output_type": "stream",
     "text": [
      "<class 'pandas.core.frame.DataFrame'>\n",
      "RangeIndex: 48 entries, 0 to 47\n",
      "Data columns (total 5 columns):\n",
      "tax            48 non-null float64\n",
      "income         48 non-null int64\n",
      "highway        48 non-null int64\n",
      "dl             48 non-null float64\n",
      "consumption    48 non-null int64\n",
      "dtypes: float64(2), int64(3)\n",
      "memory usage: 2.0 KB\n",
      "None\n",
      "tax            2\n",
      "income         0\n",
      "highway        2\n",
      "dl             1\n",
      "consumption    2\n",
      "dtype: int64\n",
      "<class 'pandas.core.frame.DataFrame'>\n",
      "Int64Index: 43 entries, 0 to 47\n",
      "Data columns (total 5 columns):\n",
      "tax            43 non-null float64\n",
      "income         43 non-null int64\n",
      "highway        43 non-null float64\n",
      "dl             43 non-null float64\n",
      "consumption    43 non-null float64\n",
      "dtypes: float64(4), int64(1)\n",
      "memory usage: 2.0 KB\n"
     ]
    }
   ],
   "source": [
    "print(petrol_df.info()) # no null values\n",
    "IQR = petrol_df.quantile(0.75) - petrol_df.quantile(0.25) # calculating IQR to detect outliers\n",
    "Whisker = 1.5 * IQR # whisker\n",
    "L_whisker = petrol_df.quantile(0.25) - Whisker # Lower bound range\n",
    "H_whisker = petrol_df.quantile(0.75) + Whisker # upper bound range\n",
    "petrol_df = petrol_df[~((petrol_df < L_whisker) | (petrol_df > H_whisker))] # Replaces the outliers with na values\n",
    "print(petrol_df.isna().sum()) # 5 records with outliers\n",
    "petrol_df.dropna(inplace=True) # remove entire row which contains outliers\n",
    "petrol_df.info()"
   ]
  },
  {
   "cell_type": "markdown",
   "metadata": {},
   "source": [
    "# Question 3 - Independent variables and collinearity \n",
    "Which attributes seems to have stronger association with the dependent variable consumption?"
   ]
  },
  {
   "cell_type": "code",
   "execution_count": 398,
   "metadata": {},
   "outputs": [
    {
     "name": "stdout",
     "output_type": "stream",
     "text": [
      "<class 'pandas.core.frame.DataFrame'>\n",
      "Int64Index: 43 entries, 0 to 47\n",
      "Data columns (total 5 columns):\n",
      "tax            43 non-null float64\n",
      "income         43 non-null int64\n",
      "highway        43 non-null float64\n",
      "dl             43 non-null float64\n",
      "consumption    43 non-null float64\n",
      "dtypes: float64(4), int64(1)\n",
      "memory usage: 2.0 KB\n"
     ]
    },
    {
     "data": {
      "text/plain": [
       "(5.0, 0.0)"
      ]
     },
     "execution_count": 398,
     "metadata": {},
     "output_type": "execute_result"
    },
    {
     "data": {
      "image/png": "[encoded data removed]",
      "text/plain": [
       "<Figure size 432x288 with 2 Axes>"
      ]
     },
     "metadata": {
      "needs_background": "light"
     },
     "output_type": "display_data"
    }
   ],
   "source": [
    "petrol_df_1 = pd.DataFrame.copy(petrol_df)\n",
    "petrol_df_1.info()\n",
    "ax = sns.heatmap(petrol_df_1.corr(),annot = True)\n",
    "bottom, top = ax.get_ylim()\n",
    "ax.set_ylim(bottom + 0.5, top - 0.5)\n",
    "# Postive correlation between dl(proportion of drivers) and Consumption --> +0.70\n",
    "# Negative correlation between tax and consumption --> -0.45"
   ]
  },
  {
   "cell_type": "code",
   "execution_count": 399,
   "metadata": {},
   "outputs": [
    {
     "name": "stdout",
     "output_type": "stream",
     "text": [
      "(43, 3)\n"
     ]
    }
   ],
   "source": [
    "# dropping highway and income columns which has correlation +/- 0.4\n",
    "petrol_df_1.drop(petrol_df_1.loc[:, (petrol_df_1.corr()['consumption'].between(-0.4, 0.4))],axis =1, inplace = True)\n",
    "print(petrol_df_1.shape)"
   ]
  },
  {
   "cell_type": "markdown",
   "metadata": {},
   "source": [
    "### Observing the above correlation values between all the variables, we can see that there is stronger association between the number of drivers and consumption. And comparatively tax has an association in a negative way. \n",
    "Insights :\n",
    "As tax increases the consumption decreases.\n",
    "As number of drivers is more consumption is more"
   ]
  },
  {
   "cell_type": "markdown",
   "metadata": {},
   "source": [
    "# Question 4 - Transform the dataset \n",
    "Divide the data into feature(X) and target(Y) sets."
   ]
  },
  {
   "cell_type": "code",
   "execution_count": 400,
   "metadata": {},
   "outputs": [],
   "source": [
    "# Divide the Data in to Target and Features\n",
    "y = petrol_df_1['consumption'] # Target Variable\n",
    "X = petrol_df_1.drop(['consumption'],axis=1) # Independent Variables"
   ]
  },
  {
   "cell_type": "code",
   "execution_count": 401,
   "metadata": {},
   "outputs": [],
   "source": [
    "from sklearn import preprocessing\n",
    "X = preprocessing.scale(X)\n",
    "X = pd.DataFrame(X)"
   ]
  },
  {
   "cell_type": "markdown",
   "metadata": {},
   "source": [
    "# Question 5 - Split data into train, test sets \n",
    "Divide the data into training and test sets with 80-20 split using scikit-learn. Print the shapes of training and test feature sets."
   ]
  },
  {
   "cell_type": "code",
   "execution_count": 402,
   "metadata": {},
   "outputs": [],
   "source": [
    "from sklearn.model_selection import train_test_split\n",
    "X_train, X_test, y_train, y_test = train_test_split(X,y, test_size = 0.20,random_state = 10)"
   ]
  },
  {
   "cell_type": "markdown",
   "metadata": {},
   "source": [
    "# Question 6 - Build Model \n",
    "Estimate the coefficients for each input feature. Construct and display a dataframe with coefficients and X.columns as columns"
   ]
  },
  {
   "cell_type": "code",
   "execution_count": 403,
   "metadata": {},
   "outputs": [
    {
     "data": {
      "text/plain": [
       "LinearRegression(copy_X=True, fit_intercept=True, n_jobs=None, normalize=False)"
      ]
     },
     "execution_count": 403,
     "metadata": {},
     "output_type": "execute_result"
    }
   ],
   "source": [
    "from sklearn import linear_model\n",
    "import matplotlib.pyplot as plt\n",
    "regr = linear_model.LinearRegression()\n",
    "regr.fit(X_train,y_train)"
   ]
  },
  {
   "cell_type": "code",
   "execution_count": 404,
   "metadata": {},
   "outputs": [
    {
     "name": "stdout",
     "output_type": "stream",
     "text": [
      "The coefficient for tax is -21.489086956160875\n",
      "The coefficient for dl is 47.13210348769698\n"
     ]
    },
    {
     "data": {
      "text/html": [
       "<div>\n",
       "<style scoped>\n",
       "    .dataframe tbody tr th:only-of-type {\n",
       "        vertical-align: middle;\n",
       "    }\n",
       "\n",
       "    .dataframe tbody tr th {\n",
       "        vertical-align: top;\n",
       "    }\n",
       "\n",
       "    .dataframe thead th {\n",
       "        text-align: right;\n",
       "    }\n",
       "</style>\n",
       "<table border=\"1\" class=\"dataframe\">\n",
       "  <thead>\n",
       "    <tr style=\"text-align: right;\">\n",
       "      <th></th>\n",
       "      <th>tax</th>\n",
       "      <th>dl</th>\n",
       "      <th>constant</th>\n",
       "    </tr>\n",
       "  </thead>\n",
       "  <tbody>\n",
       "    <tr>\n",
       "      <th>0</th>\n",
       "      <td>-21.489087</td>\n",
       "      <td>47.132103</td>\n",
       "      <td>568.167555</td>\n",
       "    </tr>\n",
       "  </tbody>\n",
       "</table>\n",
       "</div>"
      ],
      "text/plain": [
       "         tax         dl    constant\n",
       "0 -21.489087  47.132103  568.167555"
      ]
     },
     "execution_count": 404,
     "metadata": {},
     "output_type": "execute_result"
    }
   ],
   "source": [
    "model_df_1 = pd.DataFrame(regr.coef_).transpose()\n",
    "model_df_1.columns = petrol_df_1.columns[:-1]\n",
    "model_df_1['constant'] = regr.intercept_\n",
    "#Linear Regression equation is as follows,\n",
    "for idx, col_name in enumerate(model_df_1.columns[:-1]):\n",
    "    print('The coefficient for {} is {}'.format(col_name, regr.coef_[idx]))\n",
    "model_df_1"
   ]
  },
  {
   "cell_type": "markdown",
   "metadata": {},
   "source": [
    "# R-Square "
   ]
  },
  {
   "cell_type": "markdown",
   "metadata": {},
   "source": [
    "# Question 7 - Evaluate the model \n",
    "Calculate the accuracy score for the above model."
   ]
  },
  {
   "cell_type": "code",
   "execution_count": 405,
   "metadata": {},
   "outputs": [
    {
     "name": "stdout",
     "output_type": "stream",
     "text": [
      "[486.60535214 533.80613461 542.01233527 526.17742144 657.59925272\n",
      " 586.38654137 548.03019266 678.63019359 594.95744666]\n",
      "r-squared 0.6353615496819156\n",
      "rmse 0.6353615496819156\n"
     ]
    }
   ],
   "source": [
    "import math\n",
    "#Equation for Multiple linear regession for tax and Dl is f(consumption) = -21.489087*tax + 41.132103 * d1 + 568.167555\n",
    "r2_score= regr.score(X_test,y_test)\n",
    "mse = np.mean((regr.predict(X_test)-y_test)**2)\n",
    "rmse = math.sqrt(mse)\n",
    "y_pred = regr.predict(X_test)\n",
    "print(y_pred)\n",
    "print('r-squared',r2_score)\n",
    "print('rmse',r2_score)"
   ]
  },
  {
   "cell_type": "markdown",
   "metadata": {},
   "source": [
    "# Question 8: Repeat the same Multi linear regression modelling by adding both Income and Highway features\n",
    "Find R2 \n"
   ]
  },
  {
   "cell_type": "code",
   "execution_count": 406,
   "metadata": {},
   "outputs": [],
   "source": [
    "# Divide the Data in to Target and Features Target variable 'Consumption' to be passed\n",
    "petrol_df_2 = pd.DataFrame.copy(petrol_df)\n",
    "y = petrol_df_2['consumption'] # Target Variable\n",
    "X = petrol_df_2.drop(['consumption'],axis=1) # Independent Variables"
   ]
  },
  {
   "cell_type": "code",
   "execution_count": 407,
   "metadata": {},
   "outputs": [],
   "source": [
    "#scale the dimensions using Zscores\n",
    "from sklearn import preprocessing\n",
    "X = preprocessing.scale(X)\n",
    "X = pd.DataFrame(X)"
   ]
  },
  {
   "cell_type": "code",
   "execution_count": 408,
   "metadata": {},
   "outputs": [],
   "source": [
    "from sklearn.model_selection import train_test_split\n",
    "X_train, X_test, y_train, y_test = train_test_split(X,y, test_size = 0.20,random_state = 10)"
   ]
  },
  {
   "cell_type": "code",
   "execution_count": 409,
   "metadata": {},
   "outputs": [
    {
     "data": {
      "text/plain": [
       "LinearRegression(copy_X=True, fit_intercept=True, n_jobs=None, normalize=False)"
      ]
     },
     "execution_count": 409,
     "metadata": {},
     "output_type": "execute_result"
    }
   ],
   "source": [
    "from sklearn import linear_model\n",
    "import matplotlib.pyplot as plt\n",
    "regr = linear_model.LinearRegression()\n",
    "regr.fit(X_train,y_train)"
   ]
  },
  {
   "cell_type": "markdown",
   "metadata": {},
   "source": [
    "# Question 9: Print the coefficients of the multilinear regression model"
   ]
  },
  {
   "cell_type": "code",
   "execution_count": 410,
   "metadata": {},
   "outputs": [
    {
     "name": "stdout",
     "output_type": "stream",
     "text": [
      "The coefficient for tax is -30.224316379796132\n",
      "The coefficient for income is -40.92498458469183\n",
      "The coefficient for highway is -6.633501569937856\n",
      "The coefficient for dl is 47.565670661416824\n"
     ]
    },
    {
     "data": {
      "text/html": [
       "<div>\n",
       "<style scoped>\n",
       "    .dataframe tbody tr th:only-of-type {\n",
       "        vertical-align: middle;\n",
       "    }\n",
       "\n",
       "    .dataframe tbody tr th {\n",
       "        vertical-align: top;\n",
       "    }\n",
       "\n",
       "    .dataframe thead th {\n",
       "        text-align: right;\n",
       "    }\n",
       "</style>\n",
       "<table border=\"1\" class=\"dataframe\">\n",
       "  <thead>\n",
       "    <tr style=\"text-align: right;\">\n",
       "      <th></th>\n",
       "      <th>tax</th>\n",
       "      <th>income</th>\n",
       "      <th>highway</th>\n",
       "      <th>dl</th>\n",
       "      <th>constant</th>\n",
       "    </tr>\n",
       "  </thead>\n",
       "  <tbody>\n",
       "    <tr>\n",
       "      <th>0</th>\n",
       "      <td>-30.224316</td>\n",
       "      <td>-40.924985</td>\n",
       "      <td>-6.633502</td>\n",
       "      <td>47.565671</td>\n",
       "      <td>568.889001</td>\n",
       "    </tr>\n",
       "  </tbody>\n",
       "</table>\n",
       "</div>"
      ],
      "text/plain": [
       "         tax     income   highway         dl    constant\n",
       "0 -30.224316 -40.924985 -6.633502  47.565671  568.889001"
      ]
     },
     "execution_count": 410,
     "metadata": {},
     "output_type": "execute_result"
    }
   ],
   "source": [
    "model_df_2 = pd.DataFrame(regr.coef_).transpose()\n",
    "model_df_2.columns = petrol_df_2.columns[:-1]\n",
    "model_df_2['constant'] = regr.intercept_\n",
    "#Linear Regression equation is as follows,\n",
    "for idx, col_name in enumerate(model_df_2.columns[:-1]):\n",
    "    print('The coefficient for {} is {}'.format(col_name, regr.coef_[idx]))\n",
    "model_df_2"
   ]
  },
  {
   "cell_type": "code",
   "execution_count": 411,
   "metadata": {},
   "outputs": [
    {
     "name": "stdout",
     "output_type": "stream",
     "text": [
      "[536.62781002 503.52858489 586.38778768 496.04527382 693.1357544\n",
      " 605.45655697 567.81103646 651.26883362 544.96539447]\n",
      "r-squared 0.8050813179069416\n",
      "rmse 0.8050813179069416\n"
     ]
    }
   ],
   "source": [
    "import math\n",
    "#Equation for Multiple linear regession for tax,income,highway and Dl is \n",
    "# f(consumption) = -30.224316 * tax - 40.924985 * income -6.633502*highway+47.565671*dl + 568.889001\n",
    "r2_score= regr.score(X_test,y_test)\n",
    "mse = np.mean((regr.predict(X_test)-y_test)**2)\n",
    "rmse = math.sqrt(mse)\n",
    "y_pred = regr.predict(X_test)\n",
    "print(y_pred)\n",
    "print('r-squared',r2_score)\n",
    "print('rmse',r2_score)"
   ]
  },
  {
   "cell_type": "markdown",
   "metadata": {},
   "source": [
    "# Question 10 \n",
    "In one or two sentences give reasoning on R-Square on the basis of above findings\n",
    "Answer"
   ]
  },
  {
   "cell_type": "markdown",
   "metadata": {},
   "source": [
    "##### The residual mean sum of squares/R-squared value has increased while using all the 4 independent variables compared to using two independent variables which has strong correlation with the target variable consumption, this may be due to collinearity between the independent variables Tax and income(-0.11), Tax and highway(-0.39), Tax and dl(-0.45) all of them are negatively correlated i.e. Petrol Tax increase will have negative impact in income, number of miles paved in highway and proprotion of drivers"
   ]
  },
  {
   "cell_type": "markdown",
   "metadata": {},
   "source": [
    "#### The variability of the data increased when using multiple independent variables and also reduced the accuracy of the predictions. It is a good practice to drop the independent variables which has weak correlation with the target variable, as this reduces the overall accuracy of prediction. Howver, as a word of caution, it is critical to take this decision only with the advice from the domain expert"
   ]
  },
  {
   "cell_type": "markdown",
   "metadata": {},
   "source": [
    "#### R2 for Model 1 = 0.63 better than R2 for model 2 = 0.80, lower the R2, better will be the model"
   ]
  }
 ],
 "metadata": {
  "kernelspec": {
   "display_name": "Python 3",
   "language": "python",
   "name": "python3"
  },
  "language_info": {
   "codemirror_mode": {
    "name": "ipython",
    "version": 3
   },
   "file_extension": ".py",
   "mimetype": "text/x-python",
   "name": "python",
   "nbconvert_exporter": "python",
   "pygments_lexer": "ipython3",
   "version": "3.7.4"
  }
 },
 "nbformat": 4,
 "nbformat_minor": 2
}
