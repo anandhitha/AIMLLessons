{
 "cells": [
  {
   "cell_type": "markdown",
   "metadata": {
    "id": "YeoiMbH7djEv"
   },
   "source": [
    "# Stock prices dataset\n",
    "The data is of tock exchange's stock listings for each trading day of 2010 to 2016.\n",
    "\n",
    "## Description\n",
    "A brief description of columns.\n",
    "- open: The opening market price of the equity symbol on the date\n",
    "- high: The highest market price of the equity symbol on the date\n",
    "- low: The lowest recorded market price of the equity symbol on the date\n",
    "- close: The closing recorded price of the equity symbol on the date\n",
    "- symbol: Symbol of the listed company\n",
    "- volume: Total traded volume of the equity symbol on the date\n",
    "- date: Date of record"
   ]
  },
  {
   "cell_type": "markdown",
   "metadata": {
    "id": "RSoYY2nII_UW"
   },
   "source": [
    "In this assignment, we will work on the stock prices dataset named \"prices.csv\". Task is to create a Neural Network to classify closing price for a stock based on some parameters."
   ]
  },
  {
   "cell_type": "code",
   "execution_count": null,
   "metadata": {
    "collapsed": true,
    "id": "PGqq9f8VdLba"
   },
   "outputs": [],
   "source": [
    "# Initialize the random number generator\n",
    "import random\n",
    "random.seed(0)\n",
    "\n",
    "# Ignore the warnings\n",
    "import warnings\n",
    "warnings.filterwarnings(\"ignore\")"
   ]
  },
  {
   "cell_type": "markdown",
   "metadata": {
    "id": "_88voqAH-O6J"
   },
   "source": [
    "## Question 1"
   ]
  },
  {
   "cell_type": "markdown",
   "metadata": {
    "id": "dRHCeJqP-evf"
   },
   "source": [
    "### Load the data\n",
    "- load the csv file and read it using pandas\n",
    "- file name is prices.csv"
   ]
  },
  {
   "cell_type": "code",
   "execution_count": null,
   "metadata": {
    "colab": {
     "base_uri": "https://localhost:8080/"
    },
    "executionInfo": {
     "elapsed": 1282,
     "status": "ok",
     "timestamp": 1606023337511,
     "user": {
      "displayName": "Anand Gopalakrishnan",
      "photoUrl": "https://lh3.googleusercontent.com/a-/AOh14Gj78BSx50xkeKpClswTXOSqYJ9J9N-abY3FY5GLLoo=s64",
      "userId": "00801219883072908955"
     },
     "user_tz": -330
    },
    "id": "OIzY14y7D7Mu",
    "outputId": "0c80bd58-ecce-4f90-bb75-9baa53ff5faa"
   },
   "outputs": [
    {
     "name": "stdout",
     "output_type": "stream",
     "text": [
      "Drive already mounted at /content/drive; to attempt to forcibly remount, call drive.mount(\"/content/drive\", force_remount=True).\n"
     ]
    }
   ],
   "source": [
    "from google.colab import drive\n",
    "drive.mount('/content/drive')"
   ]
  },
  {
   "cell_type": "code",
   "execution_count": null,
   "metadata": {
    "collapsed": true,
    "id": "-szK7vhdDJ5o"
   },
   "outputs": [],
   "source": [
    "import pandas as pd\n",
    "stock_df = pd.read_csv('/content/drive/MyDrive/Colab Notebooks/Lab/prices.csv')"
   ]
  },
  {
   "cell_type": "markdown",
   "metadata": {
    "id": "HlLKVPVH_BCT"
   },
   "source": [
    "## Question 2"
   ]
  },
  {
   "cell_type": "markdown",
   "metadata": {
    "id": "ZxoGynuBeO4t"
   },
   "source": [
    "### Drop null\n",
    "- Drop null values if any"
   ]
  },
  {
   "cell_type": "code",
   "execution_count": null,
   "metadata": {
    "collapsed": true,
    "id": "_yuwJJIeeUaD"
   },
   "outputs": [],
   "source": [
    "if (stock_df.isna().sum().sum() > 0):\n",
    "  stock_df.dropna(inplace = True)"
   ]
  },
  {
   "cell_type": "markdown",
   "metadata": {
    "id": "9J4BlzVA_gZd"
   },
   "source": [
    "### Drop columns\n",
    "- Now, we don't need \"date\", \"volume\" and \"symbol\" column\n",
    "- drop \"date\", \"volume\" and \"symbol\" column from the data\n"
   ]
  },
  {
   "cell_type": "code",
   "execution_count": null,
   "metadata": {
    "collapsed": true,
    "id": "IKEK8aEE_Csx"
   },
   "outputs": [],
   "source": [
    "stock_df.drop([\"date\",\"symbol\",\"volume\"], axis =1, inplace = True)"
   ]
  },
  {
   "cell_type": "markdown",
   "metadata": {
    "id": "cTPhO6v-AiZt"
   },
   "source": [
    "## Question 3"
   ]
  },
  {
   "cell_type": "markdown",
   "metadata": {
    "id": "SsZXmF3NAkna"
   },
   "source": [
    "### Print the dataframe\n",
    "- print the modified dataframe"
   ]
  },
  {
   "cell_type": "code",
   "execution_count": null,
   "metadata": {
    "colab": {
     "base_uri": "https://localhost:8080/",
     "height": 419
    },
    "executionInfo": {
     "elapsed": 900,
     "status": "ok",
     "timestamp": 1606027135670,
     "user": {
      "displayName": "Anand Gopalakrishnan",
      "photoUrl": "https://lh3.googleusercontent.com/a-/AOh14Gj78BSx50xkeKpClswTXOSqYJ9J9N-abY3FY5GLLoo=s64",
      "userId": "00801219883072908955"
     },
     "user_tz": -330
    },
    "id": "aKs04iIHAjxN",
    "outputId": "bbc6419d-fa23-4cc3-d001-09ff4d921fac"
   },
   "outputs": [
    {
     "data": {
      "text/html": [
       "<div>\n",
       "<style scoped>\n",
       "    .dataframe tbody tr th:only-of-type {\n",
       "        vertical-align: middle;\n",
       "    }\n",
       "\n",
       "    .dataframe tbody tr th {\n",
       "        vertical-align: top;\n",
       "    }\n",
       "\n",
       "    .dataframe thead th {\n",
       "        text-align: right;\n",
       "    }\n",
       "</style>\n",
       "<table border=\"1\" class=\"dataframe\">\n",
       "  <thead>\n",
       "    <tr style=\"text-align: right;\">\n",
       "      <th></th>\n",
       "      <th>open</th>\n",
       "      <th>close</th>\n",
       "      <th>low</th>\n",
       "      <th>high</th>\n",
       "    </tr>\n",
       "  </thead>\n",
       "  <tbody>\n",
       "    <tr>\n",
       "      <th>0</th>\n",
       "      <td>123.430000</td>\n",
       "      <td>125.839996</td>\n",
       "      <td>122.309998</td>\n",
       "      <td>126.250000</td>\n",
       "    </tr>\n",
       "    <tr>\n",
       "      <th>1</th>\n",
       "      <td>125.239998</td>\n",
       "      <td>119.980003</td>\n",
       "      <td>119.940002</td>\n",
       "      <td>125.540001</td>\n",
       "    </tr>\n",
       "    <tr>\n",
       "      <th>2</th>\n",
       "      <td>116.379997</td>\n",
       "      <td>114.949997</td>\n",
       "      <td>114.930000</td>\n",
       "      <td>119.739998</td>\n",
       "    </tr>\n",
       "    <tr>\n",
       "      <th>3</th>\n",
       "      <td>115.480003</td>\n",
       "      <td>116.620003</td>\n",
       "      <td>113.500000</td>\n",
       "      <td>117.440002</td>\n",
       "    </tr>\n",
       "    <tr>\n",
       "      <th>4</th>\n",
       "      <td>117.010002</td>\n",
       "      <td>114.970001</td>\n",
       "      <td>114.089996</td>\n",
       "      <td>117.330002</td>\n",
       "    </tr>\n",
       "    <tr>\n",
       "      <th>...</th>\n",
       "      <td>...</td>\n",
       "      <td>...</td>\n",
       "      <td>...</td>\n",
       "      <td>...</td>\n",
       "    </tr>\n",
       "    <tr>\n",
       "      <th>851259</th>\n",
       "      <td>103.309998</td>\n",
       "      <td>103.199997</td>\n",
       "      <td>102.849998</td>\n",
       "      <td>103.930000</td>\n",
       "    </tr>\n",
       "    <tr>\n",
       "      <th>851260</th>\n",
       "      <td>43.070000</td>\n",
       "      <td>43.040001</td>\n",
       "      <td>42.689999</td>\n",
       "      <td>43.310001</td>\n",
       "    </tr>\n",
       "    <tr>\n",
       "      <th>851261</th>\n",
       "      <td>53.639999</td>\n",
       "      <td>53.529999</td>\n",
       "      <td>53.270000</td>\n",
       "      <td>53.740002</td>\n",
       "    </tr>\n",
       "    <tr>\n",
       "      <th>851262</th>\n",
       "      <td>44.730000</td>\n",
       "      <td>45.450001</td>\n",
       "      <td>44.410000</td>\n",
       "      <td>45.590000</td>\n",
       "    </tr>\n",
       "    <tr>\n",
       "      <th>851263</th>\n",
       "      <td>54.200001</td>\n",
       "      <td>53.630001</td>\n",
       "      <td>53.389999</td>\n",
       "      <td>54.480000</td>\n",
       "    </tr>\n",
       "  </tbody>\n",
       "</table>\n",
       "<p>851264 rows × 4 columns</p>\n",
       "</div>"
      ],
      "text/plain": [
       "              open       close         low        high\n",
       "0       123.430000  125.839996  122.309998  126.250000\n",
       "1       125.239998  119.980003  119.940002  125.540001\n",
       "2       116.379997  114.949997  114.930000  119.739998\n",
       "3       115.480003  116.620003  113.500000  117.440002\n",
       "4       117.010002  114.970001  114.089996  117.330002\n",
       "...            ...         ...         ...         ...\n",
       "851259  103.309998  103.199997  102.849998  103.930000\n",
       "851260   43.070000   43.040001   42.689999   43.310001\n",
       "851261   53.639999   53.529999   53.270000   53.740002\n",
       "851262   44.730000   45.450001   44.410000   45.590000\n",
       "851263   54.200001   53.630001   53.389999   54.480000\n",
       "\n",
       "[851264 rows x 4 columns]"
      ]
     },
     "execution_count": 274,
     "metadata": {
      "tags": []
     },
     "output_type": "execute_result"
    }
   ],
   "source": [
    "stock_df"
   ]
  },
  {
   "cell_type": "markdown",
   "metadata": {
    "id": "C8u_jlbABTip"
   },
   "source": [
    "### Get features and label from the dataset in separate variable\n",
    "- Let's separate labels and features now. We are going to predict the value for \"close\" column so that will be our label. Our features will be \"open\", \"low\", \"high\"\n",
    "- Take \"open\" \"low\", \"high\" columns as features\n",
    "- Take \"close\" column as label"
   ]
  },
  {
   "cell_type": "code",
   "execution_count": null,
   "metadata": {
    "collapsed": true,
    "id": "xQjCMzUXBJbg"
   },
   "outputs": [],
   "source": [
    "y = stock_df[\"close\"]\n",
    "X = stock_df.drop([\"close\"],axis=1)"
   ]
  },
  {
   "cell_type": "markdown",
   "metadata": {
    "id": "6vGtnapgBIJm"
   },
   "source": [
    "## Question 4"
   ]
  },
  {
   "cell_type": "markdown",
   "metadata": {
    "id": "8pZAKdJ5gcrm"
   },
   "source": [
    "### Create train and test sets\n",
    "- Split the data into training and testing"
   ]
  },
  {
   "cell_type": "code",
   "execution_count": null,
   "metadata": {
    "collapsed": true,
    "id": "KalRqA6Rgqsn"
   },
   "outputs": [],
   "source": [
    "from sklearn.model_selection import train_test_split\n",
    "X_train,X_test,y_train,y_test = train_test_split(X,y,test_size=0.2,random_state=1)"
   ]
  },
  {
   "cell_type": "markdown",
   "metadata": {
    "id": "aTAKzlxZBz0z"
   },
   "source": [
    "## Question 5"
   ]
  },
  {
   "cell_type": "markdown",
   "metadata": {
    "id": "O7BU2qxEg0Ki"
   },
   "source": [
    "### Scaling\n",
    "- Scale the data (features only)\n",
    "- Use StandarScaler"
   ]
  },
  {
   "cell_type": "code",
   "execution_count": null,
   "metadata": {
    "collapsed": true,
    "id": "AcO8SlhPhBkR"
   },
   "outputs": [],
   "source": [
    "from sklearn.preprocessing import StandardScaler\n",
    "sc = StandardScaler()\n",
    "X_train = sc.fit_transform(X_train)\n",
    "X_test = sc.transform(X_test)"
   ]
  },
  {
   "cell_type": "markdown",
   "metadata": {
    "id": "3TWpN0nVTpUx"
   },
   "source": [
    "## Question 6"
   ]
  },
  {
   "cell_type": "markdown",
   "metadata": {
    "id": "_sj0LYNkhR-L"
   },
   "source": [
    "### Convert data to NumPy array\n",
    "- Convert features and labels to numpy array"
   ]
  },
  {
   "cell_type": "code",
   "execution_count": null,
   "metadata": {
    "collapsed": true,
    "id": "X6mIfuTxhbTT"
   },
   "outputs": [],
   "source": [
    "y_train = np.array(y_train)\n",
    "y_test = np.array(y_test)"
   ]
  },
  {
   "cell_type": "code",
   "execution_count": null,
   "metadata": {
    "colab": {
     "base_uri": "https://localhost:8080/"
    },
    "executionInfo": {
     "elapsed": 906,
     "status": "ok",
     "timestamp": 1606027149191,
     "user": {
      "displayName": "Anand Gopalakrishnan",
      "photoUrl": "https://lh3.googleusercontent.com/a-/AOh14Gj78BSx50xkeKpClswTXOSqYJ9J9N-abY3FY5GLLoo=s64",
      "userId": "00801219883072908955"
     },
     "user_tz": -330
    },
    "id": "n7sDdR44JwUb",
    "outputId": "1812c23a-c13a-451a-80b3-771b728d09bd"
   },
   "outputs": [
    {
     "data": {
      "text/plain": [
       "(681011, 3)"
      ]
     },
     "execution_count": 279,
     "metadata": {
      "tags": []
     },
     "output_type": "execute_result"
    }
   ],
   "source": [
    "X_train.shape"
   ]
  },
  {
   "cell_type": "code",
   "execution_count": null,
   "metadata": {
    "colab": {
     "base_uri": "https://localhost:8080/"
    },
    "executionInfo": {
     "elapsed": 794,
     "status": "ok",
     "timestamp": 1606027150624,
     "user": {
      "displayName": "Anand Gopalakrishnan",
      "photoUrl": "https://lh3.googleusercontent.com/a-/AOh14Gj78BSx50xkeKpClswTXOSqYJ9J9N-abY3FY5GLLoo=s64",
      "userId": "00801219883072908955"
     },
     "user_tz": -330
    },
    "id": "xc0wXuMJJz3_",
    "outputId": "e9541de8-5476-49bf-e28c-f227d7a0c03e"
   },
   "outputs": [
    {
     "data": {
      "text/plain": [
       "(170253, 3)"
      ]
     },
     "execution_count": 280,
     "metadata": {
      "tags": []
     },
     "output_type": "execute_result"
    }
   ],
   "source": [
    "X_test.shape"
   ]
  },
  {
   "cell_type": "markdown",
   "metadata": {
    "id": "wmXUGc2oTspa"
   },
   "source": [
    "## Question 7"
   ]
  },
  {
   "cell_type": "markdown",
   "metadata": {
    "id": "cl2M9whFh6mh"
   },
   "source": [
    "### Define Model\n",
    "- Initialize a Sequential model\n",
    "- Add a Flatten layer\n",
    "- Add a Dense layer with one neuron as output\n",
    "  - add 'linear' as activation function\n"
   ]
  },
  {
   "cell_type": "code",
   "execution_count": null,
   "metadata": {
    "collapsed": true,
    "id": "TkiBpORmiegL"
   },
   "outputs": [],
   "source": [
    "#Initialize Sequential model\n",
    "import tensorflow as tf\n",
    "from keras.models import Sequential\n",
    "from keras.layers import Dense, Activation, Flatten\n",
    "model = tf.keras.models.Sequential()\n",
    "model.add(tf.keras.layers.Dense(1, input_shape=(3,), activation='linear'))"
   ]
  },
  {
   "cell_type": "markdown",
   "metadata": {
    "id": "8a0wr94aTyjg"
   },
   "source": [
    "## Question 8"
   ]
  },
  {
   "cell_type": "markdown",
   "metadata": {
    "id": "BNZPb5lKioX0"
   },
   "source": [
    "### Compile the model\n",
    "- Compile the model\n",
    "- Use \"sgd\" optimizer\n",
    "- for calculating loss, use mean squared error"
   ]
  },
  {
   "cell_type": "code",
   "execution_count": null,
   "metadata": {
    "collapsed": true,
    "id": "ZEQUP3VaiuT2"
   },
   "outputs": [],
   "source": [
    "#Compile the model - add Loss and Gradient Descent optimizer\n",
    "model.compile(optimizer='sgd', loss='mse')"
   ]
  },
  {
   "cell_type": "markdown",
   "metadata": {
    "id": "ZbBpnOtfT0wd"
   },
   "source": [
    "## Question 9"
   ]
  },
  {
   "cell_type": "markdown",
   "metadata": {
    "id": "n9o45OHdjDhA"
   },
   "source": [
    "### Fit the model\n",
    "- epochs: 50\n",
    "- batch size: 128\n",
    "- specify validation data"
   ]
  },
  {
   "cell_type": "code",
   "execution_count": null,
   "metadata": {
    "colab": {
     "base_uri": "https://localhost:8080/"
    },
    "executionInfo": {
     "elapsed": 457769,
     "status": "ok",
     "timestamp": 1606027660759,
     "user": {
      "displayName": "Anand Gopalakrishnan",
      "photoUrl": "https://lh3.googleusercontent.com/a-/AOh14Gj78BSx50xkeKpClswTXOSqYJ9J9N-abY3FY5GLLoo=s64",
      "userId": "00801219883072908955"
     },
     "user_tz": -330
    },
    "id": "-Y6tA30XjOH2",
    "outputId": "87b99916-911d-4c95-96c7-04022b67f177"
   },
   "outputs": [
    {
     "name": "stdout",
     "output_type": "stream",
     "text": [
      "Epoch 1/50\n",
      "5321/5321 [==============================] - 9s 2ms/step - loss: 36.5499 - val_loss: 1.0149\n",
      "Epoch 2/50\n",
      "5321/5321 [==============================] - 9s 2ms/step - loss: 0.9546 - val_loss: 0.9860\n",
      "Epoch 3/50\n",
      "5321/5321 [==============================] - 9s 2ms/step - loss: 0.9448 - val_loss: 0.9788\n",
      "Epoch 4/50\n",
      "5321/5321 [==============================] - 9s 2ms/step - loss: 0.9370 - val_loss: 0.9706\n",
      "Epoch 5/50\n",
      "5321/5321 [==============================] - 9s 2ms/step - loss: 0.9295 - val_loss: 1.0245\n",
      "Epoch 6/50\n",
      "5321/5321 [==============================] - 9s 2ms/step - loss: 0.9233 - val_loss: 0.9559\n",
      "Epoch 7/50\n",
      "5321/5321 [==============================] - 9s 2ms/step - loss: 0.9139 - val_loss: 0.9487\n",
      "Epoch 8/50\n",
      "5321/5321 [==============================] - 9s 2ms/step - loss: 0.9076 - val_loss: 0.9467\n",
      "Epoch 9/50\n",
      "5321/5321 [==============================] - 9s 2ms/step - loss: 0.9012 - val_loss: 0.9390\n",
      "Epoch 10/50\n",
      "5321/5321 [==============================] - 9s 2ms/step - loss: 0.8959 - val_loss: 0.9280\n",
      "Epoch 11/50\n",
      "5321/5321 [==============================] - 9s 2ms/step - loss: 0.8871 - val_loss: 0.9395\n",
      "Epoch 12/50\n",
      "5321/5321 [==============================] - 9s 2ms/step - loss: 0.8799 - val_loss: 0.9189\n",
      "Epoch 13/50\n",
      "5321/5321 [==============================] - 9s 2ms/step - loss: 0.8750 - val_loss: 0.9141\n",
      "Epoch 14/50\n",
      "5321/5321 [==============================] - 10s 2ms/step - loss: 0.8679 - val_loss: 0.8999\n",
      "Epoch 15/50\n",
      "5321/5321 [==============================] - 9s 2ms/step - loss: 0.8616 - val_loss: 0.9198\n",
      "Epoch 16/50\n",
      "5321/5321 [==============================] - 9s 2ms/step - loss: 0.8553 - val_loss: 0.8869\n",
      "Epoch 17/50\n",
      "5321/5321 [==============================] - 9s 2ms/step - loss: 0.8487 - val_loss: 0.8893\n",
      "Epoch 18/50\n",
      "5321/5321 [==============================] - 9s 2ms/step - loss: 0.8432 - val_loss: 0.8879\n",
      "Epoch 19/50\n",
      "5321/5321 [==============================] - 9s 2ms/step - loss: 0.8376 - val_loss: 0.8732\n",
      "Epoch 20/50\n",
      "5321/5321 [==============================] - 9s 2ms/step - loss: 0.8323 - val_loss: 0.8960\n",
      "Epoch 21/50\n",
      "5321/5321 [==============================] - 9s 2ms/step - loss: 0.8266 - val_loss: 0.8561\n",
      "Epoch 22/50\n",
      "5321/5321 [==============================] - 9s 2ms/step - loss: 0.8194 - val_loss: 0.8509\n",
      "Epoch 23/50\n",
      "5321/5321 [==============================] - 9s 2ms/step - loss: 0.8135 - val_loss: 0.8582\n",
      "Epoch 24/50\n",
      "5321/5321 [==============================] - 9s 2ms/step - loss: 0.8075 - val_loss: 0.8394\n",
      "Epoch 25/50\n",
      "5321/5321 [==============================] - 9s 2ms/step - loss: 0.8032 - val_loss: 0.8372\n",
      "Epoch 26/50\n",
      "5321/5321 [==============================] - 9s 2ms/step - loss: 0.7969 - val_loss: 0.8497\n",
      "Epoch 27/50\n",
      "5321/5321 [==============================] - 9s 2ms/step - loss: 0.7917 - val_loss: 0.8367\n",
      "Epoch 28/50\n",
      "5321/5321 [==============================] - 9s 2ms/step - loss: 0.7861 - val_loss: 0.8402\n",
      "Epoch 29/50\n",
      "5321/5321 [==============================] - 9s 2ms/step - loss: 0.7808 - val_loss: 0.8318\n",
      "Epoch 30/50\n",
      "5321/5321 [==============================] - 9s 2ms/step - loss: 0.7761 - val_loss: 0.8175\n",
      "Epoch 31/50\n",
      "5321/5321 [==============================] - 9s 2ms/step - loss: 0.7712 - val_loss: 0.8067\n",
      "Epoch 32/50\n",
      "5321/5321 [==============================] - 9s 2ms/step - loss: 0.7669 - val_loss: 0.8146\n",
      "Epoch 33/50\n",
      "5321/5321 [==============================] - 9s 2ms/step - loss: 0.7620 - val_loss: 0.7943\n",
      "Epoch 34/50\n",
      "5321/5321 [==============================] - 9s 2ms/step - loss: 0.7558 - val_loss: 0.8066\n",
      "Epoch 35/50\n",
      "5321/5321 [==============================] - 9s 2ms/step - loss: 0.7521 - val_loss: 0.7810\n",
      "Epoch 36/50\n",
      "5321/5321 [==============================] - 9s 2ms/step - loss: 0.7464 - val_loss: 0.7851\n",
      "Epoch 37/50\n",
      "5321/5321 [==============================] - 9s 2ms/step - loss: 0.7419 - val_loss: 0.8187\n",
      "Epoch 38/50\n",
      "5321/5321 [==============================] - 9s 2ms/step - loss: 0.7378 - val_loss: 0.7727\n",
      "Epoch 39/50\n",
      "5321/5321 [==============================] - 9s 2ms/step - loss: 0.7332 - val_loss: 0.8339\n",
      "Epoch 40/50\n",
      "5321/5321 [==============================] - 9s 2ms/step - loss: 0.7290 - val_loss: 0.8120\n",
      "Epoch 41/50\n",
      "5321/5321 [==============================] - 9s 2ms/step - loss: 0.7248 - val_loss: 0.7539\n",
      "Epoch 42/50\n",
      "5321/5321 [==============================] - 9s 2ms/step - loss: 0.7212 - val_loss: 0.7478\n",
      "Epoch 43/50\n",
      "5321/5321 [==============================] - 9s 2ms/step - loss: 0.7169 - val_loss: 0.7437\n",
      "Epoch 44/50\n",
      "5321/5321 [==============================] - 9s 2ms/step - loss: 0.7125 - val_loss: 0.7394\n",
      "Epoch 45/50\n",
      "5321/5321 [==============================] - 9s 2ms/step - loss: 0.7075 - val_loss: 0.7544\n",
      "Epoch 46/50\n",
      "5321/5321 [==============================] - 9s 2ms/step - loss: 0.7040 - val_loss: 0.7315\n",
      "Epoch 47/50\n",
      "5321/5321 [==============================] - 9s 2ms/step - loss: 0.7003 - val_loss: 0.7354\n",
      "Epoch 48/50\n",
      "5321/5321 [==============================] - 10s 2ms/step - loss: 0.6954 - val_loss: 0.7393\n",
      "Epoch 49/50\n",
      "5321/5321 [==============================] - 9s 2ms/step - loss: 0.6913 - val_loss: 0.7193\n",
      "Epoch 50/50\n",
      "5321/5321 [==============================] - 9s 2ms/step - loss: 0.6881 - val_loss: 0.7169\n"
     ]
    },
    {
     "data": {
      "text/plain": [
       "<tensorflow.python.keras.callbacks.History at 0x7fdca45d5c88>"
      ]
     },
     "execution_count": 286,
     "metadata": {
      "tags": []
     },
     "output_type": "execute_result"
    }
   ],
   "source": [
    "model.fit(X_train, y_train, epochs=50, batch_size=128, validation_data = (X_test,y_test), verbose = 1)"
   ]
  },
  {
   "cell_type": "markdown",
   "metadata": {
    "id": "AW4SEP8kT2ls"
   },
   "source": [
    "## Question 10"
   ]
  },
  {
   "cell_type": "markdown",
   "metadata": {
    "id": "EJDoix_7JU61"
   },
   "source": [
    "### Evaluate the model\n",
    "- Evaluate the model on test data"
   ]
  },
  {
   "cell_type": "code",
   "execution_count": null,
   "metadata": {
    "colab": {
     "base_uri": "https://localhost:8080/"
    },
    "executionInfo": {
     "elapsed": 6817,
     "status": "ok",
     "timestamp": 1606027677114,
     "user": {
      "displayName": "Anand Gopalakrishnan",
      "photoUrl": "https://lh3.googleusercontent.com/a-/AOh14Gj78BSx50xkeKpClswTXOSqYJ9J9N-abY3FY5GLLoo=s64",
      "userId": "00801219883072908955"
     },
     "user_tz": -330
    },
    "id": "HdH8pYBIjHGL",
    "outputId": "f6e0e016-c837-4105-d4d2-9da9ed8605be"
   },
   "outputs": [
    {
     "name": "stdout",
     "output_type": "stream",
     "text": [
      "5321/5321 [==============================] - 6s 1ms/step - loss: 0.7169\n"
     ]
    },
    {
     "data": {
      "text/plain": [
       "0.7168856859207153"
      ]
     },
     "execution_count": 287,
     "metadata": {
      "tags": []
     },
     "output_type": "execute_result"
    }
   ],
   "source": [
    "model.evaluate(X_test, y_test)"
   ]
  },
  {
   "cell_type": "markdown",
   "metadata": {
    "id": "hUpDD74Xjh01"
   },
   "source": [
    "### Manual predictions\n",
    "- Test the predictions on manual inputs\n",
    "- We have scaled out training data, so we need to transform our custom inputs using the object of the scaler\n",
    "- Example of manual input: [123.430000,\t122.30999, 116.250000]"
   ]
  },
  {
   "cell_type": "code",
   "execution_count": null,
   "metadata": {
    "colab": {
     "base_uri": "https://localhost:8080/"
    },
    "executionInfo": {
     "elapsed": 917,
     "status": "ok",
     "timestamp": 1606027682636,
     "user": {
      "displayName": "Anand Gopalakrishnan",
      "photoUrl": "https://lh3.googleusercontent.com/a-/AOh14Gj78BSx50xkeKpClswTXOSqYJ9J9N-abY3FY5GLLoo=s64",
      "userId": "00801219883072908955"
     },
     "user_tz": -330
    },
    "id": "fvuH-c31lLiJ",
    "outputId": "ff91ff44-2556-447b-f171-266e054d89b9"
   },
   "outputs": [
    {
     "data": {
      "text/plain": [
       "(1, 3)"
      ]
     },
     "execution_count": 288,
     "metadata": {
      "tags": []
     },
     "output_type": "execute_result"
    }
   ],
   "source": [
    "import numpy as np\n",
    "input_data = np.expand_dims([123.430000, 122.30999, 116.250000], axis = 0)\n",
    "input_data.shape"
   ]
  },
  {
   "cell_type": "code",
   "execution_count": null,
   "metadata": {
    "colab": {
     "base_uri": "https://localhost:8080/"
    },
    "executionInfo": {
     "elapsed": 910,
     "status": "ok",
     "timestamp": 1606027693604,
     "user": {
      "displayName": "Anand Gopalakrishnan",
      "photoUrl": "https://lh3.googleusercontent.com/a-/AOh14Gj78BSx50xkeKpClswTXOSqYJ9J9N-abY3FY5GLLoo=s64",
      "userId": "00801219883072908955"
     },
     "user_tz": -330
    },
    "id": "1hj63RZkgFsO",
    "outputId": "ba076658-054d-4f39-c2bf-32e9c6101ee4"
   },
   "outputs": [
    {
     "data": {
      "text/plain": [
       "array([[119.67562]], dtype=float32)"
      ]
     },
     "execution_count": 290,
     "metadata": {
      "tags": []
     },
     "output_type": "execute_result"
    }
   ],
   "source": [
    "model.predict(sc.transform(input_data))"
   ]
  },
  {
   "cell_type": "markdown",
   "metadata": {
    "id": "4WH1Pr4KQlCh"
   },
   "source": [
    "# Build a DNN"
   ]
  },
  {
   "cell_type": "markdown",
   "metadata": {
    "id": "74cQBsi5QlCw"
   },
   "source": [
    "### Collect Fashion mnist data from tf.keras.datasets "
   ]
  },
  {
   "cell_type": "code",
   "execution_count": null,
   "metadata": {
    "collapsed": true,
    "id": "wVWy0oDTr2Kj"
   },
   "outputs": [],
   "source": [
    "(trainX, trainY),(testX, testY) = tf.keras.datasets.fashion_mnist.load_data()"
   ]
  },
  {
   "cell_type": "markdown",
   "metadata": {
    "id": "no7aWYZyQlC1"
   },
   "source": [
    "### Change train and test labels into one-hot vectors"
   ]
  },
  {
   "cell_type": "code",
   "execution_count": null,
   "metadata": {
    "colab": {
     "base_uri": "https://localhost:8080/"
    },
    "executionInfo": {
     "elapsed": 1168,
     "status": "ok",
     "timestamp": 1606028857119,
     "user": {
      "displayName": "Anand Gopalakrishnan",
      "photoUrl": "https://lh3.googleusercontent.com/a-/AOh14Gj78BSx50xkeKpClswTXOSqYJ9J9N-abY3FY5GLLoo=s64",
      "userId": "00801219883072908955"
     },
     "user_tz": -330
    },
    "id": "UX6otc4wQlC2",
    "outputId": "0c6a5a75-98ad-4098-9f20-8f46cf10a752"
   },
   "outputs": [
    {
     "name": "stdout",
     "output_type": "stream",
     "text": [
      "(60000, 28, 28)\n",
      "(10000, 28, 28)\n"
     ]
    }
   ],
   "source": [
    "print(trainX.shape)\n",
    "print(testX.shape)\n",
    "trainY = tf.keras.utils.to_categorical(trainY, num_classes=10)\n",
    "testY = tf.keras.utils.to_categorical(testY, num_classes=10)"
   ]
  },
  {
   "cell_type": "code",
   "execution_count": null,
   "metadata": {
    "colab": {
     "base_uri": "https://localhost:8080/"
    },
    "executionInfo": {
     "elapsed": 959,
     "status": "ok",
     "timestamp": 1606028860275,
     "user": {
      "displayName": "Anand Gopalakrishnan",
      "photoUrl": "https://lh3.googleusercontent.com/a-/AOh14Gj78BSx50xkeKpClswTXOSqYJ9J9N-abY3FY5GLLoo=s64",
      "userId": "00801219883072908955"
     },
     "user_tz": -330
    },
    "id": "lo84hWNcuBxk",
    "outputId": "11d0ea05-4107-4821-ec67-30f663ec55e0"
   },
   "outputs": [
    {
     "data": {
      "text/plain": [
       "array([[0., 0., 0., ..., 0., 0., 1.],\n",
       "       [1., 0., 0., ..., 0., 0., 0.],\n",
       "       [1., 0., 0., ..., 0., 0., 0.],\n",
       "       ...,\n",
       "       [0., 0., 0., ..., 0., 0., 0.],\n",
       "       [1., 0., 0., ..., 0., 0., 0.],\n",
       "       [0., 0., 0., ..., 0., 0., 0.]], dtype=float32)"
      ]
     },
     "execution_count": 340,
     "metadata": {
      "tags": []
     },
     "output_type": "execute_result"
    }
   ],
   "source": [
    "trainY"
   ]
  },
  {
   "cell_type": "markdown",
   "metadata": {
    "id": "QjNrRTdoQlC5"
   },
   "source": [
    "### Build the Graph"
   ]
  },
  {
   "cell_type": "markdown",
   "metadata": {
    "id": "CDJ9DHVNQlC7"
   },
   "source": [
    "### Initialize model, reshape & normalize data"
   ]
  },
  {
   "cell_type": "code",
   "execution_count": null,
   "metadata": {
    "collapsed": true,
    "id": "pCDQs_g1QlC8"
   },
   "outputs": [],
   "source": [
    "#Initialize Sequential model\n",
    "model2 = tf.keras.models.Sequential()\n",
    "\n",
    "#Reshape data from 2D to 1D -> 28x28 to 784\n",
    "model2.add(tf.keras.layers.Reshape((784,),input_shape=(28,28,)))\n",
    "\n",
    "#Normalize the data\n",
    "model2.add(tf.keras.layers.BatchNormalization())"
   ]
  },
  {
   "cell_type": "markdown",
   "metadata": {
    "id": "kBGwTTilQlDD"
   },
   "source": [
    "### Add two fully connected layers with 200 and 100 neurons respectively with `relu` activations. Add a dropout layer with `p=0.25`"
   ]
  },
  {
   "cell_type": "code",
   "execution_count": null,
   "metadata": {
    "collapsed": true,
    "id": "IXbfpfOzQlDF"
   },
   "outputs": [],
   "source": [
    "#Add 1st hidden layer\n",
    "model2.add(tf.keras.layers.Dense(200, activation = 'relu'))\n",
    "model2.add(tf.keras.layers.Dense(100, activation = 'relu'))\n",
    "model2.add(tf.keras.layers.Dropout(0.25))"
   ]
  },
  {
   "cell_type": "markdown",
   "metadata": {
    "id": "5I8f5otcQlDJ"
   },
   "source": [
    "### Add the output layer with a fully connected layer with 10 neurons with `softmax` activation. Use `categorical_crossentropy` loss and `adam` optimizer and train the network. And, report the final validation."
   ]
  },
  {
   "cell_type": "code",
   "execution_count": null,
   "metadata": {
    "collapsed": true,
    "id": "JZkvKymSd0Sr"
   },
   "outputs": [],
   "source": [
    "#Add OUTPUT layer\n",
    "model2.add(tf.keras.layers.Dense(10, activation='softmax'))"
   ]
  },
  {
   "cell_type": "code",
   "execution_count": null,
   "metadata": {
    "collapsed": true,
    "id": "BXsbt3kaDJ5q"
   },
   "outputs": [],
   "source": [
    "#Compile the model\n",
    "model2.compile( optimizer='adam', loss='categorical_crossentropy', \n",
    "              metrics=['accuracy'])"
   ]
  },
  {
   "cell_type": "code",
   "execution_count": null,
   "metadata": {
    "colab": {
     "base_uri": "https://localhost:8080/"
    },
    "executionInfo": {
     "elapsed": 991,
     "status": "ok",
     "timestamp": 1606028880988,
     "user": {
      "displayName": "Anand Gopalakrishnan",
      "photoUrl": "https://lh3.googleusercontent.com/a-/AOh14Gj78BSx50xkeKpClswTXOSqYJ9J9N-abY3FY5GLLoo=s64",
      "userId": "00801219883072908955"
     },
     "user_tz": -330
    },
    "id": "WSiMhJPpk3GO",
    "outputId": "fc6e962a-1dbc-4917-ce9a-716b93081f15"
   },
   "outputs": [
    {
     "name": "stdout",
     "output_type": "stream",
     "text": [
      "Model: \"sequential_42\"\n",
      "_________________________________________________________________\n",
      "Layer (type)                 Output Shape              Param #   \n",
      "=================================================================\n",
      "reshape_8 (Reshape)          (None, 784)               0         \n",
      "_________________________________________________________________\n",
      "batch_normalization_14 (Batc (None, 784)               3136      \n",
      "_________________________________________________________________\n",
      "dense_49 (Dense)             (None, 200)               157000    \n",
      "_________________________________________________________________\n",
      "dense_50 (Dense)             (None, 100)               20100     \n",
      "_________________________________________________________________\n",
      "dropout_9 (Dropout)          (None, 100)               0         \n",
      "_________________________________________________________________\n",
      "dense_51 (Dense)             (None, 10)                1010      \n",
      "=================================================================\n",
      "Total params: 181,246\n",
      "Trainable params: 179,678\n",
      "Non-trainable params: 1,568\n",
      "_________________________________________________________________\n"
     ]
    }
   ],
   "source": [
    "model2.summary()"
   ]
  },
  {
   "cell_type": "code",
   "execution_count": null,
   "metadata": {
    "collapsed": true,
    "id": "Wpwg1VCPbBnJ"
   },
   "outputs": [],
   "source": [
    "model_checkpoint = tf.keras.callbacks.ModelCheckpoint('mnist_v1.h5', save_best_only=True, monitor='val_accuracy', mode='max', verbose=1)"
   ]
  },
  {
   "cell_type": "code",
   "execution_count": null,
   "metadata": {
    "colab": {
     "base_uri": "https://localhost:8080/"
    },
    "executionInfo": {
     "elapsed": 52792,
     "status": "ok",
     "timestamp": 1606028943143,
     "user": {
      "displayName": "Anand Gopalakrishnan",
      "photoUrl": "https://lh3.googleusercontent.com/a-/AOh14Gj78BSx50xkeKpClswTXOSqYJ9J9N-abY3FY5GLLoo=s64",
      "userId": "00801219883072908955"
     },
     "user_tz": -330
    },
    "id": "b8lZexX-uS5x",
    "outputId": "d82af585-425a-4bff-d769-cec630b5a2fd"
   },
   "outputs": [
    {
     "name": "stdout",
     "output_type": "stream",
     "text": [
      "Epoch 1/10\n",
      "1869/1875 [============================>.] - ETA: 0s - loss: 0.5116 - accuracy: 0.8160\n",
      "Epoch 00001: val_accuracy improved from -inf to 0.83780, saving model to mnist_v1.h5\n",
      "1875/1875 [==============================] - 5s 3ms/step - loss: 0.5113 - accuracy: 0.8161 - val_loss: 0.4220 - val_accuracy: 0.8378\n",
      "Epoch 2/10\n",
      "1867/1875 [============================>.] - ETA: 0s - loss: 0.3955 - accuracy: 0.8544\n",
      "Epoch 00002: val_accuracy improved from 0.83780 to 0.86120, saving model to mnist_v1.h5\n",
      "1875/1875 [==============================] - 5s 3ms/step - loss: 0.3954 - accuracy: 0.8544 - val_loss: 0.3812 - val_accuracy: 0.8612\n",
      "Epoch 3/10\n",
      "1858/1875 [============================>.] - ETA: 0s - loss: 0.3604 - accuracy: 0.8672\n",
      "Epoch 00003: val_accuracy improved from 0.86120 to 0.86750, saving model to mnist_v1.h5\n",
      "1875/1875 [==============================] - 5s 3ms/step - loss: 0.3605 - accuracy: 0.8671 - val_loss: 0.3780 - val_accuracy: 0.8675\n",
      "Epoch 4/10\n",
      "1872/1875 [============================>.] - ETA: 0s - loss: 0.3349 - accuracy: 0.8770\n",
      "Epoch 00004: val_accuracy improved from 0.86750 to 0.87140, saving model to mnist_v1.h5\n",
      "1875/1875 [==============================] - 5s 3ms/step - loss: 0.3351 - accuracy: 0.8768 - val_loss: 0.3719 - val_accuracy: 0.8714\n",
      "Epoch 5/10\n",
      "1863/1875 [============================>.] - ETA: 0s - loss: 0.3161 - accuracy: 0.8827\n",
      "Epoch 00005: val_accuracy improved from 0.87140 to 0.87660, saving model to mnist_v1.h5\n",
      "1875/1875 [==============================] - 5s 3ms/step - loss: 0.3163 - accuracy: 0.8826 - val_loss: 0.3550 - val_accuracy: 0.8766\n",
      "Epoch 6/10\n",
      "1858/1875 [============================>.] - ETA: 0s - loss: 0.3033 - accuracy: 0.8856\n",
      "Epoch 00006: val_accuracy improved from 0.87660 to 0.87900, saving model to mnist_v1.h5\n",
      "1875/1875 [==============================] - 5s 3ms/step - loss: 0.3037 - accuracy: 0.8856 - val_loss: 0.3534 - val_accuracy: 0.8790\n",
      "Epoch 7/10\n",
      "1861/1875 [============================>.] - ETA: 0s - loss: 0.2878 - accuracy: 0.8921\n",
      "Epoch 00007: val_accuracy did not improve from 0.87900\n",
      "1875/1875 [==============================] - 5s 3ms/step - loss: 0.2876 - accuracy: 0.8923 - val_loss: 0.3922 - val_accuracy: 0.8747\n",
      "Epoch 8/10\n",
      "1868/1875 [============================>.] - ETA: 0s - loss: 0.2752 - accuracy: 0.8963\n",
      "Epoch 00008: val_accuracy improved from 0.87900 to 0.88300, saving model to mnist_v1.h5\n",
      "1875/1875 [==============================] - 5s 3ms/step - loss: 0.2752 - accuracy: 0.8964 - val_loss: 0.3333 - val_accuracy: 0.8830\n",
      "Epoch 9/10\n",
      "1864/1875 [============================>.] - ETA: 0s - loss: 0.2677 - accuracy: 0.8994\n",
      "Epoch 00009: val_accuracy did not improve from 0.88300\n",
      "1875/1875 [==============================] - 5s 3ms/step - loss: 0.2682 - accuracy: 0.8992 - val_loss: 0.3582 - val_accuracy: 0.8804\n",
      "Epoch 10/10\n",
      "1855/1875 [============================>.] - ETA: 0s - loss: 0.2564 - accuracy: 0.9026\n",
      "Epoch 00010: val_accuracy improved from 0.88300 to 0.89220, saving model to mnist_v1.h5\n",
      "1875/1875 [==============================] - 5s 3ms/step - loss: 0.2562 - accuracy: 0.9026 - val_loss: 0.3577 - val_accuracy: 0.8922\n"
     ]
    },
    {
     "data": {
      "text/plain": [
       "<tensorflow.python.keras.callbacks.History at 0x7fdcc03ea588>"
      ]
     },
     "execution_count": 347,
     "metadata": {
      "tags": []
     },
     "output_type": "execute_result"
    }
   ],
   "source": [
    "model2.fit(trainX,trainY,          \n",
    "          validation_data=(testX,testY),\n",
    "          epochs=10,\n",
    "          batch_size=32, \n",
    "          callbacks=[model_checkpoint])"
   ]
  },
  {
   "cell_type": "code",
   "execution_count": null,
   "metadata": {
    "colab": {
     "base_uri": "https://localhost:8080/"
    },
    "executionInfo": {
     "elapsed": 902,
     "status": "ok",
     "timestamp": 1606028982379,
     "user": {
      "displayName": "Anand Gopalakrishnan",
      "photoUrl": "https://lh3.googleusercontent.com/a-/AOh14Gj78BSx50xkeKpClswTXOSqYJ9J9N-abY3FY5GLLoo=s64",
      "userId": "00801219883072908955"
     },
     "user_tz": -330
    },
    "id": "d-mn7TY2vnx_",
    "outputId": "720fd881-5dc8-4280-ec64-7e759135b185"
   },
   "outputs": [
    {
     "name": "stdout",
     "output_type": "stream",
     "text": [
      "total 2164\n",
      "drwx------ 5 root root    4096 Nov 22 03:51 drive\n",
      "-rw-r--r-- 1 root root 2204320 Nov 22 07:10 mnist_v1.h5\n",
      "drwxr-xr-x 1 root root    4096 Nov 13 17:33 sample_data\n"
     ]
    }
   ],
   "source": [
    "!ls -l"
   ]
  },
  {
   "cell_type": "code",
   "execution_count": null,
   "metadata": {
    "colab": {
     "base_uri": "https://localhost:8080/"
    },
    "executionInfo": {
     "elapsed": 893,
     "status": "ok",
     "timestamp": 1606028984011,
     "user": {
      "displayName": "Anand Gopalakrishnan",
      "photoUrl": "https://lh3.googleusercontent.com/a-/AOh14Gj78BSx50xkeKpClswTXOSqYJ9J9N-abY3FY5GLLoo=s64",
      "userId": "00801219883072908955"
     },
     "user_tz": -330
    },
    "id": "jCkoBC-2uXPq",
    "outputId": "68d318e3-301f-44fb-b457-8ef1245fb777"
   },
   "outputs": [
    {
     "name": "stdout",
     "output_type": "stream",
     "text": [
      "Model: \"sequential_42\"\n",
      "_________________________________________________________________\n",
      "Layer (type)                 Output Shape              Param #   \n",
      "=================================================================\n",
      "reshape_8 (Reshape)          (None, 784)               0         \n",
      "_________________________________________________________________\n",
      "batch_normalization_14 (Batc (None, 784)               3136      \n",
      "_________________________________________________________________\n",
      "dense_49 (Dense)             (None, 200)               157000    \n",
      "_________________________________________________________________\n",
      "dense_50 (Dense)             (None, 100)               20100     \n",
      "_________________________________________________________________\n",
      "dropout_9 (Dropout)          (None, 100)               0         \n",
      "_________________________________________________________________\n",
      "dense_51 (Dense)             (None, 10)                1010      \n",
      "=================================================================\n",
      "Total params: 181,246\n",
      "Trainable params: 179,678\n",
      "Non-trainable params: 1,568\n",
      "_________________________________________________________________\n"
     ]
    }
   ],
   "source": [
    "model2.summary()"
   ]
  },
  {
   "cell_type": "code",
   "execution_count": null,
   "metadata": {
    "colab": {
     "base_uri": "https://localhost:8080/",
     "height": 336
    },
    "executionInfo": {
     "elapsed": 1067,
     "status": "ok",
     "timestamp": 1606028985863,
     "user": {
      "displayName": "Anand Gopalakrishnan",
      "photoUrl": "https://lh3.googleusercontent.com/a-/AOh14Gj78BSx50xkeKpClswTXOSqYJ9J9N-abY3FY5GLLoo=s64",
      "userId": "00801219883072908955"
     },
     "user_tz": -330
    },
    "id": "JCO4tAp5ukA5",
    "outputId": "3e63d980-4f7d-469e-a7e1-7ff6ef24dbc7"
   },
   "outputs": [
    {
     "name": "stdout",
     "output_type": "stream",
     "text": [
      "WARNING:tensorflow:7 out of the last 10 calls to <function Model.make_predict_function.<locals>.predict_function at 0x7fdca38e3378> triggered tf.function retracing. Tracing is expensive and the excessive number of tracings could be due to (1) creating @tf.function repeatedly in a loop, (2) passing tensors with different shapes, (3) passing Python objects instead of tensors. For (1), please define your @tf.function outside of the loop. For (2), @tf.function has experimental_relax_shapes=True option that relaxes argument shapes that can avoid unnecessary retracing. For (3), please refer to https://www.tensorflow.org/tutorials/customization/performance#python_or_tensor_args and https://www.tensorflow.org/api_docs/python/tf/function for  more details.\n",
      "Prediction label 5\n",
      "Actual Label 5\n"
     ]
    },
    {
     "data": {
      "image/png": "[encoded data removed]",
      "text/plain": [
       "<Figure size 432x288 with 1 Axes>"
      ]
     },
     "metadata": {
      "needs_background": "light",
      "tags": []
     },
     "output_type": "display_data"
    }
   ],
   "source": [
    "img_num = np.random.randint(0,testX.shape[0])\n",
    "input_data = np.expand_dims(testX[img_num], axis=0)\n",
    "pred = model2.predict(input_data)\n",
    "print('Prediction label', np.argmax(pred[0]))\n",
    "print('Actual Label', np.argmax(testY[img_num]))\n",
    "plt.imshow(testX[img_num],cmap='gray')\n",
    "plt.show()"
   ]
  },
  {
   "cell_type": "code",
   "execution_count": null,
   "metadata": {
    "collapsed": true,
    "id": "fje1g_hPvEtB"
   },
   "outputs": [],
   "source": []
  }
 ],
 "metadata": {
  "accelerator": "GPU",
  "colab": {
   "collapsed_sections": [],
   "name": "Lab on NNDL-2-Final.ipynb",
   "provenance": [
    {
     "file_id": "1_4cFDSlChov0e-9uVuaLAPB-vM76lem6",
     "timestamp": 1606029180978
    }
   ]
  },
  "kernelspec": {
   "display_name": "Python 3",
   "language": "python",
   "name": "python3"
  },
  "language_info": {
   "codemirror_mode": {
    "name": "ipython",
    "version": 3
   },
   "file_extension": ".py",
   "mimetype": "text/x-python",
   "name": "python",
   "nbconvert_exporter": "python",
   "pygments_lexer": "ipython3",
   "version": "3.6.3"
  }
 },
 "nbformat": 4,
 "nbformat_minor": 1
}
