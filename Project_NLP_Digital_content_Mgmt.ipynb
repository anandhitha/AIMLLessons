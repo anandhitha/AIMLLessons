{
  "nbformat": 4,
  "nbformat_minor": 0,
  "metadata": {
    "colab": {
      "name": "Project_NLP_Digital_content_Mgmt_final.ipynb",
      "provenance": [],
      "collapsed_sections": []
    },
    "kernelspec": {
      "display_name": "Python 3",
      "name": "python3"
    },
    "language_info": {
      "name": "python"
    },
    "accelerator": "GPU"
  },
  "cells": [
    {
      "cell_type": "markdown",
      "metadata": {
        "id": "VmT9vn2UK-yb"
      },
      "source": [
        "# DOMAIN: Digital content management"
      ]
    },
    {
      "cell_type": "markdown",
      "metadata": {
        "id": "Lw02B_kiLIj2"
      },
      "source": [
        "# CONTEXT: Classification is probably the most popular task that you would deal with in real life. Text in the form of blogs, posts, articles, etc. is written every second. It is a challenge to predict the information about the writer without knowing about him/her. We are going to create a classifier that predicts multiple features of the author of a given text. We have designed it as a Multi label classification problem."
      ]
    },
    {
      "cell_type": "markdown",
      "metadata": {
        "id": "r7xRH9m0LLnc"
      },
      "source": [
        "# DATA DESCRIPTION: Over 600,000 posts from more than 19 thousand bloggers The Blog Authorship Corpus consists of the collected posts of 19,320 bloggers gathered from blogger.com in August 2004. The corpus incorporates a total of 681,288 posts and over 140 million words - or approximately 35 posts and 7250 words per person. Each blog is presented as a separate file, the name of which indicates a blogger id# and the blogger’s self-provided gender, age, industry, and astrological sign. (All are labelled for gender and age but for many, industry and/or sign is marked as unknown.) All bloggers included in the corpus fall into one of three age groups:\n",
        "• 8240 \"10s\" blogs (ages 13-17),\n",
        "• 8086 \"20s\" blogs(ages 23-27) and\n",
        "• 2994 \"30s\" blogs (ages 33-47)\n",
        "For each age group, there is an equal number of male and female bloggers.\n",
        "Each blog in the corpus includes at least 200 occurrences of common English words. All formatting has been stripped with two exceptions. Individual posts within a single blogger are separated by the date of the following post and links within a post are denoted by the label url link. Link to dataset: https://www.kaggle.com/rtatman/blog-authorship-corpus"
      ]
    },
    {
      "cell_type": "markdown",
      "metadata": {
        "id": "T5AId0iSLSlQ"
      },
      "source": [
        "# PROJECT OBJECTIVE: The need is to build a NLP classifier which can use input text parameters to determine the label/s of of the blog."
      ]
    },
    {
      "cell_type": "markdown",
      "metadata": {
        "id": "ueo2aqeyLnUn"
      },
      "source": [
        "# Import and Analyse the dataset"
      ]
    },
    {
      "cell_type": "code",
      "metadata": {
        "colab": {
          "base_uri": "https://localhost:8080/"
        },
        "id": "FGwenjL7a7sc",
        "outputId": "640dd34e-ac95-42c4-e024-d19759d9a21a"
      },
      "source": [
        "from google.colab import drive\n",
        "drive.mount('/gdrive')"
      ],
      "execution_count": null,
      "outputs": [
        {
          "output_type": "stream",
          "text": [
            "Drive already mounted at /gdrive; to attempt to forcibly remount, call drive.mount(\"/gdrive\", force_remount=True).\n"
          ],
          "name": "stdout"
        }
      ]
    },
    {
      "cell_type": "code",
      "metadata": {
        "id": "LuQ92ZWbbhmF"
      },
      "source": [
        "import pandas as pd\n",
        "import numpy as np\n",
        "import warnings\n",
        "import re\n",
        "import seaborn as sns\n",
        "import matplotlib.pyplot as plt\n",
        "warnings.filterwarnings('ignore')"
      ],
      "execution_count": null,
      "outputs": []
    },
    {
      "cell_type": "code",
      "metadata": {
        "id": "Y69KqgFnb1yo"
      },
      "source": [
        "df = pd.read_csv('/gdrive/MyDrive/Colab Notebooks/Project-NLP/Dataset - blogtext.csv')"
      ],
      "execution_count": null,
      "outputs": []
    },
    {
      "cell_type": "code",
      "metadata": {
        "colab": {
          "base_uri": "https://localhost:8080/",
          "height": 203
        },
        "id": "YUg07D32cEnI",
        "outputId": "6c09fff2-c62a-4378-90b1-2611fa4a61bb"
      },
      "source": [
        "df.head(5)"
      ],
      "execution_count": null,
      "outputs": [
        {
          "output_type": "execute_result",
          "data": {
            "text/html": [
              "<div>\n",
              "<style scoped>\n",
              "    .dataframe tbody tr th:only-of-type {\n",
              "        vertical-align: middle;\n",
              "    }\n",
              "\n",
              "    .dataframe tbody tr th {\n",
              "        vertical-align: top;\n",
              "    }\n",
              "\n",
              "    .dataframe thead th {\n",
              "        text-align: right;\n",
              "    }\n",
              "</style>\n",
              "<table border=\"1\" class=\"dataframe\">\n",
              "  <thead>\n",
              "    <tr style=\"text-align: right;\">\n",
              "      <th></th>\n",
              "      <th>id</th>\n",
              "      <th>gender</th>\n",
              "      <th>age</th>\n",
              "      <th>topic</th>\n",
              "      <th>sign</th>\n",
              "      <th>date</th>\n",
              "      <th>text</th>\n",
              "    </tr>\n",
              "  </thead>\n",
              "  <tbody>\n",
              "    <tr>\n",
              "      <th>0</th>\n",
              "      <td>2059027</td>\n",
              "      <td>male</td>\n",
              "      <td>15</td>\n",
              "      <td>Student</td>\n",
              "      <td>Leo</td>\n",
              "      <td>14,May,2004</td>\n",
              "      <td>Info has been found (+/- 100 pages,...</td>\n",
              "    </tr>\n",
              "    <tr>\n",
              "      <th>1</th>\n",
              "      <td>2059027</td>\n",
              "      <td>male</td>\n",
              "      <td>15</td>\n",
              "      <td>Student</td>\n",
              "      <td>Leo</td>\n",
              "      <td>13,May,2004</td>\n",
              "      <td>These are the team members:   Drewe...</td>\n",
              "    </tr>\n",
              "    <tr>\n",
              "      <th>2</th>\n",
              "      <td>2059027</td>\n",
              "      <td>male</td>\n",
              "      <td>15</td>\n",
              "      <td>Student</td>\n",
              "      <td>Leo</td>\n",
              "      <td>12,May,2004</td>\n",
              "      <td>In het kader van kernfusie op aarde...</td>\n",
              "    </tr>\n",
              "    <tr>\n",
              "      <th>3</th>\n",
              "      <td>2059027</td>\n",
              "      <td>male</td>\n",
              "      <td>15</td>\n",
              "      <td>Student</td>\n",
              "      <td>Leo</td>\n",
              "      <td>12,May,2004</td>\n",
              "      <td>testing!!!  testing!!!</td>\n",
              "    </tr>\n",
              "    <tr>\n",
              "      <th>4</th>\n",
              "      <td>3581210</td>\n",
              "      <td>male</td>\n",
              "      <td>33</td>\n",
              "      <td>InvestmentBanking</td>\n",
              "      <td>Aquarius</td>\n",
              "      <td>11,June,2004</td>\n",
              "      <td>Thanks to Yahoo!'s Toolbar I can ...</td>\n",
              "    </tr>\n",
              "  </tbody>\n",
              "</table>\n",
              "</div>"
            ],
            "text/plain": [
              "        id  ...                                               text\n",
              "0  2059027  ...             Info has been found (+/- 100 pages,...\n",
              "1  2059027  ...             These are the team members:   Drewe...\n",
              "2  2059027  ...             In het kader van kernfusie op aarde...\n",
              "3  2059027  ...                   testing!!!  testing!!!          \n",
              "4  3581210  ...               Thanks to Yahoo!'s Toolbar I can ...\n",
              "\n",
              "[5 rows x 7 columns]"
            ]
          },
          "metadata": {
            "tags": []
          },
          "execution_count": 158
        }
      ]
    },
    {
      "cell_type": "code",
      "metadata": {
        "colab": {
          "base_uri": "https://localhost:8080/",
          "height": 203
        },
        "id": "VI08-CGdcOfo",
        "outputId": "6f748209-3f1c-4325-8f76-d0c202746ae5"
      },
      "source": [
        "df.tail(5)"
      ],
      "execution_count": null,
      "outputs": [
        {
          "output_type": "execute_result",
          "data": {
            "text/html": [
              "<div>\n",
              "<style scoped>\n",
              "    .dataframe tbody tr th:only-of-type {\n",
              "        vertical-align: middle;\n",
              "    }\n",
              "\n",
              "    .dataframe tbody tr th {\n",
              "        vertical-align: top;\n",
              "    }\n",
              "\n",
              "    .dataframe thead th {\n",
              "        text-align: right;\n",
              "    }\n",
              "</style>\n",
              "<table border=\"1\" class=\"dataframe\">\n",
              "  <thead>\n",
              "    <tr style=\"text-align: right;\">\n",
              "      <th></th>\n",
              "      <th>id</th>\n",
              "      <th>gender</th>\n",
              "      <th>age</th>\n",
              "      <th>topic</th>\n",
              "      <th>sign</th>\n",
              "      <th>date</th>\n",
              "      <th>text</th>\n",
              "    </tr>\n",
              "  </thead>\n",
              "  <tbody>\n",
              "    <tr>\n",
              "      <th>681279</th>\n",
              "      <td>1713845</td>\n",
              "      <td>male</td>\n",
              "      <td>23</td>\n",
              "      <td>Student</td>\n",
              "      <td>Taurus</td>\n",
              "      <td>01,July,2004</td>\n",
              "      <td>Dear Susan,  I could write some really ...</td>\n",
              "    </tr>\n",
              "    <tr>\n",
              "      <th>681280</th>\n",
              "      <td>1713845</td>\n",
              "      <td>male</td>\n",
              "      <td>23</td>\n",
              "      <td>Student</td>\n",
              "      <td>Taurus</td>\n",
              "      <td>01,July,2004</td>\n",
              "      <td>Dear Susan,  'I have the second yeast i...</td>\n",
              "    </tr>\n",
              "    <tr>\n",
              "      <th>681281</th>\n",
              "      <td>1713845</td>\n",
              "      <td>male</td>\n",
              "      <td>23</td>\n",
              "      <td>Student</td>\n",
              "      <td>Taurus</td>\n",
              "      <td>01,July,2004</td>\n",
              "      <td>Dear Susan,  Your 'boyfriend' is fuckin...</td>\n",
              "    </tr>\n",
              "    <tr>\n",
              "      <th>681282</th>\n",
              "      <td>1713845</td>\n",
              "      <td>male</td>\n",
              "      <td>23</td>\n",
              "      <td>Student</td>\n",
              "      <td>Taurus</td>\n",
              "      <td>01,July,2004</td>\n",
              "      <td>Dear Susan:    Just to clarify, I am as...</td>\n",
              "    </tr>\n",
              "    <tr>\n",
              "      <th>681283</th>\n",
              "      <td>1713845</td>\n",
              "      <td>male</td>\n",
              "      <td>23</td>\n",
              "      <td>Student</td>\n",
              "      <td>Taurus</td>\n",
              "      <td>01,July,2004</td>\n",
              "      <td>Hey everybody...and Susan,  You might a...</td>\n",
              "    </tr>\n",
              "  </tbody>\n",
              "</table>\n",
              "</div>"
            ],
            "text/plain": [
              "             id  ...                                               text\n",
              "681279  1713845  ...         Dear Susan,  I could write some really ...\n",
              "681280  1713845  ...         Dear Susan,  'I have the second yeast i...\n",
              "681281  1713845  ...         Dear Susan,  Your 'boyfriend' is fuckin...\n",
              "681282  1713845  ...         Dear Susan:    Just to clarify, I am as...\n",
              "681283  1713845  ...         Hey everybody...and Susan,  You might a...\n",
              "\n",
              "[5 rows x 7 columns]"
            ]
          },
          "metadata": {
            "tags": []
          },
          "execution_count": 159
        }
      ]
    },
    {
      "cell_type": "code",
      "metadata": {
        "colab": {
          "base_uri": "https://localhost:8080/"
        },
        "id": "9MCblFtecepn",
        "outputId": "7814c27d-36bf-4207-e0af-051efcf1fff5"
      },
      "source": [
        "df.shape"
      ],
      "execution_count": null,
      "outputs": [
        {
          "output_type": "execute_result",
          "data": {
            "text/plain": [
              "(681284, 7)"
            ]
          },
          "metadata": {
            "tags": []
          },
          "execution_count": 160
        }
      ]
    },
    {
      "cell_type": "code",
      "metadata": {
        "colab": {
          "base_uri": "https://localhost:8080/"
        },
        "id": "1ytinA_Oi3sm",
        "outputId": "7af75b98-af9b-41a7-ba8c-6533875e89fd"
      },
      "source": [
        "# Checking if there are any null records\n",
        "df.isnull().sum()"
      ],
      "execution_count": null,
      "outputs": [
        {
          "output_type": "execute_result",
          "data": {
            "text/plain": [
              "id        0\n",
              "gender    0\n",
              "age       0\n",
              "topic     0\n",
              "sign      0\n",
              "date      0\n",
              "text      0\n",
              "dtype: int64"
            ]
          },
          "metadata": {
            "tags": []
          },
          "execution_count": 161
        }
      ]
    },
    {
      "cell_type": "code",
      "metadata": {
        "colab": {
          "base_uri": "https://localhost:8080/"
        },
        "id": "Nf6oBTEbwDSl",
        "outputId": "4235efa2-a9b3-4655-baff-649d0e53fe76"
      },
      "source": [
        "# Analysing the Gender, Age, Topic and Sign\n",
        "# Blog age classification from 13 to 48\n",
        "df['age'].sort_values().unique()"
      ],
      "execution_count": null,
      "outputs": [
        {
          "output_type": "execute_result",
          "data": {
            "text/plain": [
              "array([13, 14, 15, 16, 17, 23, 24, 25, 26, 27, 33, 34, 35, 36, 37, 38, 39,\n",
              "       40, 41, 42, 43, 44, 45, 46, 47, 48])"
            ]
          },
          "metadata": {
            "tags": []
          },
          "execution_count": 162
        }
      ]
    },
    {
      "cell_type": "code",
      "metadata": {
        "colab": {
          "base_uri": "https://localhost:8080/",
          "height": 307
        },
        "id": "WIQbVbEbvOhQ",
        "outputId": "a10478b9-0ff7-48c8-8d09-8a6d1a4330f1"
      },
      "source": [
        "# Analysing the Gender, Age, Topic and Sign\n",
        "df['gender'].value_counts().plot(kind = 'bar')"
      ],
      "execution_count": null,
      "outputs": [
        {
          "output_type": "execute_result",
          "data": {
            "text/plain": [
              "<matplotlib.axes._subplots.AxesSubplot at 0x7f80b365ab90>"
            ]
          },
          "metadata": {
            "tags": []
          },
          "execution_count": 163
        },
        {
          "output_type": "display_data",
          "data": {
            "image/png": "[encoded data removed]",
            "text/plain": [
              "<Figure size 432x288 with 1 Axes>"
            ]
          },
          "metadata": {
            "tags": [],
            "needs_background": "light"
          }
        }
      ]
    },
    {
      "cell_type": "code",
      "metadata": {
        "colab": {
          "base_uri": "https://localhost:8080/",
          "height": 283
        },
        "id": "vp_ZARUMspAL",
        "outputId": "3a5e47d6-0fda-44ae-8537-0a4dfc51efdc"
      },
      "source": [
        "# Analysing the Gender, Age, Topic and Sign\n",
        "df['sign'].value_counts().plot(kind = 'barh')"
      ],
      "execution_count": null,
      "outputs": [
        {
          "output_type": "execute_result",
          "data": {
            "text/plain": [
              "<matplotlib.axes._subplots.AxesSubplot at 0x7f809fc6c150>"
            ]
          },
          "metadata": {
            "tags": []
          },
          "execution_count": 164
        },
        {
          "output_type": "display_data",
          "data": {
            "image/png": "[encoded data removed]",
            "text/plain": [
              "<Figure size 432x288 with 1 Axes>"
            ]
          },
          "metadata": {
            "tags": [],
            "needs_background": "light"
          }
        }
      ]
    },
    {
      "cell_type": "code",
      "metadata": {
        "colab": {
          "base_uri": "https://localhost:8080/",
          "height": 881
        },
        "id": "6QCXAK4stkCc",
        "outputId": "c0a2ffae-2e7d-4900-9447-7a7a2cead3cb"
      },
      "source": [
        "# Analysing the Gender, Age, Topic and Sign\n",
        "plt.figure(figsize=(10,15))\n",
        "df['topic'].value_counts().plot(kind = 'barh')"
      ],
      "execution_count": null,
      "outputs": [
        {
          "output_type": "execute_result",
          "data": {
            "text/plain": [
              "<matplotlib.axes._subplots.AxesSubplot at 0x7f809fbd33d0>"
            ]
          },
          "metadata": {
            "tags": []
          },
          "execution_count": 165
        },
        {
          "output_type": "display_data",
          "data": {
            "image/png": "[encoded data removed]",
            "text/plain": [
              "<Figure size 720x1080 with 1 Axes>"
            ]
          },
          "metadata": {
            "tags": [],
            "needs_background": "light"
          }
        }
      ]
    },
    {
      "cell_type": "code",
      "metadata": {
        "id": "enz-xuVjhE3S"
      },
      "source": [
        "# checking for duplicates on the text\n",
        "df.drop_duplicates(subset=\"text\",inplace=True)"
      ],
      "execution_count": null,
      "outputs": []
    },
    {
      "cell_type": "code",
      "metadata": {
        "colab": {
          "base_uri": "https://localhost:8080/"
        },
        "id": "jJiD47cQhV6c",
        "outputId": "3c373ee9-0e71-4d36-812e-9f2e02cea60f"
      },
      "source": [
        "df.shape"
      ],
      "execution_count": null,
      "outputs": [
        {
          "output_type": "execute_result",
          "data": {
            "text/plain": [
              "(611652, 7)"
            ]
          },
          "metadata": {
            "tags": []
          },
          "execution_count": 167
        }
      ]
    },
    {
      "cell_type": "code",
      "metadata": {
        "colab": {
          "base_uri": "https://localhost:8080/"
        },
        "id": "w5jrqxX0hfBL",
        "outputId": "8d29fa79-23d7-49c7-ebfd-c77e14959f9a"
      },
      "source": [
        "# checking for blog texts - Outliers\n",
        "df.text.str.len().describe()"
      ],
      "execution_count": null,
      "outputs": [
        {
          "output_type": "execute_result",
          "data": {
            "text/plain": [
              "count    611652.000000\n",
              "mean       1163.233872\n",
              "std        2419.298950\n",
              "min           4.000000\n",
              "25%         250.000000\n",
              "50%         676.000000\n",
              "75%        1459.000000\n",
              "max      790123.000000\n",
              "Name: text, dtype: float64"
            ]
          },
          "metadata": {
            "tags": []
          },
          "execution_count": 168
        }
      ]
    },
    {
      "cell_type": "code",
      "metadata": {
        "colab": {
          "base_uri": "https://localhost:8080/",
          "height": 283
        },
        "id": "eLWK4gS5jhKH",
        "outputId": "c6c7a55b-9ab3-4ba3-fd93-b5aed974db7e"
      },
      "source": [
        "df.text.str.len().plot()"
      ],
      "execution_count": null,
      "outputs": [
        {
          "output_type": "execute_result",
          "data": {
            "text/plain": [
              "<matplotlib.axes._subplots.AxesSubplot at 0x7f809eb75350>"
            ]
          },
          "metadata": {
            "tags": []
          },
          "execution_count": 169
        },
        {
          "output_type": "display_data",
          "data": {
            "image/png": "[encoded data removed]",
            "text/plain": [
              "<Figure size 432x288 with 1 Axes>"
            ]
          },
          "metadata": {
            "tags": [],
            "needs_background": "light"
          }
        }
      ]
    },
    {
      "cell_type": "code",
      "metadata": {
        "id": "vt-zfQCci5zt"
      },
      "source": [
        "# It appears that we have some outliers with text length. Most of the Blog texts fall in the range greater than 100000 words rest of them are outliers\n",
        "df = df.loc[(df.text.str.len() < 100000) & (df.text.str.len() > 7)]"
      ],
      "execution_count": null,
      "outputs": []
    },
    {
      "cell_type": "code",
      "metadata": {
        "colab": {
          "base_uri": "https://localhost:8080/",
          "height": 283
        },
        "id": "ufaL6pZDjPeO",
        "outputId": "38db42cf-621f-4ffe-f69a-c71fc723a9f2"
      },
      "source": [
        "df.text.str.len().plot()"
      ],
      "execution_count": null,
      "outputs": [
        {
          "output_type": "execute_result",
          "data": {
            "text/plain": [
              "<matplotlib.axes._subplots.AxesSubplot at 0x7f809f929d90>"
            ]
          },
          "metadata": {
            "tags": []
          },
          "execution_count": 171
        },
        {
          "output_type": "display_data",
          "data": {
            "image/png": "[encoded data removed]",
            "text/plain": [
              "<Figure size 432x288 with 1 Axes>"
            ]
          },
          "metadata": {
            "tags": [],
            "needs_background": "light"
          }
        }
      ]
    },
    {
      "cell_type": "code",
      "metadata": {
        "colab": {
          "base_uri": "https://localhost:8080/"
        },
        "id": "lCOrdTuZi8u6",
        "outputId": "11387634-a88c-4518-b4de-03b1502eac98"
      },
      "source": [
        "df.shape"
      ],
      "execution_count": null,
      "outputs": [
        {
          "output_type": "execute_result",
          "data": {
            "text/plain": [
              "(611622, 7)"
            ]
          },
          "metadata": {
            "tags": []
          },
          "execution_count": 172
        }
      ]
    },
    {
      "cell_type": "code",
      "metadata": {
        "id": "RWJlkK-rmBCt"
      },
      "source": [
        "# drop id and date columns - this columns are not relevant for the model building\n",
        "df.drop(['id','date'], axis =1, inplace = True)"
      ],
      "execution_count": null,
      "outputs": []
    },
    {
      "cell_type": "markdown",
      "metadata": {
        "id": "ox0Egdoce53k"
      },
      "source": [
        "# Perform data pre-processing on the data: • Data cleansing by removing unwanted characters, spaces, stop words etc. Convert text to lowercase."
      ]
    },
    {
      "cell_type": "code",
      "metadata": {
        "id": "Ydm5WbBRB4-6"
      },
      "source": [
        "# There are 68,124 records and is huge to perform analysis and computation, \n",
        "# hence we will take a subset of the entire data-set once all errors are fixed and optimization is done\n",
        "blog_df = df[:10000]"
      ],
      "execution_count": null,
      "outputs": []
    },
    {
      "cell_type": "code",
      "metadata": {
        "colab": {
          "base_uri": "https://localhost:8080/"
        },
        "id": "qkv3o02TCAL5",
        "outputId": "f0a908d1-c74e-448b-d593-9891927819d1"
      },
      "source": [
        "blog_df.shape"
      ],
      "execution_count": null,
      "outputs": [
        {
          "output_type": "execute_result",
          "data": {
            "text/plain": [
              "(10000, 5)"
            ]
          },
          "metadata": {
            "tags": []
          },
          "execution_count": 175
        }
      ]
    },
    {
      "cell_type": "code",
      "metadata": {
        "id": "Q928S9tGojZP"
      },
      "source": [
        "# remove unwanted space\n",
        "blog_df['Clean_text'] = blog_df['text'].apply(lambda x: re.sub(\"[^\\w ]\",\"\",x))"
      ],
      "execution_count": null,
      "outputs": []
    },
    {
      "cell_type": "code",
      "metadata": {
        "colab": {
          "base_uri": "https://localhost:8080/",
          "height": 203
        },
        "id": "xnlrXMpRnb9E",
        "outputId": "0b491980-90b9-497e-902b-e8949478b941"
      },
      "source": [
        "blog_df.head()"
      ],
      "execution_count": null,
      "outputs": [
        {
          "output_type": "execute_result",
          "data": {
            "text/html": [
              "<div>\n",
              "<style scoped>\n",
              "    .dataframe tbody tr th:only-of-type {\n",
              "        vertical-align: middle;\n",
              "    }\n",
              "\n",
              "    .dataframe tbody tr th {\n",
              "        vertical-align: top;\n",
              "    }\n",
              "\n",
              "    .dataframe thead th {\n",
              "        text-align: right;\n",
              "    }\n",
              "</style>\n",
              "<table border=\"1\" class=\"dataframe\">\n",
              "  <thead>\n",
              "    <tr style=\"text-align: right;\">\n",
              "      <th></th>\n",
              "      <th>gender</th>\n",
              "      <th>age</th>\n",
              "      <th>topic</th>\n",
              "      <th>sign</th>\n",
              "      <th>text</th>\n",
              "      <th>Clean_text</th>\n",
              "    </tr>\n",
              "  </thead>\n",
              "  <tbody>\n",
              "    <tr>\n",
              "      <th>0</th>\n",
              "      <td>male</td>\n",
              "      <td>15</td>\n",
              "      <td>Student</td>\n",
              "      <td>Leo</td>\n",
              "      <td>Info has been found (+/- 100 pages,...</td>\n",
              "      <td>Info has been found  100 pages and ...</td>\n",
              "    </tr>\n",
              "    <tr>\n",
              "      <th>1</th>\n",
              "      <td>male</td>\n",
              "      <td>15</td>\n",
              "      <td>Student</td>\n",
              "      <td>Leo</td>\n",
              "      <td>These are the team members:   Drewe...</td>\n",
              "      <td>These are the team members   Drewes...</td>\n",
              "    </tr>\n",
              "    <tr>\n",
              "      <th>2</th>\n",
              "      <td>male</td>\n",
              "      <td>15</td>\n",
              "      <td>Student</td>\n",
              "      <td>Leo</td>\n",
              "      <td>In het kader van kernfusie op aarde...</td>\n",
              "      <td>In het kader van kernfusie op aarde...</td>\n",
              "    </tr>\n",
              "    <tr>\n",
              "      <th>3</th>\n",
              "      <td>male</td>\n",
              "      <td>15</td>\n",
              "      <td>Student</td>\n",
              "      <td>Leo</td>\n",
              "      <td>testing!!!  testing!!!</td>\n",
              "      <td>testing  testing</td>\n",
              "    </tr>\n",
              "    <tr>\n",
              "      <th>4</th>\n",
              "      <td>male</td>\n",
              "      <td>33</td>\n",
              "      <td>InvestmentBanking</td>\n",
              "      <td>Aquarius</td>\n",
              "      <td>Thanks to Yahoo!'s Toolbar I can ...</td>\n",
              "      <td>Thanks to Yahoos Toolbar I can no...</td>\n",
              "    </tr>\n",
              "  </tbody>\n",
              "</table>\n",
              "</div>"
            ],
            "text/plain": [
              "  gender  ...                                         Clean_text\n",
              "0   male  ...             Info has been found  100 pages and ...\n",
              "1   male  ...             These are the team members   Drewes...\n",
              "2   male  ...             In het kader van kernfusie op aarde...\n",
              "3   male  ...                         testing  testing          \n",
              "4   male  ...               Thanks to Yahoos Toolbar I can no...\n",
              "\n",
              "[5 rows x 6 columns]"
            ]
          },
          "metadata": {
            "tags": []
          },
          "execution_count": 177
        }
      ]
    },
    {
      "cell_type": "code",
      "metadata": {
        "id": "FWto7OzApLjo"
      },
      "source": [
        "# covert text to lowercase\n",
        "blog_df['Clean_text'] = blog_df['Clean_text'].apply(lambda x: x.lower())"
      ],
      "execution_count": null,
      "outputs": []
    },
    {
      "cell_type": "code",
      "metadata": {
        "colab": {
          "base_uri": "https://localhost:8080/",
          "height": 203
        },
        "id": "V2wJ-1kjnUsx",
        "outputId": "22120a40-103c-49c9-a804-3dec3297a10d"
      },
      "source": [
        "blog_df.head()"
      ],
      "execution_count": null,
      "outputs": [
        {
          "output_type": "execute_result",
          "data": {
            "text/html": [
              "<div>\n",
              "<style scoped>\n",
              "    .dataframe tbody tr th:only-of-type {\n",
              "        vertical-align: middle;\n",
              "    }\n",
              "\n",
              "    .dataframe tbody tr th {\n",
              "        vertical-align: top;\n",
              "    }\n",
              "\n",
              "    .dataframe thead th {\n",
              "        text-align: right;\n",
              "    }\n",
              "</style>\n",
              "<table border=\"1\" class=\"dataframe\">\n",
              "  <thead>\n",
              "    <tr style=\"text-align: right;\">\n",
              "      <th></th>\n",
              "      <th>gender</th>\n",
              "      <th>age</th>\n",
              "      <th>topic</th>\n",
              "      <th>sign</th>\n",
              "      <th>text</th>\n",
              "      <th>Clean_text</th>\n",
              "    </tr>\n",
              "  </thead>\n",
              "  <tbody>\n",
              "    <tr>\n",
              "      <th>0</th>\n",
              "      <td>male</td>\n",
              "      <td>15</td>\n",
              "      <td>Student</td>\n",
              "      <td>Leo</td>\n",
              "      <td>Info has been found (+/- 100 pages,...</td>\n",
              "      <td>info has been found  100 pages and ...</td>\n",
              "    </tr>\n",
              "    <tr>\n",
              "      <th>1</th>\n",
              "      <td>male</td>\n",
              "      <td>15</td>\n",
              "      <td>Student</td>\n",
              "      <td>Leo</td>\n",
              "      <td>These are the team members:   Drewe...</td>\n",
              "      <td>these are the team members   drewes...</td>\n",
              "    </tr>\n",
              "    <tr>\n",
              "      <th>2</th>\n",
              "      <td>male</td>\n",
              "      <td>15</td>\n",
              "      <td>Student</td>\n",
              "      <td>Leo</td>\n",
              "      <td>In het kader van kernfusie op aarde...</td>\n",
              "      <td>in het kader van kernfusie op aarde...</td>\n",
              "    </tr>\n",
              "    <tr>\n",
              "      <th>3</th>\n",
              "      <td>male</td>\n",
              "      <td>15</td>\n",
              "      <td>Student</td>\n",
              "      <td>Leo</td>\n",
              "      <td>testing!!!  testing!!!</td>\n",
              "      <td>testing  testing</td>\n",
              "    </tr>\n",
              "    <tr>\n",
              "      <th>4</th>\n",
              "      <td>male</td>\n",
              "      <td>33</td>\n",
              "      <td>InvestmentBanking</td>\n",
              "      <td>Aquarius</td>\n",
              "      <td>Thanks to Yahoo!'s Toolbar I can ...</td>\n",
              "      <td>thanks to yahoos toolbar i can no...</td>\n",
              "    </tr>\n",
              "  </tbody>\n",
              "</table>\n",
              "</div>"
            ],
            "text/plain": [
              "  gender  ...                                         Clean_text\n",
              "0   male  ...             info has been found  100 pages and ...\n",
              "1   male  ...             these are the team members   drewes...\n",
              "2   male  ...             in het kader van kernfusie op aarde...\n",
              "3   male  ...                         testing  testing          \n",
              "4   male  ...               thanks to yahoos toolbar i can no...\n",
              "\n",
              "[5 rows x 6 columns]"
            ]
          },
          "metadata": {
            "tags": []
          },
          "execution_count": 179
        }
      ]
    },
    {
      "cell_type": "code",
      "metadata": {
        "id": "obTERT1mpUI2"
      },
      "source": [
        "blog_df['Clean_text'] = blog_df['Clean_text'].apply(lambda x: x.strip())"
      ],
      "execution_count": null,
      "outputs": []
    },
    {
      "cell_type": "code",
      "metadata": {
        "colab": {
          "base_uri": "https://localhost:8080/",
          "height": 203
        },
        "id": "eDgmz0jooHBA",
        "outputId": "9f6b81d4-7b1f-4c91-e349-5794827d66ce"
      },
      "source": [
        "blog_df.head()"
      ],
      "execution_count": null,
      "outputs": [
        {
          "output_type": "execute_result",
          "data": {
            "text/html": [
              "<div>\n",
              "<style scoped>\n",
              "    .dataframe tbody tr th:only-of-type {\n",
              "        vertical-align: middle;\n",
              "    }\n",
              "\n",
              "    .dataframe tbody tr th {\n",
              "        vertical-align: top;\n",
              "    }\n",
              "\n",
              "    .dataframe thead th {\n",
              "        text-align: right;\n",
              "    }\n",
              "</style>\n",
              "<table border=\"1\" class=\"dataframe\">\n",
              "  <thead>\n",
              "    <tr style=\"text-align: right;\">\n",
              "      <th></th>\n",
              "      <th>gender</th>\n",
              "      <th>age</th>\n",
              "      <th>topic</th>\n",
              "      <th>sign</th>\n",
              "      <th>text</th>\n",
              "      <th>Clean_text</th>\n",
              "    </tr>\n",
              "  </thead>\n",
              "  <tbody>\n",
              "    <tr>\n",
              "      <th>0</th>\n",
              "      <td>male</td>\n",
              "      <td>15</td>\n",
              "      <td>Student</td>\n",
              "      <td>Leo</td>\n",
              "      <td>Info has been found (+/- 100 pages,...</td>\n",
              "      <td>info has been found  100 pages and 45 mb of pd...</td>\n",
              "    </tr>\n",
              "    <tr>\n",
              "      <th>1</th>\n",
              "      <td>male</td>\n",
              "      <td>15</td>\n",
              "      <td>Student</td>\n",
              "      <td>Leo</td>\n",
              "      <td>These are the team members:   Drewe...</td>\n",
              "      <td>these are the team members   drewes van der la...</td>\n",
              "    </tr>\n",
              "    <tr>\n",
              "      <th>2</th>\n",
              "      <td>male</td>\n",
              "      <td>15</td>\n",
              "      <td>Student</td>\n",
              "      <td>Leo</td>\n",
              "      <td>In het kader van kernfusie op aarde...</td>\n",
              "      <td>in het kader van kernfusie op aarde  maak je e...</td>\n",
              "    </tr>\n",
              "    <tr>\n",
              "      <th>3</th>\n",
              "      <td>male</td>\n",
              "      <td>15</td>\n",
              "      <td>Student</td>\n",
              "      <td>Leo</td>\n",
              "      <td>testing!!!  testing!!!</td>\n",
              "      <td>testing  testing</td>\n",
              "    </tr>\n",
              "    <tr>\n",
              "      <th>4</th>\n",
              "      <td>male</td>\n",
              "      <td>33</td>\n",
              "      <td>InvestmentBanking</td>\n",
              "      <td>Aquarius</td>\n",
              "      <td>Thanks to Yahoo!'s Toolbar I can ...</td>\n",
              "      <td>thanks to yahoos toolbar i can now capture the...</td>\n",
              "    </tr>\n",
              "  </tbody>\n",
              "</table>\n",
              "</div>"
            ],
            "text/plain": [
              "  gender  ...                                         Clean_text\n",
              "0   male  ...  info has been found  100 pages and 45 mb of pd...\n",
              "1   male  ...  these are the team members   drewes van der la...\n",
              "2   male  ...  in het kader van kernfusie op aarde  maak je e...\n",
              "3   male  ...                                   testing  testing\n",
              "4   male  ...  thanks to yahoos toolbar i can now capture the...\n",
              "\n",
              "[5 rows x 6 columns]"
            ]
          },
          "metadata": {
            "tags": []
          },
          "execution_count": 181
        }
      ]
    },
    {
      "cell_type": "code",
      "metadata": {
        "id": "_kiikVR3hUHm",
        "colab": {
          "base_uri": "https://localhost:8080/"
        },
        "outputId": "3e07914a-aefb-4d33-9ad7-94ef70e48224"
      },
      "source": [
        "print(\"Actual data=======> {}\".format(blog_df['text'][1]))"
      ],
      "execution_count": null,
      "outputs": [
        {
          "output_type": "stream",
          "text": [
            "Actual data=======>            These are the team members:   Drewes van der Laag           urlLink mail  Ruiyu Xie                     urlLink mail  Bryan Aaldering (me)          urlLink mail          \n"
          ],
          "name": "stdout"
        }
      ]
    },
    {
      "cell_type": "code",
      "metadata": {
        "colab": {
          "base_uri": "https://localhost:8080/"
        },
        "id": "VFs0388-psjK",
        "outputId": "3594a7d9-0e75-4085-834f-512fa66bce33"
      },
      "source": [
        "print(\"Cleaned data=======> {}\".format(blog_df['Clean_text'][1]))"
      ],
      "execution_count": null,
      "outputs": [
        {
          "output_type": "stream",
          "text": [
            "Cleaned data=======> these are the team members   drewes van der laag           urllink mail  ruiyu xie                     urllink mail  bryan aaldering me          urllink mail\n"
          ],
          "name": "stdout"
        }
      ]
    },
    {
      "cell_type": "code",
      "metadata": {
        "id": "OF7KxVqtqe1X",
        "colab": {
          "base_uri": "https://localhost:8080/"
        },
        "outputId": "52618770-34d8-43e2-8e4c-d3b78dbcd3ec"
      },
      "source": [
        "import nltk\n",
        "from nltk.corpus import stopwords\n",
        "nltk.download('stopwords')\n",
        "stopwords = set(stopwords.words('english'))\n",
        "blog_df['Clean_text'] = blog_df['Clean_text'].apply(lambda x: ' '.join([word for word in x.split() if word not in stopwords]))"
      ],
      "execution_count": null,
      "outputs": [
        {
          "output_type": "stream",
          "text": [
            "[nltk_data] Downloading package stopwords to /root/nltk_data...\n",
            "[nltk_data]   Package stopwords is already up-to-date!\n"
          ],
          "name": "stdout"
        }
      ]
    },
    {
      "cell_type": "code",
      "metadata": {
        "colab": {
          "base_uri": "https://localhost:8080/"
        },
        "id": "jnAX9Ol8rNhd",
        "outputId": "c6c0b5e1-42c9-442e-b9ac-7806153bb187"
      },
      "source": [
        "blog_df.iloc[2][['text', 'Clean_text']].to_dict()"
      ],
      "execution_count": null,
      "outputs": [
        {
          "output_type": "execute_result",
          "data": {
            "text/plain": [
              "{'Clean_text': 'het kader van kernfusie op aarde maak je eigen waterstofbom build hbomb ascotttartarusuwaeduau andrew scott newsgroups rechumor subject build hbomb humorous date 7 feb 1994 074114 gmt organization university western australia original file dated 12th november 1990 seemed transcript seven days article poorly formatted corrupted added text examine microscope malleable like gold missing anyone full text please distribute responsible accuracy information converted html dionisioinfinetcom 111398 little spellchecking minor edits stolen urllink httpmyohiovoyagernetdionisiofunmownhbombhtml reformatted html validates xhtml 10 strict build hbomb making owning hbomb kind challenge real americans seek wants passive victim nuclear war little effort active participant bomb shelters losers wants huddle together underground eating canned spam winners want push button making hbomb big step nuclear assertiveness training called taking charge sure youll enjoy risks heady thrill playing nuclear chicken introduction feds clamped progressive magazine attempting publish article manufacture hydrogen bomb piqued curiosity really true atomic hydrogen bomb technology simple could build hbomb kitchen seven days decided find food editor barbara ehrenreich investigative reporter peter biskind photographer jane melnick nuclear scientist michio kaku given three days cook workable hbomb decided share culinary secrets seven days supports nuclear terrorism dont would prefer die slowly familiar poisons like lowlevel radiation microwaves ddt dbcp aflatoxins pbbs pbcs food dyes rather unexpectedly say hostage latvian nationalist brandishing homemade bomb view real terrorists governments american soviet french chinese british hoarding hbombs use worse still governments us french german eagerly peddling advanced nuclear technology countries like south africa brazil argentina make bombs bombs used worlds bigtime nuclear peddlers along corporate suppliers like general electric westinghouse gulf oil thank gagging progressive national security backyard bomb shelters like news heart successful hbomb successful abomb youve got abombs made rest frosting cake set detonate theyll start hydrogenfusion reaction part 1 making bomb step 1 getting ingredients uranium basic ingredient abomb uranium atoms nucleus splits apart releases tremendous amount energy size emits neutrons go split nearby uranium nuclei releasing energy called chain reaction atoms split matter converted energy according einsteins equation emc2 better way mark birthday atomic fireworks two kinds isotopes uranium rare u235 used bombs common heavier useless u238 natural uranium contains less 1 percent u235 order usable bombs enriched 90 percent u235 10 percent u238 plutonium239 also used bombs substitute u235 ten pounds u235 slightly less plutonium necessary bomb less ten pounds wont give critical mass purifying enriching naturally occurring uranium likely first big hurdle infinitely easy steal readytouse enriched uranium plutonium enrich stealing uranium hard sounds least three sources enriched uranium plutonium enriched uranium manufactured gaseous diffusion plant portsmouth ohio shipped 10 liter bottles airplane trucks conversion plants turn uranium oxide uranium metal 10 liter bottle contains 7 kilograms u235 20 bottles typical shipment conversion facilities exist hematite missouri apollo pennsylvania erwin tennessee kerrmcgee plant crescent oklahoma karen silkwood worked conversion plant lost 40 lbs plutonium enriched uranium stolen plants fuelfabricating plants like new san diego lynchburg virginia former kerrmcgee supervisor james v smith asked silkwood trial security precautions plant prevent theft testified none kind guards fences nothing plutonium obtained places like united nuclear pawling new york nuclear fuel services erwin tennessee general electric pleasanton california westinghouse cheswick pennsylvania nuclear materials equipment corporation numec leechburg pennsylvania plants hanfford washington morris illinois according rolling stone magazine israelis involved theft plutonium numec finally steal enriched uranium plutonium enroute conversion plants fuel fabricating plants usually transported air truck form uranium oxide brownish powder resembling instant coffee metal coming small chunks called broken buttons forms shipped small cans stacked 5inch cylinders braced welded struts center ordinary 55 gallon steel drums drums weigh 100 pounds clearly marked fissible material danger plutonium typical shipment might go enrichment plant portsmouth ohio conversion plant hematite missouri kansas city truck would flown los angeles trucked general atomic plant san diego plans general atomic plant file nuclear regulatory commissions reading room 1717 h street nw washington xerox machine provided convenience public cant get hold enriched uranium youll settle commercial grade 20 percent u235 stolen university reactors type called triga mark ii security even casual commercial plants stealing uranium seems tacky buy unenriched uranium available chemical supply house 23 pound commercial grade 3 20 percent enriched available 40 pound gulf atomic youll enrich quite frankly something pain ass youll need start little 50 pounds commercialgrade uranium 20 percent u235 best need 10 pounds u235 little kitchentable chemistry youll able convert solid uranium oxide youve purchased liquid form youve done youll able separate u235 youll need u238 first pour gallons concentrated hydrofluoric acid uranium oxide converting uranium tetrafluoride safety note concentrated hydrofluoric acid corrosive eat way glass store plastic used 1gallon plastic milk containers convert uranium tetrafluoride uranium hexafluoride gaseous form uranium convenient separating isotope u235 u238 get hexafluoride form bubble fluorine gas container uranium tetrafluoride fluorine available pressurized tanks chemicalsupply firms careful use though fluorine several times deadly chlorine classic world war poison gas chemists recommend carry step stove hood kind used remove unpleasant cooking odors youve done chemistry right generous supply uranium hexafluoride ready enriching old horseandbuggy days abomb manufacture enrichment carried passing uranium hexafluoride hundreds miles pipes tubes membranes u235 eventually separated u238 gaseousdiffusion process called difficult timeconsuming expensive gaseousdiffusion plants cover hundreds acres cost neighborhood 2billion forget easier cheaper ways enrich uranium first transform gas liquid subjecting pressure use bicycle pump make simple home centrifuge fill standardsize bucket onequarter full liquid uranium hexafluoride attach sixfoot rope bucket handle swing rope attached bucket around head fast possible keep 45 minutes slow gradually gently put bucket floor u235 lighter risen top skimmed like cream repeat step required 10 pounds uranium safety note dont put enriched uranium hexafluoride one bucket use least two three buckets keep separate corners room prevent premature buildup critical mass time convert enriched uranium back metal form easily enough accomplished spooning several ladlefuls calcium available tablet form drugstore bucket uranium calcium react uranium hexafluoride produce calcium fluoride colorless salt easily separated pure enriched uranium metal precautions uranium dangerously radioactive amounts youll handling plan make one bomb might wise wear gloves lead apron kind buy dental supply stores plutonium one toxic substances known inhaled thousandth gram cause massive fibrosis lungs painful way go even millionth gram lungs cause cancer eaten plutonium metabolized like calcium goes straight bones gives alpha particles preventing bone marrow manufacturing red blood cells best way avoid inhaling plutonium hold breath handling difficult wear mask avoid ingesting plutonium orally follow simple rule never make abomb empty stomach find dozing youre working begin glow dark might wise take blood count prick finger sterile pin place drop blood microscope slide cover cover slip examine microscope best results obtained early morning get leukemia immature cells released bloodstream usually number white cells increases though increase might take almost 2 weeks red blood cells look kind like donuts without hole slightly smaller white cells nucleus immature red cells look similar white cells ie slightly larger nucleus 1 white cell including immature ones 400 red cells start worry depending upon plans eventual use bomb short life expectancy might problem step 2 assembling abomb youve acquired enriched uranium thats left assemble abomb go find couple stainless steel salad bowls also want separate 10 pounds u235 two hunks keep apart idea push half uranium inside bowl take one hunk uranium beat inside first bowl uranium malleable like gold trouble hammering bowl get good fit take another fivepound hunk uranium fit second stainless steel bowl two bowls u235 subcritical masses brought together forcefully provide critical mass makes abomb go keep respectful distance apart working dont want go critical least yet hollow body old vacuum cleaner place two hemispherical bowls inside open ends facing less seven inches apart using masking tape set position reason steel bowls vacuum cleaner case youre wondering help reflect neutrons back uranium efficient explosion loose neutron useless neutron abomb pioneers used say far abomb goes youre almost done final problem figure get two u235 hemispheres smash sufficient force set truly effective fission reaction almost type explosive used drive together gunpowder example easily made home potassium nitrate sulfur carbon get blasting caps tnt buy steal construction site best c4 plastic explosive mold around bowls fairly safe work might wise shape around extra salad bowl another room fit uraniumpacked bowls particularly true winter stray static electrical charge might induce ignition c4 responsible bomb maker considers impolite accidentally destroy neighborhood absolutely necessary explosives place need hook simple detonation device batteries switch wire remember though essential two charges one side casing go simultaneously put whole thing casing old hoover vacuum cleaner youre finished part process rest easy step 3 make abombs following directions word wise wastes abomb completed youll pile moderately fatal radioactive wastes like u238 dangerous get rid flush leftovers toilet dont worry polluting ocean already much radioactive waste bucketfuls wont make waves whatsoever youre fastidious type kind never leaves gum seat movies seal nasty stuff coffee cans bury backyard like uncle sam neighbor kids habit trampling lawn tell play waste youll soon find theyre spending time bed going first class youre like us youre feeling economic pinch youll want make bomb inexpensively possible consonant course reasonable yield recipe weve given budgetpleasing hbomb frills flourishes simple 5megaton bomb capable wiping new york metropolitan area san francisco bay area boston dont forget hbomb good abombs want spend little money punchup abomb considerably instead centrifuging uranium hand buy commercial centrifuge fisher scientific sells one 1000 also might want fussier design hiroshima bomb relatively crude one fissioned 1 percent uranium yielded 13 kilotons order fission uranium force explosive trigger needs evenly diffused around sphere pressure exerted every point sphere simultaneously technique producing sort simultaneous detonation fashioning explosives lenses government accused julius ethel rosenberg trying steal part 2 putting hbomb together heart hbomb fusion process several abombs detonated way create extremely high temperature 100 million degrees c necessary fuse lithium deuteride lid helium lithium nucleus slams deuterium nucleus two helium nuclei created happens enough deuterium nuclei rapidly enough result enormous amount energy energy hbomb dont worry stealing lithium deuteride purchased chemicalsupply house costs 1000 pound budget wont allow substitute lithium hydride 40 pound need least 100 pounds corrosive toxic powder careful place lithium deuteride hydride glass jars surround four abombs casings attach detonator go simultaneously container whole thing problem placed anywhere inside old stereo console discarded refrigerator etc detonator sets four abombs eight hemispheres fissionable material slam time creating four critical masses four detonations raise temperature lithium deuteride 100 million degrees c fast enough billionths second lithium blown neighborhood nuclei time fuse result least 1000 times punch puny abomb leveled hiroshima 20 million tons tnt vs 20 thousand tons part 3 bomb fully assembled hbomb housed attractive console choice may wondering every family answer question according tastes preferences may want explore possibilities successfully pioneered american government 1 sell bomb make pile money days rising inflation increasing unemployment uncertain economic outlook businesses make much sense weapons production career forecast cloudy bomb sales may sure way avoid humiliation receiving welfare unemployment regardless present income level home hbomb business invaluable income supplement certainly profitable alternative selling tupperware pirated girl scout cookies unfortunately family bomb business big government already cornered large part world market mean shortage potential customers raid entebee waterloo hijacking many nationalist groups alert new means get message across theyd jump chance get hold hbomb emerging nations cant ante enough rice sugar buy reactor ge westinghouse also shopping around may wonder ethics selling nations groups whose goals may disapprove take tip government forget ideology cash counts remember hbomb sales way escalating almost like chain reaction suppose make sale south yemen believe soviet puppet well within days discrete inquiries north yemen possibly saudis egyptians ethiopians well expected similarly sale ira generate sale ulster government sale tanzanians bring ugandans running forth doesnt matter side youre many sides dont forget possibility repeat sales customer experience us ussr shown individual nation potentially infinite need hbombs customer matter small ever many 2 use bomb home many families attracted hbomb simply deterrent discrete sticker door living room window saying home protected hbomb discourage irs investigators census takers jehovahs witnesses youll surprised fast crime rate go property values go news gets home hbomb owner youll find unexpected leverage neighborhood disputes everything parking places stereo noise levels school tax rates relax enjoy pride excitement home hbomb ownership lets honest hbomb isnt everyone frankly people cant handle break hives mention megadeath fallout radiation sickness following quiz help find whether takes home hbomb ownership answer yes six questions youre emotionally eligible join nuclear club conventional weapon may cup tea try botulismtoxin laser rays nerve gas 1 ignore demands others 2 subscribe one following soldier fortune hustler popular mechanics self 3 though many interesting acquaintances best friend 4 know say say hello seldom interested pursuing conversation 5 seen movie deer hunter 6 know everyone winner want resent whiners 7 one following handgun video game trash compactor snowmobile 8 convinced leukemia psychosomatic 9 aware vegetarians sexually impotent 10 read evidence solar energy communist conspiracy myths nuclear war ever since first mushroom cloud hiroshima ushered atomic age small group naysayers doommongers lobbied campaigned demonstrated convince americans hbomb ownership along nuclear power dangerous unhealthy using virtual stranglehold media people tried discredit everything nuclear energy war vastly overrated risks nuclear bombs left many americans feeling demoralized indecisive sure truth lies well myths facts myth nuclear exchange earth longer suitable human habitation fact completely false according one scientist quoted john mcpees curve binding energy largest bomb ever exploded anywhere 60 megatons onethousandth force earthquake onethousandth force hurricane lived earthquakes hurricanes long time another scientist adds often assumed full blown nuclear war would end life earth far truth end life earth would take least thousand times total yield nuclear explosives existing world probably lot even humans succumbed many forms life would survive nuclear freeforall cockroaches certain forms bacteria lichens instance myth radiation bad fact everything bad much eat many bananas youll get stomachache get much sun get sunburned even skin cancer thing radiation much may make feel weather nuclear industry officials insist evidence lowlevel radiation really serious adverse effects highlevel radiation may bring unexpected benefits speeds evolution weeding unwanted genetic types creating new ones remember old saying two heads better one nearer home plain radiation get rid pesky crab grass weeds teenagers find brief exposure nuclear burst vaporizes acne skin blemishes many survivors hiroshima bomb found free skin attendant problems forever hope clears misconceptions may enjoy hbomb',\n",
              " 'text': \"           In het kader van kernfusie op aarde:  MAAK JE EIGEN WATERSTOFBOM   How to build an H-Bomb From: ascott@tartarus.uwa.edu.au (Andrew Scott) Newsgroups: rec.humor Subject: How To Build An H-Bomb (humorous!) Date: 7 Feb 1994 07:41:14 GMT Organization: The University of Western Australia  Original file dated 12th November 1990. Seemed to be a transcript of a 'Seven Days' article. Poorly formatted and corrupted. I have added the text between 'examine under a microscope' and 'malleable, like gold,' as it was missing. If anyone has the full text, please distribute. I am not responsible for the accuracy of this information. Converted to HTML by Dionisio@InfiNet.com 11/13/98. (Did a little spell-checking and some minor edits too.) Stolen from  urlLink http://my.ohio.voyager.net/~dionisio/fun/m...own-h-bomb.html  and reformatted the HTML. It now validates to XHTML 1.0 Strict. How to Build an H-Bomb Making and owning an H-bomb is the kind of challenge real Americans seek. Who wants to be a passive victim of nuclear war when, with a little effort, you can be an active participant? Bomb shelters are for losers. Who wants to huddle together underground eating canned Spam? Winners want to push the button themselves. Making your own H-bomb is a big step in nuclear assertiveness training -- it's called Taking Charge. We're sure you'll enjoy the risks and the heady thrill of playing nuclear chicken. Introduction When the Feds clamped down on The Progressive magazine for attempting to publish an article on the manufacture of the hydrogen bomb, it piqued our curiosity. Was it really true that atomic and hydrogen bomb technology was so simple you could build an H-bomb in your own kitchen? Seven Days decided to find out. Food editor Barbara Ehrenreich, investigative reporter Peter Biskind, Photographer Jane Melnick and nuclear scientist Michio Kaku were given three days to cook up a workable H-bomb. They did and we have decided to share their culinary secrets with you. Not that Seven Days supports nuclear terrorism. We don't. We would prefer to die slowly from familiar poisons like low-level radiation, microwaves, DDT, DBCP, aflatoxins, PBBs, PBCs, or food dyes, rather than unexpectedly, say as hostage to a Latvian nationalist brandishing a homemade bomb. In our view the real terrorists are the governments, American, Soviet, French, Chinese, and British, that are hoarding H-bombs for their own use, and worse still, those governments (U.S., French and German) that are eagerly peddling advanced nuclear technology to countries like South Africa, Brazil, and Argentina so that they can make their own bombs. When these bombs are used, and they will be, it will be the world's big-time nuclear peddlers, along with corporate suppliers like General Electric, Westinghouse, and Gulf Oil, that we can thank for it. Gagging The Progressive will do no more for national security than backyard bomb shelters because like it or not the news is out. The heart of the successful H-bomb is the successful A-bomb. Once you've got your A-bombs made the rest is frosting on the cake. All you have to do is set them up so that when they detonate they'll start off a hydrogen-fusion reaction.  Part 1: Making Your Bomb Step 1: Getting the Ingredients Uranium is the basic ingredient of the A-bomb. When a uranium atom's nucleus splits apart, it releases a tremendous amount of energy (for its size), and it emits neutrons which go on to split other nearby uranium nuclei, releasing more energy, in what is called a 'chain reaction'. (When atoms split, matter is converted into energy according to Einstein's equation E=MC2. What better way to mark his birthday than with your own atomic fireworks?) There are two kinds (isotopes) of uranium: the rare U-235, used in bombs, and the more common, heavier, but useless U-238. Natural uranium contains less than 1 percent U-235 and in order to be usable in bombs it has to be 'enriched' to 90 percent U-235 and only 10 percent U-238. Plutonium-239 can also be used in bombs as a substitute for U-235. Ten pounds of U-235 (or slightly less plutonium) is all that is necessary for a bomb. Less than ten pounds won't give you a critical mass. So purifying or enriching naturally occurring uranium is likely to be your first big hurdle. It is infinitely easy to steal ready-to-use enriched uranium or plutonium than to enrich some yourself. And stealing uranium is not as hard as it sounds. There are at least three sources of enriched uranium or plutonium... Enriched uranium is manufactured at a gaseous diffusion plant in Portsmouth, Ohio. From there it is shipped in 10 liter bottles by airplane and trucks to conversion plants that turn it into uranium oxide or uranium metal. Each 10 liter bottle contains 7 kilograms of U-235, and there are 20 bottles to a typical shipment. Conversion facilities exist at Hematite, Missouri; Apollo, Pennsylvania; and Erwin, Tennessee. The Kerr-McGee plant at Crescent Oklahoma -- where Karen Silkwood worked -- was a conversion plant that 'lost' 40 lbs of plutonium. Enriched uranium can be stolen from these plants or from fuel-fabricating plants like those in New Haven, San Diego; or Lynchburg, Virginia. (A former Kerr-McGee supervisor, James V. Smith, when asked at the Silkwood trial if there were any security precautions at the plant to prevent theft, testified that 'There were none of any kind, no guards, no fences, no nothing.') Plutonium can be obtained from places like United Nuclear in Pawling, New York; Nuclear Fuel Services in Erwin, Tennessee; General Electric in Pleasanton, California; Westinghouse in Cheswick, Pennsylvania; Nuclear Materials and Equipment Corporation (NUMEC) in Leechburg, Pennsylvania; and plants in Hanfford, Washington and Morris, Illinois. According to Rolling Stone magazine the Israelis were involved in the theft of plutonium from NUMEC. Finally you can steal enriched uranium or plutonium while it's en-route from conversion plants to fuel fabricating plants. It is usually transported (by air or truck) in the form of uranium oxide, a brownish powder resembling instant coffee, or as a metal, coming in small chunks called 'broken buttons.' Both forms are shipped in small cans stacked in 5-inch cylinders braced with welded struts in the center of ordinary 55 gallon steel drums. The drums weigh about 100 pounds and are clearly marked 'Fissible Material' or 'Danger, Plutonium.' A typical shipment might go from the enrichment plant at Portsmouth, Ohio to the conversion plant in Hematite Missouri then to Kansas City by truck where it would be flown to Los Angeles and then trucked down to the General Atomic plant in San Diego. The plans for the General Atomic plant are on file at the Nuclear Regulatory Commission's reading room at 1717 H Street NW Washington. A Xerox machine is provided for the convenience of the public. If you can't get hold of any enriched uranium you'll have to settle for commercial grade (20 percent U-235). This can be stolen from university reactors of a type called TRIGA Mark II, where security is even more casual than at commercial plants. If stealing uranium seems too tacky you can buy it. Unenriched uranium is available at any chemical supply house for $23 a pound. Commercial grade (3 to 20 percent enriched) is available for $40 a pound from Gulf Atomic. You'll have to enrich it further yourself. Quite frankly this can be something of a pain in the ass. You'll need to start with a little more than 50 pounds of commercial-grade uranium. (It's only 20 percent U-235 at best, and you need 10 pounds of U-235 so... ) But with a little kitchen-table chemistry you'll be able to convert the solid uranium oxide you've purchased into a liquid form. Once you've done that, you'll be able to separate the U-235 that you'll need from the U-238. First pour a few gallons of concentrated hydrofluoric acid into your uranium oxide, converting it to uranium tetrafluoride. (Safety note: Concentrated hydrofluoric acid is so corrosive that it will eat its way through glass, so store it only in plastic. Used 1-gallon plastic milk containers will do.) Now you have to convert your uranium tetrafluoride to uranium hexafluoride, the gaseous form of uranium, which is convenient for separating out the isotope U-235 from U-238. To get the hexafluoride form, bubble fluorine gas into your container of uranium tetrafluoride. Fluorine is available in pressurized tanks from chemical-supply firms. Be careful how you use it though because fluorine is several times more deadly than chlorine, the classic World War I poison gas. Chemists recommend that you carry out this step under a stove hood (the kind used to remove unpleasant cooking odors). If you've done your chemistry right you should now have a generous supply of uranium hexafluoride ready for enriching. In the old horse-and-buggy days of A-bomb manufacture the enrichment was carried out by passing the uranium hexafluoride through hundreds of miles of pipes, tubes, and membranes, until the U-235 was eventually separated from the U-238. This gaseous-diffusion process, as it was called is difficult, time-consuming, and expensive. Gaseous-diffusion plants cover hundreds of acres and cost in the neighborhood of $2-billion each. So forget it. There are easier, and cheaper, ways to enrich your uranium. First transform the gas into a liquid by subjecting it to pressure. You can use a bicycle pump for this. Then make a simple home centrifuge. Fill a standard-size bucket one-quarter full of liquid uranium hexafluoride. Attach a six-foot rope to the bucket handle. Now swing the rope (and attached bucket) around your head as fast as possible. Keep this up for about 45 minutes. Slow down gradually, and very gently put the bucket on the floor. The U-235, which is lighter, will have risen to the top, where it can be skimmed off like cream. Repeat this step until you have the required 10 pounds of uranium. (Safety note: Don't put all your enriched uranium hexafluoride in one bucket. Use at least two or three buckets and keep them in separate corners of the room. This will prevent the premature build-up of a critical mass.) Now it's time to convert your enriched uranium back to metal form. This is easily enough accomplished by spooning several ladlefuls of calcium (available in tablet form from your drugstore) into each bucket of uranium. The calcium will react with the uranium hexafluoride to produce calcium fluoride, a colorless salt which can be easily be separated from your pure enriched uranium metal. A few precautions: • While uranium is not dangerously radioactive in the amounts you'll be handling, if you plan to make more than one bomb it might be wise to wear gloves and a lead apron, the kind you can buy in dental supply stores. • Plutonium is one of the most toxic substances known. If inhaled, a thousandth of a gram can cause massive fibrosis of the lungs, a painful way to go. Even a millionth of a gram in the lungs will cause cancer. If eaten plutonium is metabolized like calcium. It goes straight to the bones where it gives out alpha particles preventing bone marrow from manufacturing red blood cells. The best way to avoid inhaling plutonium is to hold your breath while handling it. If this is too difficult wear a mask. To avoid ingesting plutonium orally follow this simple rule: never make an A-bomb on an empty stomach. • If you find yourself dozing off while you're working, or if you begin to glow in the dark, it might be wise to take a blood count. Prick your finger with a sterile pin, place a drop of blood on a microscope slide, cover it with a cover slip, and examine under a microscope. (Best results are obtained in the early morning.) When you get leukemia, immature cells are released into the bloodstream, and usually the number of white cells increases (though this increase might take almost 2 weeks). Red blood cells look kind of like donuts (without the hole), and are slightly smaller than the white cells, each of which has a nucleus. Immature red cells look similar to white cells (i.e.. slightly larger and have a nucleus). If you have more than about 1 white cell (including immature ones) to 400 red cells then start to worry. But, depending upon your plans for the eventual use of the bomb, a short life expectancy might not be a problem.  Step 2: Assembling the A-Bomb Now that you've acquired the enriched uranium, all that's left is to assemble your A-bomb. Go find a couple of stainless steel salad bowls. You also want to separate your 10 pounds of U-235 into two hunks. (Keep them apart!) The idea is to push each half your uranium into the inside of a bowl. Take one hunk of your uranium and beat it into the inside of the first bowl. Uranium is malleable, like gold, so you should have no trouble hammering it into the bowl to get a good fit. Take another five-pound hunk of uranium and fit it into a second stainless steel bowl. These two bowls of U-235 are the 'subcritical masses' which, when brought together forcefully, will provide the critical mass that makes your A-bomb go. Keep them a respectful distance apart while working because you don't want them to 'go critical' on you... At least not yet. Now hollow out the body of an old vacuum cleaner and place your two hemispherical bowls inside, open ends facing each other, no less than seven inches apart, using masking tape to set them up in position. The reason for the steel bowls and the vacuum cleaner, in case you're wondering, is that these help reflect the neutrons back into the uranium for a more efficient explosion. 'A loose neutron is a useless neutron' as the A-bomb pioneers used to say. As far as the A-bomb goes, you're almost done. The final problem is to figure out how to get the two U-235 hemispheres to smash into each other with sufficient force to set off a truly effective fission reaction. Almost any type of explosive can be used to drive them together. Gunpowder, for example, is easily made at home from potassium nitrate, sulfur, and carbon. Or, you can get some blasting caps or TNT. (Buy them or steal them from a construction site.) Best of all is C4 plastic explosive. You can mold it around your bowls, and it's fairly safe to work with. (But, it might be wise to shape it around an extra salad bowl in another room, and THEN fit it to your uranium-packed bowls. This is particularly true in winter, when a stray static electrical charge might induce ignition in the C4. A responsible bomb maker considers it impolite to accidentally destroy more of the neighborhood than absolutely necessary.) Once the explosives are in place all you need to do is hook up a simple detonation device with a few batteries, a switch, and some wire. Remember though that it is essential that the two charges -- one on each side of the casing -- go off simultaneously. Now put the whole thing in the casing of an old Hoover vacuum cleaner and you're finished with this part of the process. The rest is easy.  Step 3: Make More A-Bombs Following the Directions Above  A Word to the Wise About Wastes After your A-bomb is completed you'll have a pile of moderately fatal radioactive wastes like U-238. These are not dangerous, but you do have to get rid of them. You can flush leftovers down the toilet. (Don't worry about polluting the ocean, there is already so much radioactive waste there, a few more bucketfuls won't make any waves whatsoever.) If you're the fastidious type -- the kind who never leaves gum under their seat at the movies -- you can seal the nasty stuff in coffee cans and bury it in the backyard, just like Uncle Sam does. If the neighbor kids have a habit of trampling the lawn, tell them to play over by the waste. You'll soon find that they're spending most of their time in bed.  Going First Class If you're like us, you're feeling the economic pinch, and you'll want to make your bomb as inexpensively as possible, consonant of course with reasonable yield. The recipe we've given is for a budget-pleasing H-bomb, no frills, no flourishes; it's just a simple 5-megaton bomb, capable of wiping out the New York metropolitan area, the San Francisco Bay area, or Boston. But don't forget, your H-bomb will only be as good as the A-bombs in it. If you want to spend a little more money you can punch-up your A-bomb considerably. Instead of centrifuging your uranium by hand, you can buy a commercial centrifuge. (Fisher Scientific sells one for about $1000.) You also might want to be fussier about your design. The Hiroshima bomb, a relatively crude one, only fissioned 1 percent of it's uranium and yielded only 13 kilotons. In order to fission more of the uranium, the force of your explosive 'trigger' needs to be evenly diffused around the sphere; the same pressure has to be exerted on every point of the sphere simultaneously. (It was a technique for producing this sort of simultaneous detonation by fashioning the explosives into lenses that the government accused Julius and Ethel Rosenberg of trying to steal).  Part 2: Putting Your H-Bomb Together The heart of the H-bomb is the fusion process. Several A-bombs are detonated in such a way as to create the extremely high temperature (100 million degrees C) necessary to fuse lithium deuteride (LiD) into helium. When the lithium nucleus slams into the deuterium nucleus, two helium nuclei are created, and if this happens to enough deuterium nuclei rapidly enough, the result is an enormous amount of energy: the energy of the H-bomb. You don't have to worry about stealing lithium deuteride, it can be purchased from any chemical-supply house. It costs $1000 a pound. If your budget won't allow it you can substitute lithium hydride at $40 a pound. You will need at least 100 pounds. It's a corrosive and toxic powder so be careful. Place the lithium deuteride or hydride in glass jars and surround it with four A-bombs in their casings. Attach them to the same detonator so that they will go off simultaneously. The container for the whole thing is no problem. They can be placed anywhere: Inside an old stereo console, a discarded refrigerator, etc... When the detonator sets off the four A-bombs all eight hemispheres of fissionable material will slam into each other at the same time creating four critical masses and four detonations. This will raise the temperature of the lithium deuteride to 100 million degrees C fast enough (a few billionths of a second) so that the lithium will not be blown all over the neighborhood before the nuclei have time to fuse. The result, at least 1000 times the punch of the puny A-bomb that leveled Hiroshima (20 million tons of TNT vs. 20 thousand tons.)  Part 3: What to do With Your Bomb Now that you have a fully assembled H-bomb housed in an attractive console of your choice you may be wondering, 'What should I do with it?' Every family will have to answer this question according to its own tastes and preferences, but you may want to explore some possibilities which have been successfully pioneered by the American government. 1. Sell Your Bomb and Make a Pile of Money In these days of rising inflation, increasing unemployment, and an uncertain economic outlook, few businesses make as much sense as weapons production. If your career forecast is cloudy, bomb sales may be the only sure way to avoid the humiliation of receiving welfare, or unemployment. Regardless of your present income level, a home H-bomb business can be an invaluable income supplement, and certainly a profitable alternative to selling Tupperware or pirated Girl Scout cookies. Unfortunately for the family bomb business, big government has already cornered a large part of the world market. But this does not mean that there is a shortage of potential customers. The raid on Entebee was the Waterloo of hijacking, and many nationalist groups are now on the alert for new means to get their message across. They'd jump at the chance to get hold of an H-bomb. Emerging nations which can't ante up enough rice or sugar to buy themselves a reactor from G.E. or Westinghouse are also shopping around. You may wonder about the ethics of selling to nations, or groups, whose goals you may disapprove of. But here again, take a tip from our government: forget ideology -- it's cash that counts. And remember, H-bomb sales have a way of escalating, almost like a chain reaction. Suppose you make a sale to South Yemen which you believe to be a Soviet puppet. Well within a few days some discrete inquiries from North Yemen and possibly the Saudis, the Egyptians and the Ethiopians as well can be expected. Similarly, a sale to the IRA will generate a sale to the Ulster government; and a sale to the Tanzanians will bring the Ugandans running, and so forth. It doesn't matter WHICH side you're on, only how many sides there are. Don't forget about the possibility of repeat sales to the same customer. As the experience of both the U.S. and the U.S.S.R. has shown, each individual nation has a potentially infinite need for H-bombs. No customer -- no matter how small -- can ever have too many. 2. Use Your Bomb at Home Many families are attracted to the H-bomb simply as a 'deterrent.' A discrete sticker on the door or on the living room window saying 'This Home Protected by H-bomb' will discourage IRS investigators, census takers, and Jehovah's Witnesses. You'll be surprised how fast the crime rate will go down and property values will go up. And once the news gets out that you are a home H-bomb owner you'll find that you have unexpected leverage in neighborhood disputes over everything from parking places and stereo noise levels to school tax rates. So relax and enjoy the pride and excitement of home H-bomb ownership!  Is It For You? Let's be honest. The H-bomb isn't for everyone. Frankly there are people who can't handle it. They break out in hives at the very mention of mega-death, fallout, or radiation sickness. The following quiz will help you find out whether you have what it takes for home H-bomb ownership. If you can answer 'yes' to six or more of these questions, then you're emotionally eligible to join the nuclear club. If not, a more conventional weapon may be more your cup of tea, try botulism-toxin, laser rays, or nerve gas. 1. I ignore the demands of others. 2. I subscribe to one or more of the following: Soldier of Fortune, Hustler, Popular Mechanics, Self. 3. Though I have many interesting acquaintances, I am my own best friend. 4. I know what to say after you say 'Hello,' but I am seldom interested in pursuing the conversation. 5. I have seen the movie 'The Deer Hunter' more than once. 6. I know that everyone can be a winner if they want to, and I resent whiners. 7. I own one or more of the following: handgun, video game, trash compactor, snowmobile. 8. I am convinced that leukemia is psychosomatic. 9. I am aware that most vegetarians are sexually impotent. 10. I have read evidence that solar energy is a Communist conspiracy.  Myths About Nuclear War Ever since the first mushroom cloud over Hiroshima ushered in the atomic age, a small group of nay-sayers and doom-mongers has lobbied, campaigned and demonstrated to convince Americans that H-bomb ownership, along with nuclear power, is dangerous and unhealthy. Using their virtual stranglehold over the media, these people have tried to discredit everything nuclear from energy to war. They have vastly overrated the risks of nuclear bombs and left many Americans feeling demoralized and indecisive; not sure where the truth lies. Well, here are the myths, and here are the facts. Myth: After a nuclear exchange the earth will no longer be suitable for human habitation. Fact: This is completely false. According to one scientist (quoted in John McPee's The Curve of Binding Energy) 'The largest bomb that has ever been exploded anywhere was 60 megatons, and that is one-thousandth the force of an earthquake, one-thousandth the force of a hurricane. We have lived with earthquakes and hurricanes for a long time.' Another scientist adds, 'It is often assumed that a full blown nuclear war would be the end of life on earth. That is far from the truth. To end life on earth would take at least a thousand times the total yield of all the nuclear explosives existing in the world, and probably a lot more.' Even if humans succumbed, many forms of life would survive a nuclear free-for-all, cockroaches, certain forms of bacteria, and lichens, for instance. Myth: Radiation is bad for you. Fact: Everything is bad for you if you have too much of it. If you eat too many bananas you'll get a stomach-ache. If you get too much sun you can get sunburned (or even skin cancer). Same thing with radiation. Too much may make you feel under the weather, but nuclear industry officials insist that there is no evidence that low-level radiation has any really serious adverse effects. And, high-level radiation may bring unexpected benefits. It speeds up evolution by weeding out unwanted genetic types and creating new ones. (Remember the old saying, 'Two heads are better than one.') Nearer to home, it's plain that radiation will get rid of pesky crab grass and weeds, and teenagers will find that brief exposure to a nuclear burst vaporizes acne and other skin blemishes. (Many survivors of the Hiroshima bomb found that they were free from skin and it's attendant problems forever.) We hope this clears up any misconceptions you may have had. Enjoy your H-Bomb!           \"}"
            ]
          },
          "metadata": {
            "tags": []
          },
          "execution_count": 185
        }
      ]
    },
    {
      "cell_type": "code",
      "metadata": {
        "colab": {
          "base_uri": "https://localhost:8080/",
          "height": 203
        },
        "id": "JZqPicKAodMf",
        "outputId": "4353d585-fa3c-41e9-a5f0-c26ee43e164f"
      },
      "source": [
        "blog_df.head()"
      ],
      "execution_count": null,
      "outputs": [
        {
          "output_type": "execute_result",
          "data": {
            "text/html": [
              "<div>\n",
              "<style scoped>\n",
              "    .dataframe tbody tr th:only-of-type {\n",
              "        vertical-align: middle;\n",
              "    }\n",
              "\n",
              "    .dataframe tbody tr th {\n",
              "        vertical-align: top;\n",
              "    }\n",
              "\n",
              "    .dataframe thead th {\n",
              "        text-align: right;\n",
              "    }\n",
              "</style>\n",
              "<table border=\"1\" class=\"dataframe\">\n",
              "  <thead>\n",
              "    <tr style=\"text-align: right;\">\n",
              "      <th></th>\n",
              "      <th>gender</th>\n",
              "      <th>age</th>\n",
              "      <th>topic</th>\n",
              "      <th>sign</th>\n",
              "      <th>text</th>\n",
              "      <th>Clean_text</th>\n",
              "    </tr>\n",
              "  </thead>\n",
              "  <tbody>\n",
              "    <tr>\n",
              "      <th>0</th>\n",
              "      <td>male</td>\n",
              "      <td>15</td>\n",
              "      <td>Student</td>\n",
              "      <td>Leo</td>\n",
              "      <td>Info has been found (+/- 100 pages,...</td>\n",
              "      <td>info found 100 pages 45 mb pdf files wait unti...</td>\n",
              "    </tr>\n",
              "    <tr>\n",
              "      <th>1</th>\n",
              "      <td>male</td>\n",
              "      <td>15</td>\n",
              "      <td>Student</td>\n",
              "      <td>Leo</td>\n",
              "      <td>These are the team members:   Drewe...</td>\n",
              "      <td>team members drewes van der laag urllink mail ...</td>\n",
              "    </tr>\n",
              "    <tr>\n",
              "      <th>2</th>\n",
              "      <td>male</td>\n",
              "      <td>15</td>\n",
              "      <td>Student</td>\n",
              "      <td>Leo</td>\n",
              "      <td>In het kader van kernfusie op aarde...</td>\n",
              "      <td>het kader van kernfusie op aarde maak je eigen...</td>\n",
              "    </tr>\n",
              "    <tr>\n",
              "      <th>3</th>\n",
              "      <td>male</td>\n",
              "      <td>15</td>\n",
              "      <td>Student</td>\n",
              "      <td>Leo</td>\n",
              "      <td>testing!!!  testing!!!</td>\n",
              "      <td>testing testing</td>\n",
              "    </tr>\n",
              "    <tr>\n",
              "      <th>4</th>\n",
              "      <td>male</td>\n",
              "      <td>33</td>\n",
              "      <td>InvestmentBanking</td>\n",
              "      <td>Aquarius</td>\n",
              "      <td>Thanks to Yahoo!'s Toolbar I can ...</td>\n",
              "      <td>thanks yahoos toolbar capture urls popupswhich...</td>\n",
              "    </tr>\n",
              "  </tbody>\n",
              "</table>\n",
              "</div>"
            ],
            "text/plain": [
              "  gender  ...                                         Clean_text\n",
              "0   male  ...  info found 100 pages 45 mb pdf files wait unti...\n",
              "1   male  ...  team members drewes van der laag urllink mail ...\n",
              "2   male  ...  het kader van kernfusie op aarde maak je eigen...\n",
              "3   male  ...                                    testing testing\n",
              "4   male  ...  thanks yahoos toolbar capture urls popupswhich...\n",
              "\n",
              "[5 rows x 6 columns]"
            ]
          },
          "metadata": {
            "tags": []
          },
          "execution_count": 186
        }
      ]
    },
    {
      "cell_type": "markdown",
      "metadata": {
        "id": "P3MFxvMFlUpz"
      },
      "source": [
        "# Target/label merger and transformation"
      ]
    },
    {
      "cell_type": "code",
      "metadata": {
        "id": "tVirnzjEonQc"
      },
      "source": [
        "# Merging the Labels for Multi-Label Classification to determine the label for the particular sentence/text from the blog\n",
        "blog_df['labels'] = blog_df.apply(lambda col : [col['gender'],col['age'],col['topic'],col['sign']], axis=1)"
      ],
      "execution_count": null,
      "outputs": []
    },
    {
      "cell_type": "code",
      "metadata": {
        "colab": {
          "base_uri": "https://localhost:8080/",
          "height": 203
        },
        "id": "qCJV4NuIoupF",
        "outputId": "d146fc70-3135-4487-e1b7-7a1c09c02ed2"
      },
      "source": [
        "blog_df.head()"
      ],
      "execution_count": null,
      "outputs": [
        {
          "output_type": "execute_result",
          "data": {
            "text/html": [
              "<div>\n",
              "<style scoped>\n",
              "    .dataframe tbody tr th:only-of-type {\n",
              "        vertical-align: middle;\n",
              "    }\n",
              "\n",
              "    .dataframe tbody tr th {\n",
              "        vertical-align: top;\n",
              "    }\n",
              "\n",
              "    .dataframe thead th {\n",
              "        text-align: right;\n",
              "    }\n",
              "</style>\n",
              "<table border=\"1\" class=\"dataframe\">\n",
              "  <thead>\n",
              "    <tr style=\"text-align: right;\">\n",
              "      <th></th>\n",
              "      <th>gender</th>\n",
              "      <th>age</th>\n",
              "      <th>topic</th>\n",
              "      <th>sign</th>\n",
              "      <th>text</th>\n",
              "      <th>Clean_text</th>\n",
              "      <th>labels</th>\n",
              "    </tr>\n",
              "  </thead>\n",
              "  <tbody>\n",
              "    <tr>\n",
              "      <th>0</th>\n",
              "      <td>male</td>\n",
              "      <td>15</td>\n",
              "      <td>Student</td>\n",
              "      <td>Leo</td>\n",
              "      <td>Info has been found (+/- 100 pages,...</td>\n",
              "      <td>info found 100 pages 45 mb pdf files wait unti...</td>\n",
              "      <td>[male, 15, Student, Leo]</td>\n",
              "    </tr>\n",
              "    <tr>\n",
              "      <th>1</th>\n",
              "      <td>male</td>\n",
              "      <td>15</td>\n",
              "      <td>Student</td>\n",
              "      <td>Leo</td>\n",
              "      <td>These are the team members:   Drewe...</td>\n",
              "      <td>team members drewes van der laag urllink mail ...</td>\n",
              "      <td>[male, 15, Student, Leo]</td>\n",
              "    </tr>\n",
              "    <tr>\n",
              "      <th>2</th>\n",
              "      <td>male</td>\n",
              "      <td>15</td>\n",
              "      <td>Student</td>\n",
              "      <td>Leo</td>\n",
              "      <td>In het kader van kernfusie op aarde...</td>\n",
              "      <td>het kader van kernfusie op aarde maak je eigen...</td>\n",
              "      <td>[male, 15, Student, Leo]</td>\n",
              "    </tr>\n",
              "    <tr>\n",
              "      <th>3</th>\n",
              "      <td>male</td>\n",
              "      <td>15</td>\n",
              "      <td>Student</td>\n",
              "      <td>Leo</td>\n",
              "      <td>testing!!!  testing!!!</td>\n",
              "      <td>testing testing</td>\n",
              "      <td>[male, 15, Student, Leo]</td>\n",
              "    </tr>\n",
              "    <tr>\n",
              "      <th>4</th>\n",
              "      <td>male</td>\n",
              "      <td>33</td>\n",
              "      <td>InvestmentBanking</td>\n",
              "      <td>Aquarius</td>\n",
              "      <td>Thanks to Yahoo!'s Toolbar I can ...</td>\n",
              "      <td>thanks yahoos toolbar capture urls popupswhich...</td>\n",
              "      <td>[male, 33, InvestmentBanking, Aquarius]</td>\n",
              "    </tr>\n",
              "  </tbody>\n",
              "</table>\n",
              "</div>"
            ],
            "text/plain": [
              "  gender  ...                                   labels\n",
              "0   male  ...                 [male, 15, Student, Leo]\n",
              "1   male  ...                 [male, 15, Student, Leo]\n",
              "2   male  ...                 [male, 15, Student, Leo]\n",
              "3   male  ...                 [male, 15, Student, Leo]\n",
              "4   male  ...  [male, 33, InvestmentBanking, Aquarius]\n",
              "\n",
              "[5 rows x 7 columns]"
            ]
          },
          "metadata": {
            "tags": []
          },
          "execution_count": 188
        }
      ]
    },
    {
      "cell_type": "markdown",
      "metadata": {
        "id": "E7PKF1HiloRW"
      },
      "source": [
        "# Preparing the Data for the Model"
      ]
    },
    {
      "cell_type": "code",
      "metadata": {
        "id": "taTQGqb7_iju"
      },
      "source": [
        "#drop  gender,age,topic & sign as they are already merged to labels column\n",
        "df_model = blog_df.drop(columns=['gender','age','topic','sign','text'], axis=1)"
      ],
      "execution_count": null,
      "outputs": []
    },
    {
      "cell_type": "code",
      "metadata": {
        "colab": {
          "base_uri": "https://localhost:8080/",
          "height": 203
        },
        "id": "ULAbbQ1wRo_d",
        "outputId": "dda582b3-fd2a-4c07-f94d-5c285dff7aa5"
      },
      "source": [
        "df_model.head(5)"
      ],
      "execution_count": null,
      "outputs": [
        {
          "output_type": "execute_result",
          "data": {
            "text/html": [
              "<div>\n",
              "<style scoped>\n",
              "    .dataframe tbody tr th:only-of-type {\n",
              "        vertical-align: middle;\n",
              "    }\n",
              "\n",
              "    .dataframe tbody tr th {\n",
              "        vertical-align: top;\n",
              "    }\n",
              "\n",
              "    .dataframe thead th {\n",
              "        text-align: right;\n",
              "    }\n",
              "</style>\n",
              "<table border=\"1\" class=\"dataframe\">\n",
              "  <thead>\n",
              "    <tr style=\"text-align: right;\">\n",
              "      <th></th>\n",
              "      <th>Clean_text</th>\n",
              "      <th>labels</th>\n",
              "    </tr>\n",
              "  </thead>\n",
              "  <tbody>\n",
              "    <tr>\n",
              "      <th>0</th>\n",
              "      <td>info found 100 pages 45 mb pdf files wait unti...</td>\n",
              "      <td>[male, 15, Student, Leo]</td>\n",
              "    </tr>\n",
              "    <tr>\n",
              "      <th>1</th>\n",
              "      <td>team members drewes van der laag urllink mail ...</td>\n",
              "      <td>[male, 15, Student, Leo]</td>\n",
              "    </tr>\n",
              "    <tr>\n",
              "      <th>2</th>\n",
              "      <td>het kader van kernfusie op aarde maak je eigen...</td>\n",
              "      <td>[male, 15, Student, Leo]</td>\n",
              "    </tr>\n",
              "    <tr>\n",
              "      <th>3</th>\n",
              "      <td>testing testing</td>\n",
              "      <td>[male, 15, Student, Leo]</td>\n",
              "    </tr>\n",
              "    <tr>\n",
              "      <th>4</th>\n",
              "      <td>thanks yahoos toolbar capture urls popupswhich...</td>\n",
              "      <td>[male, 33, InvestmentBanking, Aquarius]</td>\n",
              "    </tr>\n",
              "  </tbody>\n",
              "</table>\n",
              "</div>"
            ],
            "text/plain": [
              "                                          Clean_text                                   labels\n",
              "0  info found 100 pages 45 mb pdf files wait unti...                 [male, 15, Student, Leo]\n",
              "1  team members drewes van der laag urllink mail ...                 [male, 15, Student, Leo]\n",
              "2  het kader van kernfusie op aarde maak je eigen...                 [male, 15, Student, Leo]\n",
              "3                                    testing testing                 [male, 15, Student, Leo]\n",
              "4  thanks yahoos toolbar capture urls popupswhich...  [male, 33, InvestmentBanking, Aquarius]"
            ]
          },
          "metadata": {
            "tags": []
          },
          "execution_count": 190
        }
      ]
    },
    {
      "cell_type": "markdown",
      "metadata": {
        "id": "eHTugvMYlgpv"
      },
      "source": [
        "# Train and test split • Vectorisation, etc."
      ]
    },
    {
      "cell_type": "code",
      "metadata": {
        "id": "znmJ4tZ4_8Xp"
      },
      "source": [
        "# Seaprate Features and Labels in to Train and Test datesets\n",
        "X= df_model['Clean_text']\n",
        "y = df_model['labels']"
      ],
      "execution_count": null,
      "outputs": []
    },
    {
      "cell_type": "code",
      "metadata": {
        "id": "AuFT4S0ctVlt"
      },
      "source": [
        "# split X and y into training and testing sets\n",
        "from sklearn.model_selection import train_test_split\n",
        "X_train, X_test, y_train, y_test = train_test_split(X,y, random_state=2,test_size = 0.2)"
      ],
      "execution_count": null,
      "outputs": []
    },
    {
      "cell_type": "code",
      "metadata": {
        "id": "H6x-sdlYy9xz",
        "colab": {
          "base_uri": "https://localhost:8080/"
        },
        "outputId": "1f2fff48-5df5-4a75-d753-4f5ed51d7547"
      },
      "source": [
        "print(X_train.shape)\n",
        "print(y_train.shape)"
      ],
      "execution_count": null,
      "outputs": [
        {
          "output_type": "stream",
          "text": [
            "(8000,)\n",
            "(8000,)\n"
          ],
          "name": "stdout"
        }
      ]
    },
    {
      "cell_type": "code",
      "metadata": {
        "id": "ZuqlLeTpy4EU",
        "colab": {
          "base_uri": "https://localhost:8080/"
        },
        "outputId": "0e203a5d-faaa-4e2b-cfb0-6e79716d6b76"
      },
      "source": [
        "print(X_test.shape)\n",
        "print(y_test.shape)"
      ],
      "execution_count": null,
      "outputs": [
        {
          "output_type": "stream",
          "text": [
            "(2000,)\n",
            "(2000,)\n"
          ],
          "name": "stdout"
        }
      ]
    },
    {
      "cell_type": "code",
      "metadata": {
        "colab": {
          "base_uri": "https://localhost:8080/"
        },
        "id": "dR7Ti9SHp7r9",
        "outputId": "6a931c99-50e1-4ea0-bb84-5fa600b571f5"
      },
      "source": [
        "X_test"
      ],
      "execution_count": null,
      "outputs": [
        {
          "output_type": "execute_result",
          "data": {
            "text/plain": [
              "7919    movers coming wednesday instead packing decide...\n",
              "3227                                    bends ok computer\n",
              "1921    lets get record straight 2000 election recount...\n",
              "4445                   urllink urllink audblog audio post\n",
              "4855    well got back skar found today sure going braz...\n",
              "                              ...                        \n",
              "9119    appassionata beautiful peter wolf comes wagner...\n",
              "8629    brief hypefactor update spent past two days wr...\n",
              "5428    well im worried chantele better im worried som...\n",
              "5126    makes laugh saw taylor hill church today haven...\n",
              "2967                            meanwhile urllink badgers\n",
              "Name: Clean_text, Length: 2000, dtype: object"
            ]
          },
          "metadata": {
            "tags": []
          },
          "execution_count": 195
        }
      ]
    },
    {
      "cell_type": "code",
      "metadata": {
        "id": "Cnz7EVYfzMjW"
      },
      "source": [
        "# import Count Vectorizer\n",
        "from sklearn.feature_extraction.text import CountVectorizer"
      ],
      "execution_count": null,
      "outputs": []
    },
    {
      "cell_type": "code",
      "metadata": {
        "id": "0G19UOmFzRNI"
      },
      "source": [
        "# Creating Bag of Words with ngrams 1,2, Count Vectors with bi-grams\n",
        "Cvect = CountVectorizer(binary = True, analyzer = 'word', token_pattern = r'\\w{1,}', ngram_range=(1,2), stop_words='english')"
      ],
      "execution_count": null,
      "outputs": []
    },
    {
      "cell_type": "code",
      "metadata": {
        "id": "IJH9SofTzcR3",
        "colab": {
          "base_uri": "https://localhost:8080/"
        },
        "outputId": "f534b126-fa0e-485d-f2c4-eae5ee328cb9"
      },
      "source": [
        "# Fit the CountVectorizer\n",
        "Cvect.fit(X_train)\n",
        "\n",
        "#Check the vocablury size\n",
        "len(Cvect.vocabulary_)"
      ],
      "execution_count": null,
      "outputs": [
        {
          "output_type": "execute_result",
          "data": {
            "text/plain": [
              "533977"
            ]
          },
          "metadata": {
            "tags": []
          },
          "execution_count": 198
        }
      ]
    },
    {
      "cell_type": "code",
      "metadata": {
        "id": "tn8N-KkyzpBL",
        "colab": {
          "base_uri": "https://localhost:8080/"
        },
        "outputId": "5df8fe9e-c431-47bc-b33e-1b55b66ec250"
      },
      "source": [
        "# displaying the first 100 features\n",
        "Cvect.get_feature_names()[:100]"
      ],
      "execution_count": null,
      "outputs": [
        {
          "output_type": "execute_result",
          "data": {
            "text/plain": [
              "['0',\n",
              " '0 23003',\n",
              " '0 answering',\n",
              " '0 article',\n",
              " '0 bb',\n",
              " '0 cakes',\n",
              " '0 er',\n",
              " '0 heh',\n",
              " '0 heheshame',\n",
              " '0 hr',\n",
              " '0 im',\n",
              " '0 key',\n",
              " '0 lesson',\n",
              " '0 lol',\n",
              " '0 number',\n",
              " '0 people',\n",
              " '0 short',\n",
              " '0 solution',\n",
              " '0 uk',\n",
              " '0 unemployment',\n",
              " '0 urllink',\n",
              " '0 used',\n",
              " '0 watched',\n",
              " '0 wonder',\n",
              " '00',\n",
              " '00 lighter',\n",
              " '00 tcr1',\n",
              " '000',\n",
              " '000 address',\n",
              " '000 people',\n",
              " '000 sec',\n",
              " '000 songs',\n",
              " '000 subject',\n",
              " '000001',\n",
              " '000001 maybe',\n",
              " '001',\n",
              " '001 jillian',\n",
              " '002',\n",
              " '002 impression',\n",
              " '002 middle',\n",
              " '003',\n",
              " '003 love',\n",
              " '004',\n",
              " '004 nicknames',\n",
              " '005',\n",
              " '005 gender',\n",
              " '006',\n",
              " '006 age',\n",
              " '007',\n",
              " '007 birthday',\n",
              " '007 game',\n",
              " '007 jersey',\n",
              " '008',\n",
              " '008 height',\n",
              " '009',\n",
              " '009 hair',\n",
              " '01',\n",
              " '01 101102',\n",
              " '01 informs',\n",
              " '01 known',\n",
              " '01 role',\n",
              " '01 televive',\n",
              " '01 underworld',\n",
              " '010',\n",
              " '010 eye',\n",
              " '0100',\n",
              " '0100 hrs',\n",
              " '0100 wokeup',\n",
              " '011',\n",
              " '011 race',\n",
              " '011 uich',\n",
              " '012',\n",
              " '012 glasses',\n",
              " '012 w',\n",
              " '01234',\n",
              " '01234 5',\n",
              " '013',\n",
              " '013 dodid',\n",
              " '013 right',\n",
              " '014',\n",
              " '014 hair',\n",
              " '015',\n",
              " '015 born',\n",
              " '016',\n",
              " '016 current',\n",
              " '017',\n",
              " '017 zodiac',\n",
              " '018',\n",
              " '018 languages',\n",
              " '019',\n",
              " '019 nationality',\n",
              " '02',\n",
              " '02 added',\n",
              " '02 argue',\n",
              " '02 deadbeat',\n",
              " '02 faced',\n",
              " '02 lott',\n",
              " '02 personal',\n",
              " '02 pet',\n",
              " '02 republicans']"
            ]
          },
          "metadata": {
            "tags": []
          },
          "execution_count": 199
        }
      ]
    },
    {
      "cell_type": "code",
      "metadata": {
        "id": "6tBDcPvRrgfy"
      },
      "source": [
        "#Transforming the Train data\n",
        "X_train_ct = Cvect.transform(X_train)"
      ],
      "execution_count": null,
      "outputs": []
    },
    {
      "cell_type": "code",
      "metadata": {
        "id": "LgDFX6Ysrmi1"
      },
      "source": [
        "#Transforming the test data\n",
        "X_test_ct = Cvect.transform(X_test)"
      ],
      "execution_count": null,
      "outputs": []
    },
    {
      "cell_type": "code",
      "metadata": {
        "id": "O3leiL9e29b2"
      },
      "source": [
        "# Create a dictionary to get the count of every label i.e. the key will be label name and value will be the total count of the label\n",
        "label_counts = dict()\n",
        "\n",
        "for labels in df_model.labels.values:\n",
        "    for label in labels:\n",
        "        if label in label_counts:\n",
        "            label_counts[str(label)]+=1\n",
        "        else:\n",
        "            label_counts[str(label)]=1"
      ],
      "execution_count": null,
      "outputs": []
    },
    {
      "cell_type": "code",
      "metadata": {
        "colab": {
          "base_uri": "https://localhost:8080/"
        },
        "id": "UGzY1VZC3bqE",
        "outputId": "a8eacfcc-7837-4762-fff3-ecca476a48be"
      },
      "source": [
        "label_counts"
      ],
      "execution_count": null,
      "outputs": [
        {
          "output_type": "execute_result",
          "data": {
            "text/plain": [
              "{'13': 1,\n",
              " '14': 1,\n",
              " '15': 1,\n",
              " '16': 1,\n",
              " '17': 1,\n",
              " '23': 1,\n",
              " '24': 1,\n",
              " '25': 1,\n",
              " '26': 1,\n",
              " '27': 1,\n",
              " '33': 1,\n",
              " '34': 1,\n",
              " '35': 1,\n",
              " '36': 1,\n",
              " '37': 1,\n",
              " '38': 1,\n",
              " '39': 1,\n",
              " '40': 1,\n",
              " '41': 1,\n",
              " '42': 1,\n",
              " '43': 1,\n",
              " '44': 1,\n",
              " '45': 1,\n",
              " '46': 1,\n",
              " 'Accounting': 4,\n",
              " 'Aquarius': 577,\n",
              " 'Aries': 4192,\n",
              " 'Arts': 45,\n",
              " 'Automotive': 14,\n",
              " 'Banking': 16,\n",
              " 'BusinessServices': 88,\n",
              " 'Cancer': 499,\n",
              " 'Capricorn': 215,\n",
              " 'Communications-Media': 98,\n",
              " 'Consulting': 21,\n",
              " 'Education': 283,\n",
              " 'Engineering': 127,\n",
              " 'Fashion': 1622,\n",
              " 'Gemini': 165,\n",
              " 'HumanResources': 2,\n",
              " 'Internet': 117,\n",
              " 'InvestmentBanking': 70,\n",
              " 'Law': 11,\n",
              " 'LawEnforcement-Security': 10,\n",
              " 'Leo': 300,\n",
              " 'Libra': 491,\n",
              " 'Marketing': 156,\n",
              " 'Museums-Libraries': 17,\n",
              " 'Non-Profit': 71,\n",
              " 'Pisces': 463,\n",
              " 'Publishing': 4,\n",
              " 'Religion': 9,\n",
              " 'Sagittarius': 1084,\n",
              " 'Science': 63,\n",
              " 'Scorpio': 952,\n",
              " 'Sports-Recreation': 80,\n",
              " 'Student': 1146,\n",
              " 'Taurus': 826,\n",
              " 'Technology': 2647,\n",
              " 'Telecommunications': 2,\n",
              " 'Virgo': 236,\n",
              " 'female': 4096,\n",
              " 'indUnk': 3277,\n",
              " 'male': 5904}"
            ]
          },
          "metadata": {
            "tags": []
          },
          "execution_count": 203
        }
      ]
    },
    {
      "cell_type": "markdown",
      "metadata": {
        "id": "z7bQROFDmbIk"
      },
      "source": [
        "# Design, train, tune and test the best text classifier.\n",
        "\n"
      ]
    },
    {
      "cell_type": "markdown",
      "metadata": {
        "id": "goQKC8NQ0RTW"
      },
      "source": [
        "As we have noticed before, in this task each example can have multiple tags. To deal with such kind of prediction, we need to transform labels in a binary form and the prediction will be a mask of 0s and 1s. For this purpose, it is convenient to use MultiLabelBinarizer from sklearn a. Convert your train and test labels using MultiLabelBinarizer"
      ]
    },
    {
      "cell_type": "code",
      "metadata": {
        "id": "RpjwTpJc3ilN"
      },
      "source": [
        "from sklearn.preprocessing import MultiLabelBinarizer\n",
        "binarizer=MultiLabelBinarizer(classes=sorted(label_counts.keys()))"
      ],
      "execution_count": null,
      "outputs": []
    },
    {
      "cell_type": "code",
      "metadata": {
        "id": "8F6sn4DI3mj7"
      },
      "source": [
        "y_train =binarizer.fit_transform(y_train)"
      ],
      "execution_count": null,
      "outputs": []
    },
    {
      "cell_type": "code",
      "metadata": {
        "id": "vsrIo8em4Gh6"
      },
      "source": [
        "y_test =binarizer.transform(y_test)"
      ],
      "execution_count": null,
      "outputs": []
    },
    {
      "cell_type": "code",
      "metadata": {
        "colab": {
          "base_uri": "https://localhost:8080/"
        },
        "id": "1MXoKdBa9tiL",
        "outputId": "16989922-eaed-4ef3-ddd4-84aa231b9c44"
      },
      "source": [
        "y_train"
      ],
      "execution_count": null,
      "outputs": [
        {
          "output_type": "execute_result",
          "data": {
            "text/plain": [
              "array([[0, 0, 0, ..., 0, 1, 1],\n",
              "       [0, 0, 0, ..., 0, 0, 1],\n",
              "       [0, 0, 0, ..., 0, 0, 1],\n",
              "       ...,\n",
              "       [0, 0, 0, ..., 0, 0, 1],\n",
              "       [0, 0, 0, ..., 0, 0, 1],\n",
              "       [0, 0, 0, ..., 0, 0, 1]])"
            ]
          },
          "metadata": {
            "tags": []
          },
          "execution_count": 207
        }
      ]
    },
    {
      "cell_type": "code",
      "metadata": {
        "colab": {
          "base_uri": "https://localhost:8080/"
        },
        "id": "j5h1zRkXseXW",
        "outputId": "a95ca516-2f83-4cd4-cb6c-f67438687875"
      },
      "source": [
        "y_test"
      ],
      "execution_count": null,
      "outputs": [
        {
          "output_type": "execute_result",
          "data": {
            "text/plain": [
              "array([[0, 0, 0, ..., 1, 0, 0],\n",
              "       [0, 0, 0, ..., 0, 0, 1],\n",
              "       [0, 0, 0, ..., 0, 0, 1],\n",
              "       ...,\n",
              "       [0, 0, 0, ..., 1, 1, 0],\n",
              "       [0, 0, 0, ..., 1, 1, 0],\n",
              "       [0, 0, 0, ..., 0, 0, 1]])"
            ]
          },
          "metadata": {
            "tags": []
          },
          "execution_count": 208
        }
      ]
    },
    {
      "cell_type": "markdown",
      "metadata": {
        "id": "P8l9zguExYwT"
      },
      "source": [
        "# Supervised Models and Test Accuracy - Decide the best model based on that\n",
        "\n",
        "---\n",
        "\n"
      ]
    },
    {
      "cell_type": "code",
      "metadata": {
        "id": "OCfTYS5xokc5"
      },
      "source": [
        "from sklearn.multiclass import OneVsRestClassifier\n",
        "from sklearn.linear_model import LogisticRegression\n",
        "from sklearn.neighbors import KNeighborsClassifier\n",
        "from sklearn.svm import LinearSVC\n",
        "lr=LogisticRegression(solver='lbfgs', max_iter=100, multi_class='ovr') \n",
        "knn = KNeighborsClassifier()\n",
        "svc = LinearSVC(random_state=42, max_iter = 100)"
      ],
      "execution_count": null,
      "outputs": []
    },
    {
      "cell_type": "code",
      "metadata": {
        "id": "rTR8pZmFZnqs"
      },
      "source": [
        "def fit_n_print(model, X_train, X_test, y_train, y_test):  # take the model, train data and test data as input\n",
        "  from sklearn.metrics import accuracy_score\n",
        "  from sklearn.metrics import f1_score\n",
        "  from sklearn.metrics import average_precision_score\n",
        "  from sklearn.metrics import precision_score\n",
        "  from sklearn.metrics import recall_score\n",
        "    model.fit(X_train, y_train)   # fit the model using the train data\n",
        "\n",
        "    pred = model.predict(X_test)     # model predictions on the test data\n",
        "    \n",
        "    modelscore = round(model.score(X_test, y_test), 3)   # accuracy on the test data\n",
        "    \n",
        "    cnf_matrix = confusion_matrix(y_test, pred)\n",
        "    \n",
        "    return modelscore, cnf_matrix  # return all the metrics''"
      ],
      "execution_count": null,
      "outputs": []
    },
    {
      "cell_type": "code",
      "metadata": {
        "id": "YVvte05gZWqW"
      },
      "source": [
        "result = pd.DataFrame(columns = ['Model Score', 'Confusion Matrix'])\n",
        "\n",
        "for model, model_name  in list(zip([lr, knn, svc], ['Logistic_Regression','KNN Classifier','SVC'])):\n",
        "    result.loc[model_name] = fit_n_print(model, X_train, X_test, y_train, y_test)"
      ],
      "execution_count": null,
      "outputs": []
    },
    {
      "cell_type": "code",
      "metadata": {
        "id": "eAmv_0e8YOiU"
      },
      "source": [
        ""
      ],
      "execution_count": null,
      "outputs": []
    },
    {
      "cell_type": "code",
      "metadata": {
        "id": "HYI0M7m4ovCl",
        "colab": {
          "base_uri": "https://localhost:8080/"
        },
        "outputId": "060e501c-6706-4cb2-ba49-03b9a0185880"
      },
      "source": [
        "def buildmodel(SLmodel = 'knn'):\n",
        "  if SLmodel = 'knn':\n",
        "    model=LogisticRegression(solver='lbfgs', max_iter=100, multi_class='ovr')  \n",
        "  model=LogisticRegression(solver='lbfgs', max_iter=100, multi_class='ovr')\n",
        "  model=OneVsRestClassifier(model)\n",
        "  model.fit(X_train_ct,y_train)\n",
        "return model"
      ],
      "execution_count": null,
      "outputs": [
        {
          "output_type": "execute_result",
          "data": {
            "text/plain": [
              "OneVsRestClassifier(estimator=LogisticRegression(C=1.0, class_weight=None,\n",
              "                                                 dual=False, fit_intercept=True,\n",
              "                                                 intercept_scaling=1,\n",
              "                                                 l1_ratio=None, max_iter=100,\n",
              "                                                 multi_class='ovr', n_jobs=None,\n",
              "                                                 penalty='l2',\n",
              "                                                 random_state=None,\n",
              "                                                 solver='lbfgs', tol=0.0001,\n",
              "                                                 verbose=0, warm_start=False),\n",
              "                    n_jobs=None)"
            ]
          },
          "metadata": {
            "tags": []
          },
          "execution_count": 210
        }
      ]
    },
    {
      "cell_type": "code",
      "metadata": {
        "id": "oF49LZRoo3k8"
      },
      "source": [
        "y_pred=model.predict(X_test_ct)"
      ],
      "execution_count": null,
      "outputs": []
    },
    {
      "cell_type": "code",
      "metadata": {
        "id": "Oz9ynckx4kKo"
      },
      "source": [
        "y_pred_inversed = binarizer.inverse_transform(y_pred)\n",
        "y_test_inversed = binarizer.inverse_transform(y_test)"
      ],
      "execution_count": null,
      "outputs": []
    },
    {
      "cell_type": "code",
      "metadata": {
        "id": "R3-1dLDbo6Td",
        "colab": {
          "base_uri": "https://localhost:8080/"
        },
        "outputId": "83aa52e6-e596-4b2a-aee9-f478b49b14d0"
      },
      "source": [
        "for i in range(5):\n",
        "    print('Text:\\t{}\\nTrue labels:\\t{}\\nPredicted labels:\\t{}\\n\\n'.format(\n",
        "        X_test_ct[i],\n",
        "        ','.join(y_test_inversed[i]),\n",
        "        ','.join(y_pred_inversed[i])\n",
        "    ))"
      ],
      "execution_count": null,
      "outputs": [
        {
          "output_type": "stream",
          "text": [
            "Text:\t  (0, 19369)\t1\n",
            "  (0, 35709)\t1\n",
            "  (0, 51371)\t1\n",
            "  (0, 91709)\t1\n",
            "  (0, 100203)\t1\n",
            "  (0, 110399)\t1\n",
            "  (0, 112324)\t1\n",
            "  (0, 116021)\t1\n",
            "  (0, 118972)\t1\n",
            "  (0, 121404)\t1\n",
            "  (0, 121413)\t1\n",
            "  (0, 121490)\t1\n",
            "  (0, 124277)\t1\n",
            "  (0, 124332)\t1\n",
            "  (0, 142979)\t1\n",
            "  (0, 143105)\t1\n",
            "  (0, 176505)\t1\n",
            "  (0, 176844)\t1\n",
            "  (0, 178714)\t1\n",
            "  (0, 178997)\t1\n",
            "  (0, 233919)\t1\n",
            "  (0, 241922)\t1\n",
            "  (0, 272108)\t1\n",
            "  (0, 293905)\t1\n",
            "  (0, 294011)\t1\n",
            "  :\t:\n",
            "  (0, 315778)\t1\n",
            "  (0, 316089)\t1\n",
            "  (0, 318265)\t1\n",
            "  (0, 319097)\t1\n",
            "  (0, 333858)\t1\n",
            "  (0, 346945)\t1\n",
            "  (0, 356189)\t1\n",
            "  (0, 356453)\t1\n",
            "  (0, 369530)\t1\n",
            "  (0, 369680)\t1\n",
            "  (0, 419444)\t1\n",
            "  (0, 455684)\t1\n",
            "  (0, 455821)\t1\n",
            "  (0, 481421)\t1\n",
            "  (0, 491887)\t1\n",
            "  (0, 493005)\t1\n",
            "  (0, 493186)\t1\n",
            "  (0, 499430)\t1\n",
            "  (0, 499460)\t1\n",
            "  (0, 510176)\t1\n",
            "  (0, 511355)\t1\n",
            "  (0, 511366)\t1\n",
            "  (0, 512644)\t1\n",
            "  (0, 512892)\t1\n",
            "  (0, 522548)\t1\n",
            "True labels:\tInternet,Sagittarius,female\n",
            "Predicted labels:\tSagittarius\n",
            "\n",
            "\n",
            "Text:\t  (0, 48099)\t1\n",
            "  (0, 94697)\t1\n",
            "  (0, 326243)\t1\n",
            "  (0, 326303)\t1\n",
            "True labels:\tAries,Technology,male\n",
            "Predicted labels:\tmale\n",
            "\n",
            "\n",
            "Text:\t  (0, 427)\t1\n",
            "  (0, 2239)\t1\n",
            "  (0, 3177)\t1\n",
            "  (0, 3859)\t1\n",
            "  (0, 4773)\t1\n",
            "  (0, 4783)\t1\n",
            "  (0, 6266)\t1\n",
            "  (0, 7257)\t1\n",
            "  (0, 12184)\t1\n",
            "  (0, 13960)\t1\n",
            "  (0, 24123)\t1\n",
            "  (0, 28906)\t1\n",
            "  (0, 31957)\t1\n",
            "  (0, 36691)\t1\n",
            "  (0, 36695)\t1\n",
            "  (0, 41191)\t1\n",
            "  (0, 47111)\t1\n",
            "  (0, 47115)\t1\n",
            "  (0, 47885)\t1\n",
            "  (0, 59401)\t1\n",
            "  (0, 66291)\t1\n",
            "  (0, 70816)\t1\n",
            "  (0, 70837)\t1\n",
            "  (0, 72656)\t1\n",
            "  (0, 73529)\t1\n",
            "  :\t:\n",
            "  (0, 466858)\t1\n",
            "  (0, 466871)\t1\n",
            "  (0, 474270)\t1\n",
            "  (0, 476318)\t1\n",
            "  (0, 476596)\t1\n",
            "  (0, 481078)\t1\n",
            "  (0, 487762)\t1\n",
            "  (0, 488443)\t1\n",
            "  (0, 489776)\t1\n",
            "  (0, 489795)\t1\n",
            "  (0, 496290)\t1\n",
            "  (0, 498070)\t1\n",
            "  (0, 498076)\t1\n",
            "  (0, 500223)\t1\n",
            "  (0, 500241)\t1\n",
            "  (0, 500376)\t1\n",
            "  (0, 500398)\t1\n",
            "  (0, 500404)\t1\n",
            "  (0, 504132)\t1\n",
            "  (0, 504470)\t1\n",
            "  (0, 509653)\t1\n",
            "  (0, 509705)\t1\n",
            "  (0, 517188)\t1\n",
            "  (0, 518838)\t1\n",
            "  (0, 519005)\t1\n",
            "True labels:\tAries,Technology,male\n",
            "Predicted labels:\tAries,Technology,male\n",
            "\n",
            "\n",
            "Text:\t  (0, 36208)\t1\n",
            "  (0, 36209)\t1\n",
            "  (0, 36294)\t1\n",
            "  (0, 36303)\t1\n",
            "  (0, 356189)\t1\n",
            "  (0, 491887)\t1\n",
            "  (0, 492017)\t1\n",
            "  (0, 493803)\t1\n",
            "True labels:\tSagittarius,female,indUnk\n",
            "Predicted labels:\tAries,Technology,male\n",
            "\n",
            "\n",
            "Text:\t  (0, 15332)\t1\n",
            "  (0, 15834)\t1\n",
            "  (0, 20615)\t1\n",
            "  (0, 35636)\t1\n",
            "  (0, 58699)\t1\n",
            "  (0, 61044)\t1\n",
            "  (0, 95793)\t1\n",
            "  (0, 112324)\t1\n",
            "  (0, 112667)\t1\n",
            "  (0, 113728)\t1\n",
            "  (0, 129383)\t1\n",
            "  (0, 129782)\t1\n",
            "  (0, 142458)\t1\n",
            "  (0, 151471)\t1\n",
            "  (0, 151479)\t1\n",
            "  (0, 152763)\t1\n",
            "  (0, 186856)\t1\n",
            "  (0, 187009)\t1\n",
            "  (0, 190853)\t1\n",
            "  (0, 219591)\t1\n",
            "  (0, 242772)\t1\n",
            "  (0, 243052)\t1\n",
            "  (0, 245731)\t1\n",
            "  (0, 251123)\t1\n",
            "  (0, 251718)\t1\n",
            "  (0, 266337)\t1\n",
            "  (0, 267120)\t1\n",
            "  (0, 319283)\t1\n",
            "  (0, 333689)\t1\n",
            "  (0, 334209)\t1\n",
            "  (0, 336988)\t1\n",
            "  (0, 339492)\t1\n",
            "  (0, 339550)\t1\n",
            "  (0, 361826)\t1\n",
            "  (0, 376831)\t1\n",
            "  (0, 395607)\t1\n",
            "  (0, 396236)\t1\n",
            "  (0, 407463)\t1\n",
            "  (0, 424277)\t1\n",
            "  (0, 437350)\t1\n",
            "  (0, 437371)\t1\n",
            "  (0, 438387)\t1\n",
            "  (0, 448504)\t1\n",
            "  (0, 448708)\t1\n",
            "  (0, 452930)\t1\n",
            "  (0, 473263)\t1\n",
            "  (0, 474019)\t1\n",
            "  (0, 487034)\t1\n",
            "  (0, 510324)\t1\n",
            "True labels:\tBusinessServices,Sagittarius,male\n",
            "Predicted labels:\tmale\n",
            "\n",
            "\n"
          ],
          "name": "stdout"
        }
      ]
    },
    {
      "cell_type": "markdown",
      "metadata": {
        "id": "X6kc2-Pry1xw"
      },
      "source": [
        "# Logisitic Regression Classification Report"
      ]
    },
    {
      "cell_type": "code",
      "metadata": {
        "id": "21PuF1e7y6c6"
      },
      "source": [
        "\n",
        "\n",
        "def PrintClassificationReport(measure = 'weighted'):\n",
        "  print(\"Test Accuracy:\" + str(accuracy_score(y_test,y_pred)))\n",
        "  print(\"F1 Score: \" + str(f1_score(y_test,y_pred, average=measure)))\n",
        "  print(\"Precision: \" + str(precision_score(y_test,y_pred, average=measure)))"
      ],
      "execution_count": null,
      "outputs": []
    },
    {
      "cell_type": "code",
      "metadata": {
        "colab": {
          "base_uri": "https://localhost:8080/"
        },
        "id": "nrkF_IK3zCyE",
        "outputId": "eb9e8197-c98f-4f65-e88d-9c12288d77cd"
      },
      "source": [
        "PrintClassificationReport('weighted')"
      ],
      "execution_count": null,
      "outputs": [
        {
          "output_type": "stream",
          "text": [
            "Test Accuracy:0.288\n",
            "F1 Score: 0.5837362842484467\n",
            "Precision: 0.8397417151546837\n"
          ],
          "name": "stdout"
        }
      ]
    },
    {
      "cell_type": "code",
      "metadata": {
        "colab": {
          "base_uri": "https://localhost:8080/"
        },
        "id": "wWyxj2zgzLcq",
        "outputId": "85f351dc-ab79-4f67-9cfd-a8c9014bd8a5"
      },
      "source": [
        "PrintClassificationReport('macro')"
      ],
      "execution_count": null,
      "outputs": [
        {
          "output_type": "stream",
          "text": [
            "Test Accuracy:0.288\n",
            "F1 Score: 0.12958427065093783\n",
            "Precision: 0.3361657106330343\n"
          ],
          "name": "stdout"
        }
      ]
    },
    {
      "cell_type": "code",
      "metadata": {
        "colab": {
          "base_uri": "https://localhost:8080/"
        },
        "id": "o4n94E40zNnl",
        "outputId": "12532fc4-3cb4-408d-a21f-9e690ddfabf1"
      },
      "source": [
        "PrintClassificationReport('micro')"
      ],
      "execution_count": null,
      "outputs": [
        {
          "output_type": "stream",
          "text": [
            "Test Accuracy:0.288\n",
            "F1 Score: 0.6279506998119908\n",
            "Precision: 0.8410744264129827\n"
          ],
          "name": "stdout"
        }
      ]
    },
    {
      "cell_type": "markdown",
      "metadata": {
        "id": "JDIXOWCPxfd5"
      },
      "source": [
        "# Linear SVC classification model"
      ]
    },
    {
      "cell_type": "code",
      "metadata": {
        "id": "Ms5Ug_Ctwj1Q"
      },
      "source": [
        "# Create the SVM\n",
        "from sklearn.svm import LinearSVC\n",
        "model = "
      ],
      "execution_count": null,
      "outputs": []
    },
    {
      "cell_type": "code",
      "metadata": {
        "colab": {
          "base_uri": "https://localhost:8080/"
        },
        "id": "HUnqaoVgwuFz",
        "outputId": "1f2d2975-f39c-4550-f1e6-5ee6965aa25c"
      },
      "source": [
        "model=OneVsRestClassifier(model)\n",
        "model.fit(X_train_ct,y_train)"
      ],
      "execution_count": null,
      "outputs": [
        {
          "output_type": "execute_result",
          "data": {
            "text/plain": [
              "OneVsRestClassifier(estimator=LinearSVC(C=1.0, class_weight=None, dual=True,\n",
              "                                        fit_intercept=True, intercept_scaling=1,\n",
              "                                        loss='squared_hinge', max_iter=100,\n",
              "                                        multi_class='ovr', penalty='l2',\n",
              "                                        random_state=42, tol=0.0001,\n",
              "                                        verbose=0),\n",
              "                    n_jobs=None)"
            ]
          },
          "metadata": {
            "tags": []
          },
          "execution_count": 219
        }
      ]
    },
    {
      "cell_type": "code",
      "metadata": {
        "id": "OtfQmPAkxP3k"
      },
      "source": [
        "y_pred=model.predict(X_test_ct)"
      ],
      "execution_count": null,
      "outputs": []
    },
    {
      "cell_type": "code",
      "metadata": {
        "id": "dCO6pX9ZxSfr"
      },
      "source": [
        "y_pred_inversed = binarizer.inverse_transform(y_pred)\n",
        "y_test_inversed = binarizer.inverse_transform(y_test)"
      ],
      "execution_count": null,
      "outputs": []
    },
    {
      "cell_type": "code",
      "metadata": {
        "colab": {
          "base_uri": "https://localhost:8080/"
        },
        "id": "rJp7jka3xUuN",
        "outputId": "16eb1733-2cf1-43d6-b855-8695fcbd1a00"
      },
      "source": [
        "for i in range(10):\n",
        "    print('Text:\\t{}\\nTrue labels:\\t{}\\nPredicted labels:\\t{}\\n\\n'.format(\n",
        "        X_test_ct[i],\n",
        "        ','.join(y_test_inversed[i]),\n",
        "        ','.join(y_pred_inversed[i])\n",
        "    ))"
      ],
      "execution_count": null,
      "outputs": [
        {
          "output_type": "stream",
          "text": [
            "Text:\t  (0, 19369)\t1\n",
            "  (0, 35709)\t1\n",
            "  (0, 51371)\t1\n",
            "  (0, 91709)\t1\n",
            "  (0, 100203)\t1\n",
            "  (0, 110399)\t1\n",
            "  (0, 112324)\t1\n",
            "  (0, 116021)\t1\n",
            "  (0, 118972)\t1\n",
            "  (0, 121404)\t1\n",
            "  (0, 121413)\t1\n",
            "  (0, 121490)\t1\n",
            "  (0, 124277)\t1\n",
            "  (0, 124332)\t1\n",
            "  (0, 142979)\t1\n",
            "  (0, 143105)\t1\n",
            "  (0, 176505)\t1\n",
            "  (0, 176844)\t1\n",
            "  (0, 178714)\t1\n",
            "  (0, 178997)\t1\n",
            "  (0, 233919)\t1\n",
            "  (0, 241922)\t1\n",
            "  (0, 272108)\t1\n",
            "  (0, 293905)\t1\n",
            "  (0, 294011)\t1\n",
            "  :\t:\n",
            "  (0, 315778)\t1\n",
            "  (0, 316089)\t1\n",
            "  (0, 318265)\t1\n",
            "  (0, 319097)\t1\n",
            "  (0, 333858)\t1\n",
            "  (0, 346945)\t1\n",
            "  (0, 356189)\t1\n",
            "  (0, 356453)\t1\n",
            "  (0, 369530)\t1\n",
            "  (0, 369680)\t1\n",
            "  (0, 419444)\t1\n",
            "  (0, 455684)\t1\n",
            "  (0, 455821)\t1\n",
            "  (0, 481421)\t1\n",
            "  (0, 491887)\t1\n",
            "  (0, 493005)\t1\n",
            "  (0, 493186)\t1\n",
            "  (0, 499430)\t1\n",
            "  (0, 499460)\t1\n",
            "  (0, 510176)\t1\n",
            "  (0, 511355)\t1\n",
            "  (0, 511366)\t1\n",
            "  (0, 512644)\t1\n",
            "  (0, 512892)\t1\n",
            "  (0, 522548)\t1\n",
            "True labels:\tInternet,Sagittarius,female\n",
            "Predicted labels:\tmale\n",
            "\n",
            "\n",
            "Text:\t  (0, 48099)\t1\n",
            "  (0, 94697)\t1\n",
            "  (0, 326243)\t1\n",
            "  (0, 326303)\t1\n",
            "True labels:\tAries,Technology,male\n",
            "Predicted labels:\t\n",
            "\n",
            "\n",
            "Text:\t  (0, 427)\t1\n",
            "  (0, 2239)\t1\n",
            "  (0, 3177)\t1\n",
            "  (0, 3859)\t1\n",
            "  (0, 4773)\t1\n",
            "  (0, 4783)\t1\n",
            "  (0, 6266)\t1\n",
            "  (0, 7257)\t1\n",
            "  (0, 12184)\t1\n",
            "  (0, 13960)\t1\n",
            "  (0, 24123)\t1\n",
            "  (0, 28906)\t1\n",
            "  (0, 31957)\t1\n",
            "  (0, 36691)\t1\n",
            "  (0, 36695)\t1\n",
            "  (0, 41191)\t1\n",
            "  (0, 47111)\t1\n",
            "  (0, 47115)\t1\n",
            "  (0, 47885)\t1\n",
            "  (0, 59401)\t1\n",
            "  (0, 66291)\t1\n",
            "  (0, 70816)\t1\n",
            "  (0, 70837)\t1\n",
            "  (0, 72656)\t1\n",
            "  (0, 73529)\t1\n",
            "  :\t:\n",
            "  (0, 466858)\t1\n",
            "  (0, 466871)\t1\n",
            "  (0, 474270)\t1\n",
            "  (0, 476318)\t1\n",
            "  (0, 476596)\t1\n",
            "  (0, 481078)\t1\n",
            "  (0, 487762)\t1\n",
            "  (0, 488443)\t1\n",
            "  (0, 489776)\t1\n",
            "  (0, 489795)\t1\n",
            "  (0, 496290)\t1\n",
            "  (0, 498070)\t1\n",
            "  (0, 498076)\t1\n",
            "  (0, 500223)\t1\n",
            "  (0, 500241)\t1\n",
            "  (0, 500376)\t1\n",
            "  (0, 500398)\t1\n",
            "  (0, 500404)\t1\n",
            "  (0, 504132)\t1\n",
            "  (0, 504470)\t1\n",
            "  (0, 509653)\t1\n",
            "  (0, 509705)\t1\n",
            "  (0, 517188)\t1\n",
            "  (0, 518838)\t1\n",
            "  (0, 519005)\t1\n",
            "True labels:\tAries,Technology,male\n",
            "Predicted labels:\tAries,Technology,male\n",
            "\n",
            "\n",
            "Text:\t  (0, 36208)\t1\n",
            "  (0, 36209)\t1\n",
            "  (0, 36294)\t1\n",
            "  (0, 36303)\t1\n",
            "  (0, 356189)\t1\n",
            "  (0, 491887)\t1\n",
            "  (0, 492017)\t1\n",
            "  (0, 493803)\t1\n",
            "True labels:\tSagittarius,female,indUnk\n",
            "Predicted labels:\tAries,Technology,male\n",
            "\n",
            "\n",
            "Text:\t  (0, 15332)\t1\n",
            "  (0, 15834)\t1\n",
            "  (0, 20615)\t1\n",
            "  (0, 35636)\t1\n",
            "  (0, 58699)\t1\n",
            "  (0, 61044)\t1\n",
            "  (0, 95793)\t1\n",
            "  (0, 112324)\t1\n",
            "  (0, 112667)\t1\n",
            "  (0, 113728)\t1\n",
            "  (0, 129383)\t1\n",
            "  (0, 129782)\t1\n",
            "  (0, 142458)\t1\n",
            "  (0, 151471)\t1\n",
            "  (0, 151479)\t1\n",
            "  (0, 152763)\t1\n",
            "  (0, 186856)\t1\n",
            "  (0, 187009)\t1\n",
            "  (0, 190853)\t1\n",
            "  (0, 219591)\t1\n",
            "  (0, 242772)\t1\n",
            "  (0, 243052)\t1\n",
            "  (0, 245731)\t1\n",
            "  (0, 251123)\t1\n",
            "  (0, 251718)\t1\n",
            "  (0, 266337)\t1\n",
            "  (0, 267120)\t1\n",
            "  (0, 319283)\t1\n",
            "  (0, 333689)\t1\n",
            "  (0, 334209)\t1\n",
            "  (0, 336988)\t1\n",
            "  (0, 339492)\t1\n",
            "  (0, 339550)\t1\n",
            "  (0, 361826)\t1\n",
            "  (0, 376831)\t1\n",
            "  (0, 395607)\t1\n",
            "  (0, 396236)\t1\n",
            "  (0, 407463)\t1\n",
            "  (0, 424277)\t1\n",
            "  (0, 437350)\t1\n",
            "  (0, 437371)\t1\n",
            "  (0, 438387)\t1\n",
            "  (0, 448504)\t1\n",
            "  (0, 448708)\t1\n",
            "  (0, 452930)\t1\n",
            "  (0, 473263)\t1\n",
            "  (0, 474019)\t1\n",
            "  (0, 487034)\t1\n",
            "  (0, 510324)\t1\n",
            "True labels:\tBusinessServices,Sagittarius,male\n",
            "Predicted labels:\t\n",
            "\n",
            "\n",
            "Text:\t  (0, 116021)\t1\n",
            "  (0, 149018)\t1\n",
            "  (0, 209758)\t1\n",
            "  (0, 210062)\t1\n",
            "  (0, 239386)\t1\n",
            "  (0, 239522)\t1\n",
            "  (0, 325506)\t1\n",
            "  (0, 374327)\t1\n",
            "  (0, 399413)\t1\n",
            "  (0, 400003)\t1\n",
            "  (0, 464565)\t1\n",
            "  (0, 464995)\t1\n",
            "  (0, 503196)\t1\n",
            "  (0, 504024)\t1\n",
            "  (0, 525174)\t1\n",
            "True labels:\tScorpio,female,indUnk\n",
            "Predicted labels:\t\n",
            "\n",
            "\n",
            "Text:\t  (0, 427)\t1\n",
            "  (0, 576)\t1\n",
            "  (0, 3596)\t1\n",
            "  (0, 3859)\t1\n",
            "  (0, 3951)\t1\n",
            "  (0, 6136)\t1\n",
            "  (0, 6155)\t1\n",
            "  (0, 6266)\t1\n",
            "  (0, 6278)\t1\n",
            "  (0, 7526)\t1\n",
            "  (0, 7532)\t1\n",
            "  (0, 7541)\t1\n",
            "  (0, 8624)\t1\n",
            "  (0, 8818)\t1\n",
            "  (0, 18861)\t1\n",
            "  (0, 18879)\t1\n",
            "  (0, 39212)\t1\n",
            "  (0, 57241)\t1\n",
            "  (0, 57465)\t1\n",
            "  (0, 57553)\t1\n",
            "  (0, 57650)\t1\n",
            "  (0, 58305)\t1\n",
            "  (0, 59864)\t1\n",
            "  (0, 63372)\t1\n",
            "  (0, 66874)\t1\n",
            "  :\t:\n",
            "  (0, 401343)\t1\n",
            "  (0, 401807)\t1\n",
            "  (0, 405363)\t1\n",
            "  (0, 405388)\t1\n",
            "  (0, 411278)\t1\n",
            "  (0, 416101)\t1\n",
            "  (0, 424665)\t1\n",
            "  (0, 428169)\t1\n",
            "  (0, 428296)\t1\n",
            "  (0, 440045)\t1\n",
            "  (0, 440236)\t1\n",
            "  (0, 449406)\t1\n",
            "  (0, 452354)\t1\n",
            "  (0, 461327)\t1\n",
            "  (0, 464565)\t1\n",
            "  (0, 467085)\t1\n",
            "  (0, 484838)\t1\n",
            "  (0, 491887)\t1\n",
            "  (0, 493141)\t1\n",
            "  (0, 501082)\t1\n",
            "  (0, 501274)\t1\n",
            "  (0, 506319)\t1\n",
            "  (0, 506486)\t1\n",
            "  (0, 511848)\t1\n",
            "  (0, 512028)\t1\n",
            "True labels:\tAries,Fashion,male\n",
            "Predicted labels:\tAries,male\n",
            "\n",
            "\n",
            "Text:\t  (0, 47885)\t1\n",
            "  (0, 49233)\t1\n",
            "  (0, 151964)\t1\n",
            "  (0, 291022)\t1\n",
            "  (0, 301652)\t1\n",
            "True labels:\tAries,Technology,male\n",
            "Predicted labels:\tAries,Technology,male\n",
            "\n",
            "\n",
            "Text:\t  (0, 181712)\t1\n",
            "  (0, 217806)\t1\n",
            "True labels:\tAries,Technology,male\n",
            "Predicted labels:\tAries,male\n",
            "\n",
            "\n",
            "Text:\t  (0, 21819)\t1\n",
            "  (0, 101425)\t1\n",
            "  (0, 145871)\t1\n",
            "  (0, 145880)\t1\n",
            "  (0, 165532)\t1\n",
            "  (0, 171282)\t1\n",
            "  (0, 176423)\t1\n",
            "  (0, 176424)\t1\n",
            "  (0, 203636)\t1\n",
            "  (0, 226603)\t1\n",
            "  (0, 227281)\t1\n",
            "  (0, 304623)\t1\n",
            "  (0, 304669)\t1\n",
            "  (0, 348679)\t1\n",
            "  (0, 447261)\t1\n",
            "  (0, 491887)\t1\n",
            "  (0, 492491)\t1\n",
            "  (0, 505144)\t1\n",
            "  (0, 509515)\t1\n",
            "  (0, 509609)\t1\n",
            "True labels:\tArts,Cancer,male\n",
            "Predicted labels:\t\n",
            "\n",
            "\n"
          ],
          "name": "stdout"
        }
      ]
    },
    {
      "cell_type": "markdown",
      "metadata": {
        "id": "_cMbYStHzylh"
      },
      "source": [
        "# SVC classification Report"
      ]
    },
    {
      "cell_type": "code",
      "metadata": {
        "colab": {
          "base_uri": "https://localhost:8080/"
        },
        "id": "mkO2OIhjzlrK",
        "outputId": "e4cbd3d3-c4dd-459c-9b35-c3941d08b8bf"
      },
      "source": [
        "PrintClassificationReport('weighted')"
      ],
      "execution_count": null,
      "outputs": [
        {
          "output_type": "stream",
          "text": [
            "Test Accuracy:0.183\n",
            "F1 Score: 0.48446778849823535\n",
            "Precision: 0.7858986403455765\n"
          ],
          "name": "stdout"
        }
      ]
    },
    {
      "cell_type": "code",
      "metadata": {
        "colab": {
          "base_uri": "https://localhost:8080/"
        },
        "id": "YmeyGcfszm36",
        "outputId": "eda61013-1bfe-4596-e5d7-d5bee7896e80"
      },
      "source": [
        "PrintClassificationReport('macro')"
      ],
      "execution_count": null,
      "outputs": [
        {
          "output_type": "stream",
          "text": [
            "Test Accuracy:0.183\n",
            "F1 Score: 0.10298908924497703\n",
            "Precision: 0.26900113335095055\n"
          ],
          "name": "stdout"
        }
      ]
    },
    {
      "cell_type": "code",
      "metadata": {
        "colab": {
          "base_uri": "https://localhost:8080/"
        },
        "id": "HCaEsnK3zne1",
        "outputId": "e76e5259-0e56-4a05-af85-05042ad9c50c"
      },
      "source": [
        "PrintClassificationReport('micro')"
      ],
      "execution_count": null,
      "outputs": [
        {
          "output_type": "stream",
          "text": [
            "Test Accuracy:0.183\n",
            "F1 Score: 0.5125963418842747\n",
            "Precision: 0.8273301151132566\n"
          ],
          "name": "stdout"
        }
      ]
    },
    {
      "cell_type": "markdown",
      "metadata": {
        "id": "Of3eL_IPm8nB"
      },
      "source": [
        "# Display and explain detail the classification report"
      ]
    },
    {
      "cell_type": "markdown",
      "metadata": {
        "id": "WfyoQDCW0f9S"
      },
      "source": [
        "# Getting the Accuracy details for the Predicted Labels\n",
        "1. Accuracy Score : Test Accuracy score, predicting the labels based on the blog text\n",
        "2. Fl Score: The F1 score is a weighted average of the precision and recall, higher the F1 score, better the prediction    \n",
        "3.1 Macro averaged precision: calculate precision for all classes individually and then average them\n",
        "    3.2 Micro averaged precision: calculate class wise true positive and false positive and then use that to calculate overall precision\n",
        "4. Average recall score\n",
        "\n",
        "Precision: What proportion of positive identifications was actually correct?\n",
        "Recall: What proportion of actual positives was identified correctly?"
      ]
    },
    {
      "cell_type": "markdown",
      "metadata": {
        "id": "cEMc_bwKnBf0"
      },
      "source": [
        "# Print the true vs predicted labels for any 5 entries from the dataset"
      ]
    },
    {
      "cell_type": "code",
      "metadata": {
        "colab": {
          "base_uri": "https://localhost:8080/"
        },
        "id": "Hy4E7c50h91G",
        "outputId": "4c8c03db-7ec6-48b8-9886-113688b634b7"
      },
      "source": [
        "import random\n",
        "j=[]\n",
        "for i in range(5):\n",
        "    j.append(random.randint(300,len(y_pred)))\n",
        "   \n",
        "print(j)\n",
        "\n",
        "for k in j:    \n",
        "    print('Actual: ',binarizer.inverse_transform(y_test)[k])\n",
        "    print('Predicted: ',binarizer.inverse_transform(y_pred)[k])\n",
        "    print(\"|_____________________________________________________|\")"
      ],
      "execution_count": null,
      "outputs": [
        {
          "output_type": "stream",
          "text": [
            "[1850, 569, 1519, 1649, 1220]\n",
            "Actual:  ('Aries', 'Technology', 'male')\n",
            "Predicted:  ('Technology',)\n",
            "|_____________________________________________________|\n",
            "Actual:  ('Cancer', 'Non-Profit', 'male')\n",
            "Predicted:  ('male',)\n",
            "|_____________________________________________________|\n",
            "Actual:  ('Aries', 'Technology', 'male')\n",
            "Predicted:  ()\n",
            "|_____________________________________________________|\n",
            "Actual:  ('Aries', 'Technology', 'male')\n",
            "Predicted:  ('Aries', 'Technology', 'male')\n",
            "|_____________________________________________________|\n",
            "Actual:  ('Gemini', 'female', 'indUnk')\n",
            "Predicted:  ()\n",
            "|_____________________________________________________|\n"
          ],
          "name": "stdout"
        }
      ]
    },
    {
      "cell_type": "code",
      "metadata": {
        "id": "y2-hhyYNtVfX"
      },
      "source": [
        ""
      ],
      "execution_count": null,
      "outputs": []
    }
  ]
}